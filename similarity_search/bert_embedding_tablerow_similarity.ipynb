{
 "cells": [
  {
   "cell_type": "code",
   "execution_count": 1,
   "metadata": {},
   "outputs": [
    {
     "name": "stderr",
     "output_type": "stream",
     "text": [
      "/mnt/gime-extract/miniconda3/envs/llmenv/lib/python3.10/site-packages/tqdm/auto.py:21: TqdmWarning: IProgress not found. Please update jupyter and ipywidgets. See https://ipywidgets.readthedocs.io/en/stable/user_install.html\n",
      "  from .autonotebook import tqdm as notebook_tqdm\n"
     ]
    }
   ],
   "source": [
    "from sklearn.metrics.pairwise import cosine_similarity\n",
    "from transformers import AutoTokenizer\n",
    "from bs4 import BeautifulSoup\n",
    "from io import StringIO\n",
    "import csv\n",
    "from tqdm import tqdm\n",
    "import pandas as pd\n",
    "import numpy as np"
   ]
  },
  {
   "cell_type": "code",
   "execution_count": 2,
   "metadata": {},
   "outputs": [],
   "source": [
    "from sentence_transformers import SentenceTransformer\n",
    "sentences = [\"This is an example sentence\"]\n",
    "\n",
    "model = SentenceTransformer('sentence-transformers/bert-base-nli-mean-tokens')\n",
    "embeddings = model.encode(sentences)"
   ]
  },
  {
   "cell_type": "code",
   "execution_count": 3,
   "metadata": {},
   "outputs": [],
   "source": [
    "data = pd.read_csv('../data/pseudo_json_dataset_V3_2048.csv')"
   ]
  },
  {
   "cell_type": "code",
   "execution_count": 4,
   "metadata": {},
   "outputs": [],
   "source": [
    "output_df = pd.DataFrame(columns=['index', 'question', 'csv_row', 'cosine_similarity', 'dot_product_similarity'])"
   ]
  },
  {
   "cell_type": "code",
   "execution_count": 5,
   "metadata": {},
   "outputs": [
    {
     "data": {
      "text/html": [
       "<div>\n",
       "<style scoped>\n",
       "    .dataframe tbody tr th:only-of-type {\n",
       "        vertical-align: middle;\n",
       "    }\n",
       "\n",
       "    .dataframe tbody tr th {\n",
       "        vertical-align: top;\n",
       "    }\n",
       "\n",
       "    .dataframe thead th {\n",
       "        text-align: right;\n",
       "    }\n",
       "</style>\n",
       "<table border=\"1\" class=\"dataframe\">\n",
       "  <thead>\n",
       "    <tr style=\"text-align: right;\">\n",
       "      <th></th>\n",
       "      <th>Index of data without headers</th>\n",
       "      <th>Index of data with multiple headers</th>\n",
       "      <th>Unnamed: 2</th>\n",
       "      <th>Unnamed: 3</th>\n",
       "      <th>Unnamed: 4</th>\n",
       "    </tr>\n",
       "  </thead>\n",
       "  <tbody>\n",
       "    <tr>\n",
       "      <th>0</th>\n",
       "      <td>1</td>\n",
       "      <td>692.0</td>\n",
       "      <td>NaN</td>\n",
       "      <td>NaN</td>\n",
       "      <td></td>\n",
       "    </tr>\n",
       "    <tr>\n",
       "      <th>1</th>\n",
       "      <td>36</td>\n",
       "      <td>712.0</td>\n",
       "      <td>NaN</td>\n",
       "      <td>NaN</td>\n",
       "      <td>NaN</td>\n",
       "    </tr>\n",
       "    <tr>\n",
       "      <th>2</th>\n",
       "      <td>60</td>\n",
       "      <td>NaN</td>\n",
       "      <td>NaN</td>\n",
       "      <td>NaN</td>\n",
       "      <td>NaN</td>\n",
       "    </tr>\n",
       "    <tr>\n",
       "      <th>3</th>\n",
       "      <td>90</td>\n",
       "      <td>NaN</td>\n",
       "      <td>NaN</td>\n",
       "      <td>NaN</td>\n",
       "      <td>NaN</td>\n",
       "    </tr>\n",
       "    <tr>\n",
       "      <th>4</th>\n",
       "      <td>111</td>\n",
       "      <td>NaN</td>\n",
       "      <td>NaN</td>\n",
       "      <td>NaN</td>\n",
       "      <td>NaN</td>\n",
       "    </tr>\n",
       "  </tbody>\n",
       "</table>\n",
       "</div>"
      ],
      "text/plain": [
       "   Index of data without headers  Index of data with multiple headers  \\\n",
       "0                              1                                692.0   \n",
       "1                             36                                712.0   \n",
       "2                             60                                  NaN   \n",
       "3                             90                                  NaN   \n",
       "4                            111                                  NaN   \n",
       "\n",
       "   Unnamed: 2  Unnamed: 3 Unnamed: 4  \n",
       "0         NaN         NaN             \n",
       "1         NaN         NaN        NaN  \n",
       "2         NaN         NaN        NaN  \n",
       "3         NaN         NaN        NaN  \n",
       "4         NaN         NaN        NaN  "
      ]
     },
     "execution_count": 5,
     "metadata": {},
     "output_type": "execute_result"
    }
   ],
   "source": [
    "index_df = pd.read_csv('../data/index_info.csv')\n",
    "index_df.head()"
   ]
  },
  {
   "cell_type": "code",
   "execution_count": 6,
   "metadata": {},
   "outputs": [],
   "source": [
    "index_info = index_df['Index of data without headers'].to_list()"
   ]
  },
  {
   "cell_type": "code",
   "execution_count": 7,
   "metadata": {},
   "outputs": [
    {
     "name": "stderr",
     "output_type": "stream",
     "text": [
      "1it [00:00,  9.91it/s]"
     ]
    },
    {
     "name": "stderr",
     "output_type": "stream",
     "text": [
      "2000it [03:14, 10.28it/s]\n"
     ]
    }
   ],
   "source": [
    "# with open(filename, 'w') as file:\n",
    "count = 0\n",
    "for i, row in tqdm(data[:2000].iterrows()):\n",
    "    soup = BeautifulSoup(row['html_content'], 'html.parser')\n",
    "\n",
    "    # Find the table\n",
    "    table = soup.find('table')\n",
    "    # Open StringIO object for writing\n",
    "    csv_buffer = StringIO()\n",
    "\n",
    "\n",
    "    trows = table.find_all('tr')\n",
    "    question_embed = model.encode(row['question'])\n",
    "    \n",
    "    if row['index'] not in index_info: \n",
    "        header = trows[0]\n",
    "\n",
    "        for trow in trows[1:]:\n",
    "            writer = csv.writer(csv_buffer)\n",
    "            writer.writerow([cell.get_text() for cell in trow.find_all(['td', 'th'])])\n",
    "            csv_data = csv_buffer.getvalue().replace('\\n', '').replace('  ', '')\n",
    "            csv_data_embed = model.encode(csv_data)\n",
    "            csv_buffer = StringIO()\n",
    "            sim = np.dot(csv_data_embed, question_embed)\n",
    "            cosine_sim = cosine_similarity(csv_data_embed.reshape(1, -1), question_embed.reshape(1, -1))[0][0]\n",
    "            output_df.at[count, 'question'] = row['question']\n",
    "            output_df.at[count, 'cosine_similarity'] = cosine_sim\n",
    "            output_df.at[count, 'dot_product_similarity'] = sim\n",
    "            output_df.at[count, 'csv_row'] = csv_data\n",
    "            output_df.at[count, 'index'] = row['index']\n",
    "            count+=1\n",
    "    else:\n",
    "        for trow in trows:\n",
    "            writer = csv.writer(csv_buffer)\n",
    "            writer.writerow([cell.get_text() for cell in trow.find_all(['td', 'th'])])\n",
    "            csv_data = csv_buffer.getvalue().replace('\\n', '').replace('  ', '')\n",
    "            csv_data_embed = model.encode(csv_data)\n",
    "            csv_buffer = StringIO()\n",
    "            sim = np.dot(csv_data_embed, question_embed)\n",
    "            cosine_sim = cosine_similarity(csv_data_embed.reshape(1, -1), question_embed.reshape(1, -1))[0][0]\n",
    "            output_df.at[count, 'question'] = row['question']\n",
    "            output_df.at[count, 'cosine_similarity'] = cosine_sim\n",
    "            output_df.at[count, 'dot_product_similarity'] = sim\n",
    "            output_df.at[count, 'csv_row'] = csv_data\n",
    "            output_df.at[count, 'index'] = row['index']\n",
    "            count+=1\n",
    "        \n",
    "        # writer.writerow([cell.get_text() for cell in trow.find_all(['td', 'th'])])\n",
    "\n",
    "\n",
    "    # Get the CSV data as a string\n",
    "    "
   ]
  },
  {
   "cell_type": "code",
   "execution_count": 8,
   "metadata": {},
   "outputs": [],
   "source": [
    "output_df.to_csv('../embedding_similarity/sentence_transformers/bert_base_nli_mean_tokens_v1.csv', index=False)"
   ]
  },
  {
   "cell_type": "code",
   "execution_count": 9,
   "metadata": {},
   "outputs": [],
   "source": [
    "model_id = 'RUCKBReasoning/TableLLM-7b'\n",
    "tokenizer = AutoTokenizer.from_pretrained(model_id)"
   ]
  },
  {
   "cell_type": "code",
   "execution_count": 10,
   "metadata": {},
   "outputs": [
    {
     "name": "stderr",
     "output_type": "stream",
     "text": [
      "0it [00:00, ?it/s]\n"
     ]
    },
    {
     "ename": "ValueError",
     "evalue": "shapes (52,) and (20,) not aligned: 52 (dim 0) != 20 (dim 0)",
     "output_type": "error",
     "traceback": [
      "\u001b[0;31m---------------------------------------------------------------------------\u001b[0m",
      "\u001b[0;31mValueError\u001b[0m                                Traceback (most recent call last)",
      "Cell \u001b[0;32mIn[10], line 22\u001b[0m\n\u001b[1;32m     20\u001b[0m csv_data_embed \u001b[38;5;241m=\u001b[39m tokenizer\u001b[38;5;241m.\u001b[39mencode(csv_data)\n\u001b[1;32m     21\u001b[0m csv_buffer \u001b[38;5;241m=\u001b[39m StringIO()\n\u001b[0;32m---> 22\u001b[0m sim \u001b[38;5;241m=\u001b[39m \u001b[43mnp\u001b[49m\u001b[38;5;241;43m.\u001b[39;49m\u001b[43mdot\u001b[49m\u001b[43m(\u001b[49m\u001b[43mcsv_data_embed\u001b[49m\u001b[43m,\u001b[49m\u001b[43m \u001b[49m\u001b[43mquestion_embed\u001b[49m\u001b[43m)\u001b[49m\n\u001b[1;32m     23\u001b[0m cosine_sim \u001b[38;5;241m=\u001b[39m cosine_similarity(csv_data_embed\u001b[38;5;241m.\u001b[39mreshape(\u001b[38;5;241m1\u001b[39m, \u001b[38;5;241m-\u001b[39m\u001b[38;5;241m1\u001b[39m), question_embed\u001b[38;5;241m.\u001b[39mreshape(\u001b[38;5;241m1\u001b[39m, \u001b[38;5;241m-\u001b[39m\u001b[38;5;241m1\u001b[39m))[\u001b[38;5;241m0\u001b[39m][\u001b[38;5;241m0\u001b[39m]\n\u001b[1;32m     24\u001b[0m output_df\u001b[38;5;241m.\u001b[39mat[count, \u001b[38;5;124m'\u001b[39m\u001b[38;5;124mquestion\u001b[39m\u001b[38;5;124m'\u001b[39m] \u001b[38;5;241m=\u001b[39m row[\u001b[38;5;124m'\u001b[39m\u001b[38;5;124mquestion\u001b[39m\u001b[38;5;124m'\u001b[39m]\n",
      "\u001b[0;31mValueError\u001b[0m: shapes (52,) and (20,) not aligned: 52 (dim 0) != 20 (dim 0)"
     ]
    },
    {
     "ename": "",
     "evalue": "",
     "output_type": "error",
     "traceback": [
      "\u001b[1;31mThe Kernel crashed while executing code in the the current cell or a previous cell. Please review the code in the cell(s) to identify a possible cause of the failure. Click <a href='https://aka.ms/vscodeJupyterKernelCrash'>here</a> for more info. View Jupyter <a href='command:jupyter.viewOutput'>log</a> for further details."
     ]
    }
   ],
   "source": [
    "# with open(filename, 'w') as file:\n",
    "count = 0\n",
    "for i, row in tqdm(data[:2000].iterrows()):\n",
    "    soup = BeautifulSoup(row['html_content'], 'html.parser')\n",
    "\n",
    "    # Find the table\n",
    "    table = soup.find('table')\n",
    "    # Open StringIO object for writing\n",
    "    csv_buffer = StringIO()\n",
    "\n",
    "\n",
    "    trows = table.find_all('tr')\n",
    "    header = trows[0]\n",
    "    question_embed = tokenizer.encode(row['question'])\n",
    "\n",
    "    for trow in trows[1:]:\n",
    "        writer = csv.writer(csv_buffer)\n",
    "        writer.writerow([cell.get_text() for cell in trow.find_all(['td', 'th'])])\n",
    "        csv_data = csv_buffer.getvalue()\n",
    "        csv_data_embed = tokenizer.encode(csv_data)\n",
    "        csv_buffer = StringIO()\n",
    "        sim = np.dot(csv_data_embed, question_embed)\n",
    "        cosine_sim = cosine_similarity(csv_data_embed.reshape(1, -1), question_embed.reshape(1, -1))[0][0]\n",
    "        output_df.at[count, 'question'] = row['question']\n",
    "        output_df.at[count, 'cosine_similarity'] = cosine_sim\n",
    "        output_df.at[count, 'dot_product_similarity'] = sim\n",
    "        output_df.at[count, 'csv_row'] = csv_data.replace('\\n', '').replace('  ', '')\n",
    "        output_df.at[count, 'index'] = row['index']\n",
    "        count+=1\n",
    "        # writer.writerow([cell.get_text() for cell in trow.find_all(['td', 'th'])])\n",
    "\n",
    "\n",
    "    # Get the CSV data as a string\n",
    "    "
   ]
  },
  {
   "cell_type": "code",
   "execution_count": null,
   "metadata": {},
   "outputs": [
    {
     "name": "stdout",
     "output_type": "stream",
     "text": [
      "Count of the same values in both lists: 4\n"
     ]
    }
   ],
   "source": [
    "a = [2, 3, 2, 56, 78, 99]\n",
    "b = [3, 44, 2, 2, 5, 99, 22, 33, 44, 66, 88, 99]\n",
    "\n",
    "# Count occurrences of elements in list a\n",
    "a_counts = {}\n",
    "for item in a:\n",
    "    a_counts[item] = a_counts.get(item, 0) + 1\n",
    "\n",
    "# Count occurrences of elements in list b\n",
    "b_counts = {}\n",
    "for item in b:\n",
    "    b_counts[item] = b_counts.get(item, 0) + 1\n",
    "\n",
    "# Find common elements and count their occurrences\n",
    "common_values_count = 0\n",
    "for item, count in a_counts.items():\n",
    "    if item in b_counts:\n",
    "        common_values_count += min(count, b_counts[item])\n",
    "\n",
    "print(\"Count of the same values in both lists:\", common_values_count)"
   ]
  },
  {
   "cell_type": "code",
   "execution_count": null,
   "metadata": {},
   "outputs": [],
   "source": []
  }
 ],
 "metadata": {
  "kernelspec": {
   "display_name": ".venv",
   "language": "python",
   "name": "python3"
  },
  "language_info": {
   "codemirror_mode": {
    "name": "ipython",
    "version": 3
   },
   "file_extension": ".py",
   "mimetype": "text/x-python",
   "name": "python",
   "nbconvert_exporter": "python",
   "pygments_lexer": "ipython3",
   "version": "3.10.13"
  }
 },
 "nbformat": 4,
 "nbformat_minor": 2
}
