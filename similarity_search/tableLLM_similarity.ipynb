{
 "cells": [
  {
   "cell_type": "code",
   "execution_count": 1,
   "metadata": {},
   "outputs": [
    {
     "name": "stderr",
     "output_type": "stream",
     "text": [
      "/mnt/gime-extract/miniconda3/envs/llmenv/lib/python3.10/site-packages/tqdm/auto.py:21: TqdmWarning: IProgress not found. Please update jupyter and ipywidgets. See https://ipywidgets.readthedocs.io/en/stable/user_install.html\n",
      "  from .autonotebook import tqdm as notebook_tqdm\n"
     ]
    }
   ],
   "source": [
    "import pandas as pd\n",
    "from bs4 import BeautifulSoup\n",
    "from sklearn.metrics.pairwise import cosine_similarity\n",
    "from io import StringIO\n",
    "import csv\n",
    "import torch\n",
    "import heapq\n",
    "from transformers import (\n",
    "    AutoTokenizer,\n",
    "    AutoModelForCausalLM\n",
    ")\n",
    "\n",
    "\n",
    "from tqdm import tqdm\n",
    "import numpy as np\n",
    "import pandas as pd\n",
    "\n",
    "data = pd.read_csv('../data/pseudo_json_dataset_V3_2048.csv')"
   ]
  },
  {
   "cell_type": "code",
   "execution_count": 2,
   "metadata": {},
   "outputs": [],
   "source": [
    "model_id = 'RUCKBReasoning/TableLLM-7b'\n",
    "tokenizer = AutoTokenizer.from_pretrained(model_id)"
   ]
  },
  {
   "cell_type": "code",
   "execution_count": 3,
   "metadata": {},
   "outputs": [
    {
     "data": {
      "text/html": [
       "<div>\n",
       "<style scoped>\n",
       "    .dataframe tbody tr th:only-of-type {\n",
       "        vertical-align: middle;\n",
       "    }\n",
       "\n",
       "    .dataframe tbody tr th {\n",
       "        vertical-align: top;\n",
       "    }\n",
       "\n",
       "    .dataframe thead th {\n",
       "        text-align: right;\n",
       "    }\n",
       "</style>\n",
       "<table border=\"1\" class=\"dataframe\">\n",
       "  <thead>\n",
       "    <tr style=\"text-align: right;\">\n",
       "      <th></th>\n",
       "      <th>Index of data without headers</th>\n",
       "      <th>Index of data with multiple headers</th>\n",
       "      <th>Unnamed: 2</th>\n",
       "      <th>Unnamed: 3</th>\n",
       "      <th>Unnamed: 4</th>\n",
       "    </tr>\n",
       "  </thead>\n",
       "  <tbody>\n",
       "    <tr>\n",
       "      <th>0</th>\n",
       "      <td>1</td>\n",
       "      <td>692.0</td>\n",
       "      <td>NaN</td>\n",
       "      <td>NaN</td>\n",
       "      <td></td>\n",
       "    </tr>\n",
       "    <tr>\n",
       "      <th>1</th>\n",
       "      <td>36</td>\n",
       "      <td>712.0</td>\n",
       "      <td>NaN</td>\n",
       "      <td>NaN</td>\n",
       "      <td>NaN</td>\n",
       "    </tr>\n",
       "    <tr>\n",
       "      <th>2</th>\n",
       "      <td>60</td>\n",
       "      <td>NaN</td>\n",
       "      <td>NaN</td>\n",
       "      <td>NaN</td>\n",
       "      <td>NaN</td>\n",
       "    </tr>\n",
       "    <tr>\n",
       "      <th>3</th>\n",
       "      <td>90</td>\n",
       "      <td>NaN</td>\n",
       "      <td>NaN</td>\n",
       "      <td>NaN</td>\n",
       "      <td>NaN</td>\n",
       "    </tr>\n",
       "    <tr>\n",
       "      <th>4</th>\n",
       "      <td>111</td>\n",
       "      <td>NaN</td>\n",
       "      <td>NaN</td>\n",
       "      <td>NaN</td>\n",
       "      <td>NaN</td>\n",
       "    </tr>\n",
       "  </tbody>\n",
       "</table>\n",
       "</div>"
      ],
      "text/plain": [
       "   Index of data without headers  Index of data with multiple headers  \\\n",
       "0                              1                                692.0   \n",
       "1                             36                                712.0   \n",
       "2                             60                                  NaN   \n",
       "3                             90                                  NaN   \n",
       "4                            111                                  NaN   \n",
       "\n",
       "   Unnamed: 2  Unnamed: 3 Unnamed: 4  \n",
       "0         NaN         NaN             \n",
       "1         NaN         NaN        NaN  \n",
       "2         NaN         NaN        NaN  \n",
       "3         NaN         NaN        NaN  \n",
       "4         NaN         NaN        NaN  "
      ]
     },
     "execution_count": 3,
     "metadata": {},
     "output_type": "execute_result"
    }
   ],
   "source": [
    "index_df = pd.read_csv('../data/index_info.csv')\n",
    "index_df.head()"
   ]
  },
  {
   "cell_type": "code",
   "execution_count": 4,
   "metadata": {},
   "outputs": [
    {
     "name": "stderr",
     "output_type": "stream",
     "text": [
      "Loading checkpoint shards: 100%|██████████| 3/3 [02:37<00:00, 52.64s/it]\n"
     ]
    }
   ],
   "source": [
    "model = AutoModelForCausalLM.from_pretrained(\n",
    "    model_id, device_map=\"auto\", torch_dtype=torch.float16,\n",
    ")"
   ]
  },
  {
   "cell_type": "code",
   "execution_count": 5,
   "metadata": {},
   "outputs": [],
   "source": [
    "index_info = index_df['Index of data without headers'].to_list()"
   ]
  },
  {
   "cell_type": "code",
   "execution_count": 6,
   "metadata": {},
   "outputs": [],
   "source": [
    "device = torch.device('cuda:0')"
   ]
  },
  {
   "cell_type": "code",
   "execution_count": 7,
   "metadata": {},
   "outputs": [],
   "source": [
    "def convert_to_embeddings(text):\n",
    "    tokens = tokenizer.tokenize(text)\n",
    "    token_id = tokenizer.convert_tokens_to_ids(tokens)\n",
    "    embeddings = model.model.embed_tokens(torch.tensor(token_id).to(device))\n",
    "    return embeddings.to('cpu').detach().numpy()"
   ]
  },
  {
   "cell_type": "code",
   "execution_count": 14,
   "metadata": {},
   "outputs": [],
   "source": [
    "output_df = pd.DataFrame(columns=['index', 'question', 'csv_row', 'cosine_similarity'])"
   ]
  },
  {
   "cell_type": "code",
   "execution_count": 15,
   "metadata": {},
   "outputs": [
    {
     "name": "stderr",
     "output_type": "stream",
     "text": [
      "2000it [00:41, 48.27it/s]\n"
     ]
    }
   ],
   "source": [
    "# with open(filename, 'w') as file:\n",
    "count = 0\n",
    "for i, row in tqdm(data[:2000].iterrows()):\n",
    "    soup = BeautifulSoup(row['html_content'], 'html.parser')\n",
    "\n",
    "    # Find the table\n",
    "    table = soup.find('table')\n",
    "    # Open StringIO object for writing\n",
    "    csv_buffer = StringIO()\n",
    "\n",
    "\n",
    "    trows = table.find_all('tr')\n",
    "    question_embed = convert_to_embeddings(row['question'])\n",
    "    \n",
    "    if row['index'] not in index_info: \n",
    "        header = trows[0]\n",
    "\n",
    "        for trow in trows[1:]:\n",
    "            writer = csv.writer(csv_buffer)\n",
    "            writer.writerow([cell.get_text() for cell in trow.find_all(['td', 'th'])])\n",
    "            csv_data = csv_buffer.getvalue().replace('\\n', '').replace('  ', '')\n",
    "            csv_data_embed = convert_to_embeddings(csv_data)\n",
    "            csv_buffer = StringIO()\n",
    "            cosine_sim = cosine_similarity(csv_data_embed, question_embed)\n",
    "            cosine_sim = cosine_sim.sum() / ( cosine_sim.shape[0] * cosine_sim.shape[1] )\n",
    "            output_df.at[count, 'question'] = row['question']\n",
    "            output_df.at[count, 'cosine_similarity'] = cosine_sim\n",
    "            output_df.at[count, 'csv_row'] = csv_data\n",
    "            output_df.at[count, 'index'] = row['index']\n",
    "            count+=1\n",
    "    else:\n",
    "        for trow in trows:\n",
    "            writer = csv.writer(csv_buffer)\n",
    "            writer.writerow([cell.get_text() for cell in trow.find_all(['td', 'th'])])\n",
    "            csv_data = csv_buffer.getvalue().replace('\\n', '').replace('  ', '')\n",
    "            csv_data_embed = convert_to_embeddings(csv_data)\n",
    "            csv_buffer = StringIO()\n",
    "            cosine_sim = cosine_similarity(csv_data_embed, question_embed)\n",
    "            cosine_sim = cosine_sim.sum() / ( cosine_sim.shape[0] * cosine_sim.shape[1] )\n",
    "            output_df.at[count, 'question'] = row['question']\n",
    "            output_df.at[count, 'cosine_similarity'] = cosine_sim\n",
    "            output_df.at[count, 'csv_row'] = csv_data\n",
    "            output_df.at[count, 'index'] = row['index']\n",
    "            count+=1\n",
    "        \n",
    "        # writer.writerow([cell.get_text() for cell in trow.find_all(['td', 'th'])])\n",
    "\n",
    "\n",
    "    # Get the CSV data as a string\n",
    "    "
   ]
  },
  {
   "cell_type": "code",
   "execution_count": 16,
   "metadata": {},
   "outputs": [
    {
     "ename": "",
     "evalue": "",
     "output_type": "error",
     "traceback": [
      "\u001b[1;31mThe Kernel crashed while executing code in the the current cell or a previous cell. Please review the code in the cell(s) to identify a possible cause of the failure. Click <a href='https://aka.ms/vscodeJupyterKernelCrash'>here</a> for more info. View Jupyter <a href='command:jupyter.viewOutput'>log</a> for further details."
     ]
    }
   ],
   "source": [
    "output_df.to_csv('../embedding_similarity/table7B_LLM.csv', index=False)"
   ]
  },
  {
   "cell_type": "code",
   "execution_count": null,
   "metadata": {},
   "outputs": [],
   "source": []
  }
 ],
 "metadata": {
  "kernelspec": {
   "display_name": ".venv",
   "language": "python",
   "name": "python3"
  },
  "language_info": {
   "codemirror_mode": {
    "name": "ipython",
    "version": 3
   },
   "file_extension": ".py",
   "mimetype": "text/x-python",
   "name": "python",
   "nbconvert_exporter": "python",
   "pygments_lexer": "ipython3",
   "version": "3.10.13"
  }
 },
 "nbformat": 4,
 "nbformat_minor": 2
}
