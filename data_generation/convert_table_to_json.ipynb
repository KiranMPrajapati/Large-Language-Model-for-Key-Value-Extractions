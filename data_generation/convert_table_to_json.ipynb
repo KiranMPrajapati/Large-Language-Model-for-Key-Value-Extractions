{
 "cells": [
  {
   "cell_type": "code",
   "execution_count": 57,
   "id": "33623614-20f7-4932-9859-bbb6f9cb9ece",
   "metadata": {},
   "outputs": [],
   "source": [
    "import pandas as pd\n",
    "from tqdm import tqdm\n",
    "from bs4 import BeautifulSoup"
   ]
  },
  {
   "cell_type": "code",
   "execution_count": 2,
   "id": "2a8a97e6-90c9-47f1-ae53-5761e1e192f8",
   "metadata": {},
   "outputs": [],
   "source": [
    "df = pd.read_csv('convfinqa_in_different_format.csv')"
   ]
  },
  {
   "cell_type": "code",
   "execution_count": 51,
   "id": "0cadec8b-a440-47b4-a3f9-f1dc45ec70ad",
   "metadata": {},
   "outputs": [],
   "source": [
    "index_df = pd.read_csv('index_info.csv')\n",
    "index_info = index_df['Index of data without headers'].to_list()"
   ]
  },
  {
   "cell_type": "code",
   "execution_count": 3,
   "id": "e9183be0-eac4-4c53-9093-8fe4c0123384",
   "metadata": {},
   "outputs": [
    {
     "data": {
      "text/plain": [
       "(17612, 5)"
      ]
     },
     "execution_count": 3,
     "metadata": {},
     "output_type": "execute_result"
    }
   ],
   "source": [
    "df.shape"
   ]
  },
  {
   "cell_type": "code",
   "execution_count": 5,
   "id": "57a782ac-0338-468b-9912-f33795dcecf5",
   "metadata": {},
   "outputs": [],
   "source": [
    "html_content = df.loc[0, 'html_content']"
   ]
  },
  {
   "cell_type": "code",
   "execution_count": 58,
   "id": "11f9be70-d46c-45e7-aca6-99a697dccfc6",
   "metadata": {},
   "outputs": [],
   "source": [
    "def convert_table_to_json(index, html_content):\n",
    "    if index in index_info: \n",
    "        # Parse HTML content\n",
    "        soup = BeautifulSoup(html_content, 'html.parser')\n",
    "        \n",
    "        # Find the table\n",
    "        table = soup.find('table')\n",
    "        \n",
    "        # Extract table data and format into a dictionary\n",
    "        table_dict = {}\n",
    "        for row in table.find_all('tr'):\n",
    "            cells = row.find_all('td')\n",
    "            if len(cells) == 3:\n",
    "                key = cells[1].get_text(strip=True)\n",
    "                value = cells[2].get_text(strip=True)\n",
    "                table_dict[key] = value\n",
    "        \n",
    "        # Convert the dictionary to a string\n",
    "        table_str = str(table_dict)\n",
    "    \n",
    "        # Convert the tag object to a string\n",
    "        tag_str = str(table)\n",
    "    \n",
    "        # Concatenate the table string with the remaining HTML content\n",
    "        output_html = str(soup).replace(tag_str, table_str)\n",
    "        # output_html = html_content.replace('</body>', f'{table_str} .\\n </body>')\n",
    "    else:\n",
    "        # Parse HTML content\n",
    "        soup = BeautifulSoup(html_content, 'html.parser')\n",
    "        \n",
    "        # Find the table\n",
    "        table = soup.find('table')\n",
    "        \n",
    "        # Initialize the result dictionary\n",
    "        result = {}\n",
    "        \n",
    "        # Extract data from the table\n",
    "        rows = table.find_all('tr')\n",
    "        header_row = rows[0]\n",
    "        headers = [header.text.strip() for header in header_row.find_all('td')[1:]]  # Exclude the first column\n",
    "        for row in rows[1:]:\n",
    "            columns = row.find_all('td')\n",
    "            category = columns[1].text.strip()\n",
    "            data = {header: column.text.strip() for header, column in zip(headers, columns[2:])}\n",
    "            result[category] = data\n",
    "        # Convert the dictionary to a string\n",
    "        table_str = str(result)\n",
    "    \n",
    "        # Convert the tag object to a string\n",
    "        tag_str = str(table)\n",
    "    \n",
    "        # Concatenate the table string with the remaining HTML content\n",
    "        output_html = str(soup).replace(tag_str, table_str)\n",
    "        # output_html = html_content.replace('</body>', f'{table_str} .\\n </body>')\n",
    "    return output_html  "
   ]
  },
  {
   "cell_type": "code",
   "execution_count": 59,
   "id": "a842a622-515f-43cf-9f93-9d8b95c23816",
   "metadata": {},
   "outputs": [
    {
     "name": "stderr",
     "output_type": "stream",
     "text": [
      "17612it [00:45, 387.74it/s]\n"
     ]
    }
   ],
   "source": [
    "for i, row in tqdm(df.iterrows()):\n",
    "    output = convert_table_to_json(row['index'], row['html_content'])\n",
    "    df.at[i, 'json_encoding'] = output"
   ]
  },
  {
   "cell_type": "code",
   "execution_count": 47,
   "id": "efffbefc-4298-457a-af1c-e70c4de85f42",
   "metadata": {},
   "outputs": [],
   "source": [
    "html_content = df.loc[5, 'html_content']"
   ]
  },
  {
   "cell_type": "code",
   "execution_count": 48,
   "id": "4ff20c62-ce10-4068-a61f-a36131ff186b",
   "metadata": {},
   "outputs": [
    {
     "name": "stdout",
     "output_type": "stream",
     "text": [
      "{'sales and service revenues': {'( $ in millions except per share amounts )': '$ 1562', 'year ended december 31 2013 1st qtr': '$ 1683', 'year ended december 31 2013 2nd qtr': '$ 1637', 'year ended december 31 2013 3rd qtr': '$ 1938'}, 'operating income ( loss )': {'( $ in millions except per share amounts )': '95', 'year ended december 31 2013 1st qtr': '116', 'year ended december 31 2013 2nd qtr': '127', 'year ended december 31 2013 3rd qtr': '174'}, 'earnings ( loss ) before income taxes': {'( $ in millions except per share amounts )': '65', 'year ended december 31 2013 1st qtr': '87', 'year ended december 31 2013 2nd qtr': '99', 'year ended december 31 2013 3rd qtr': '143'}, 'net earnings ( loss )': {'( $ in millions except per share amounts )': '44', 'year ended december 31 2013 1st qtr': '57', 'year ended december 31 2013 2nd qtr': '69', 'year ended december 31 2013 3rd qtr': '91'}, 'dividends declared per share': {'( $ in millions except per share amounts )': '$ 0.10', 'year ended december 31 2013 1st qtr': '$ 0.10', 'year ended december 31 2013 2nd qtr': '$ 0.10', 'year ended december 31 2013 3rd qtr': '$ 0.20'}, 'basic earnings ( loss ) per share': {'( $ in millions except per share amounts )': '$ 0.88', 'year ended december 31 2013 1st qtr': '$ 1.14', 'year ended december 31 2013 2nd qtr': '$ 1.38', 'year ended december 31 2013 3rd qtr': '$ 1.86'}, 'diluted earnings ( loss ) per share': {'( $ in millions except per share amounts )': '$ 0.87', 'year ended december 31 2013 1st qtr': '$ 1.12', 'year ended december 31 2013 2nd qtr': '$ 1.36', 'year ended december 31 2013 3rd qtr': '$ 1.82'}}\n"
     ]
    },
    {
     "data": {
      "text/plain": [
       "'<html>\\n<body>\\n  \"three factor formula\" ) . the consolidated financial statements include northrop grumman management and support services allocations totaling $ 32 million for the year ended december 31 , 2011 . shared services and infrastructure costs - this category includes costs for functions such as information technology support , systems maintenance , telecommunications , procurement and other shared services while hii was a subsidiary of northrop grumman . these costs were generally allocated to the company using the three factor formula or based on usage . the consolidated financial statements reflect shared services and infrastructure costs allocations totaling $ 80 million for the year ended december 31 , 2011 . northrop grumman-provided benefits - this category includes costs for group medical , dental and vision insurance , 401 ( k ) savings plan , pension and postretirement benefits , incentive compensation and other benefits . these costs were generally allocated to the company based on specific identification of the benefits provided to company employees participating in these benefit plans . the consolidated financial statements include northrop grumman- provided benefits allocations totaling $ 169 million for the year ended december 31 , 2011 . management believes that the methods of allocating these costs are reasonable , consistent with past practices , and in conformity with cost allocation requirements of cas or the far . related party sales and cost of sales prior to the spin-off , hii purchased and sold certain products and services from and to other northrop grumman entities . purchases of products and services from these affiliated entities , which were recorded at cost , were $ 44 million for the year ended december 31 , 2011 . sales of products and services to these entities were $ 1 million for the year ended december 31 , 2011 . former parent\\'s equity in unit transactions between hii and northrop grumman prior to the spin-off have been included in the consolidated financial statements and were effectively settled for cash at the time the transaction was recorded . the net effect of the settlement of these transactions is reflected as former parent\\'s equity in unit in the consolidated statement of changes in equity . 21 . unaudited selected quarterly data unaudited quarterly financial results for the years ended december 31 , 2013 and 2012 , are set forth in the following tables: .\\n  {\\'sales and service revenues\\': {\\'( $ in millions except per share amounts )\\': \\'$ 1562\\', \\'year ended december 31 2013 1st qtr\\': \\'$ 1683\\', \\'year ended december 31 2013 2nd qtr\\': \\'$ 1637\\', \\'year ended december 31 2013 3rd qtr\\': \\'$ 1938\\'}, \\'operating income ( loss )\\': {\\'( $ in millions except per share amounts )\\': \\'95\\', \\'year ended december 31 2013 1st qtr\\': \\'116\\', \\'year ended december 31 2013 2nd qtr\\': \\'127\\', \\'year ended december 31 2013 3rd qtr\\': \\'174\\'}, \\'earnings ( loss ) before income taxes\\': {\\'( $ in millions except per share amounts )\\': \\'65\\', \\'year ended december 31 2013 1st qtr\\': \\'87\\', \\'year ended december 31 2013 2nd qtr\\': \\'99\\', \\'year ended december 31 2013 3rd qtr\\': \\'143\\'}, \\'net earnings ( loss )\\': {\\'( $ in millions except per share amounts )\\': \\'44\\', \\'year ended december 31 2013 1st qtr\\': \\'57\\', \\'year ended december 31 2013 2nd qtr\\': \\'69\\', \\'year ended december 31 2013 3rd qtr\\': \\'91\\'}, \\'dividends declared per share\\': {\\'( $ in millions except per share amounts )\\': \\'$ 0.10\\', \\'year ended december 31 2013 1st qtr\\': \\'$ 0.10\\', \\'year ended december 31 2013 2nd qtr\\': \\'$ 0.10\\', \\'year ended december 31 2013 3rd qtr\\': \\'$ 0.20\\'}, \\'basic earnings ( loss ) per share\\': {\\'( $ in millions except per share amounts )\\': \\'$ 0.88\\', \\'year ended december 31 2013 1st qtr\\': \\'$ 1.14\\', \\'year ended december 31 2013 2nd qtr\\': \\'$ 1.38\\', \\'year ended december 31 2013 3rd qtr\\': \\'$ 1.86\\'}, \\'diluted earnings ( loss ) per share\\': {\\'( $ in millions except per share amounts )\\': \\'$ 0.87\\', \\'year ended december 31 2013 1st qtr\\': \\'$ 1.12\\', \\'year ended december 31 2013 2nd qtr\\': \\'$ 1.36\\', \\'year ended december 31 2013 3rd qtr\\': \\'$ 1.82\\'}}\\n  .\\n </body>\\n</html>\\n'"
      ]
     },
     "execution_count": 48,
     "metadata": {},
     "output_type": "execute_result"
    }
   ],
   "source": [
    "parsed_data = convert_table_to_json(html_content)\n",
    "parsed_data"
   ]
  },
  {
   "cell_type": "code",
   "execution_count": 60,
   "id": "8fc03273-5b5e-4a8a-8322-321ec11e185d",
   "metadata": {},
   "outputs": [
    {
     "data": {
      "text/plain": [
       "'<html>\\n<body>\\n  \"three factor formula\" ) . the consolidated financial statements include northrop grumman management and support services allocations totaling $ 32 million for the year ended december 31 , 2011 . shared services and infrastructure costs - this category includes costs for functions such as information technology support , systems maintenance , telecommunications , procurement and other shared services while hii was a subsidiary of northrop grumman . these costs were generally allocated to the company using the three factor formula or based on usage . the consolidated financial statements reflect shared services and infrastructure costs allocations totaling $ 80 million for the year ended december 31 , 2011 . northrop grumman-provided benefits - this category includes costs for group medical , dental and vision insurance , 401 ( k ) savings plan , pension and postretirement benefits , incentive compensation and other benefits . these costs were generally allocated to the company based on specific identification of the benefits provided to company employees participating in these benefit plans . the consolidated financial statements include northrop grumman- provided benefits allocations totaling $ 169 million for the year ended december 31 , 2011 . management believes that the methods of allocating these costs are reasonable , consistent with past practices , and in conformity with cost allocation requirements of cas or the far . related party sales and cost of sales prior to the spin-off , hii purchased and sold certain products and services from and to other northrop grumman entities . purchases of products and services from these affiliated entities , which were recorded at cost , were $ 44 million for the year ended december 31 , 2011 . sales of products and services to these entities were $ 1 million for the year ended december 31 , 2011 . former parent\\'s equity in unit transactions between hii and northrop grumman prior to the spin-off have been included in the consolidated financial statements and were effectively settled for cash at the time the transaction was recorded . the net effect of the settlement of these transactions is reflected as former parent\\'s equity in unit in the consolidated statement of changes in equity . 21 . unaudited selected quarterly data unaudited quarterly financial results for the years ended december 31 , 2013 and 2012 , are set forth in the following tables: .\\n  {\\'sales and service revenues\\': {\\'( $ in millions except per share amounts )\\': \\'$ 1562\\', \\'year ended december 31 2013 1st qtr\\': \\'$ 1683\\', \\'year ended december 31 2013 2nd qtr\\': \\'$ 1637\\', \\'year ended december 31 2013 3rd qtr\\': \\'$ 1938\\'}, \\'operating income ( loss )\\': {\\'( $ in millions except per share amounts )\\': \\'95\\', \\'year ended december 31 2013 1st qtr\\': \\'116\\', \\'year ended december 31 2013 2nd qtr\\': \\'127\\', \\'year ended december 31 2013 3rd qtr\\': \\'174\\'}, \\'earnings ( loss ) before income taxes\\': {\\'( $ in millions except per share amounts )\\': \\'65\\', \\'year ended december 31 2013 1st qtr\\': \\'87\\', \\'year ended december 31 2013 2nd qtr\\': \\'99\\', \\'year ended december 31 2013 3rd qtr\\': \\'143\\'}, \\'net earnings ( loss )\\': {\\'( $ in millions except per share amounts )\\': \\'44\\', \\'year ended december 31 2013 1st qtr\\': \\'57\\', \\'year ended december 31 2013 2nd qtr\\': \\'69\\', \\'year ended december 31 2013 3rd qtr\\': \\'91\\'}, \\'dividends declared per share\\': {\\'( $ in millions except per share amounts )\\': \\'$ 0.10\\', \\'year ended december 31 2013 1st qtr\\': \\'$ 0.10\\', \\'year ended december 31 2013 2nd qtr\\': \\'$ 0.10\\', \\'year ended december 31 2013 3rd qtr\\': \\'$ 0.20\\'}, \\'basic earnings ( loss ) per share\\': {\\'( $ in millions except per share amounts )\\': \\'$ 0.88\\', \\'year ended december 31 2013 1st qtr\\': \\'$ 1.14\\', \\'year ended december 31 2013 2nd qtr\\': \\'$ 1.38\\', \\'year ended december 31 2013 3rd qtr\\': \\'$ 1.86\\'}, \\'diluted earnings ( loss ) per share\\': {\\'( $ in millions except per share amounts )\\': \\'$ 0.87\\', \\'year ended december 31 2013 1st qtr\\': \\'$ 1.12\\', \\'year ended december 31 2013 2nd qtr\\': \\'$ 1.36\\', \\'year ended december 31 2013 3rd qtr\\': \\'$ 1.82\\'}}\\n  .\\n </body>\\n</html>\\n'"
      ]
     },
     "execution_count": 60,
     "metadata": {},
     "output_type": "execute_result"
    }
   ],
   "source": [
    "df.loc[5, 'json_encoding']"
   ]
  },
  {
   "cell_type": "code",
   "execution_count": 61,
   "id": "73771c59-8002-48f5-b6e4-1522c19d56d4",
   "metadata": {},
   "outputs": [],
   "source": [
    "df.to_csv('convfinqa_in_different_format_V1.csv', index=False)"
   ]
  },
  {
   "cell_type": "code",
   "execution_count": null,
   "id": "14add596-6d57-4d0e-b194-0dc5546c199d",
   "metadata": {},
   "outputs": [],
   "source": []
  },
  {
   "cell_type": "code",
   "execution_count": 57,
   "id": "f047274d",
   "metadata": {},
   "outputs": [],
   "source": [
    "import pandas as pd\n",
    "from tqdm import tqdm\n",
    "from bs4 import BeautifulSoup"
   ]
  },
  {
   "cell_type": "code",
   "execution_count": 2,
   "id": "db8cb4e6",
   "metadata": {},
   "outputs": [],
   "source": [
    "df = pd.read_csv('convfinqa_in_different_format.csv')"
   ]
  },
  {
   "cell_type": "code",
   "execution_count": 51,
   "id": "4ade8c3b",
   "metadata": {},
   "outputs": [],
   "source": [
    "index_df = pd.read_csv('index_info.csv')\n",
    "index_info = index_df['Index of data without headers'].to_list()"
   ]
  },
  {
   "cell_type": "code",
   "execution_count": 3,
   "id": "c4c3720d",
   "metadata": {},
   "outputs": [
    {
     "data": {
      "text/plain": [
       "(17612, 5)"
      ]
     },
     "execution_count": 3,
     "metadata": {},
     "output_type": "execute_result"
    }
   ],
   "source": [
    "df.shape"
   ]
  },
  {
   "cell_type": "code",
   "execution_count": 5,
   "id": "318bcbb2",
   "metadata": {},
   "outputs": [],
   "source": [
    "html_content = df.loc[0, 'html_content']"
   ]
  },
  {
   "cell_type": "code",
   "execution_count": 58,
   "id": "1091004f",
   "metadata": {},
   "outputs": [],
   "source": [
    "def convert_table_to_json(index, html_content):\n",
    "    if index in index_info: \n",
    "        # Parse HTML content\n",
    "        soup = BeautifulSoup(html_content, 'html.parser')\n",
    "        \n",
    "        # Find the table\n",
    "        table = soup.find('table')\n",
    "        \n",
    "        # Extract table data and format into a dictionary\n",
    "        table_dict = {}\n",
    "        for row in table.find_all('tr'):\n",
    "            cells = row.find_all('td')\n",
    "            if len(cells) == 3:\n",
    "                key = cells[1].get_text(strip=True)\n",
    "                value = cells[2].get_text(strip=True)\n",
    "                table_dict[key] = value\n",
    "        \n",
    "        # Convert the dictionary to a string\n",
    "        table_str = str(table_dict)\n",
    "    \n",
    "        # Convert the tag object to a string\n",
    "        tag_str = str(table)\n",
    "    \n",
    "        # Concatenate the table string with the remaining HTML content\n",
    "        output_html = str(soup).replace(tag_str, table_str)\n",
    "        # output_html = html_content.replace('</body>', f'{table_str} .\\n </body>')\n",
    "    else:\n",
    "        # Parse HTML content\n",
    "        soup = BeautifulSoup(html_content, 'html.parser')\n",
    "        \n",
    "        # Find the table\n",
    "        table = soup.find('table')\n",
    "        \n",
    "        # Initialize the result dictionary\n",
    "        result = {}\n",
    "        \n",
    "        # Extract data from the table\n",
    "        rows = table.find_all('tr')\n",
    "        header_row = rows[0]\n",
    "        headers = [header.text.strip() for header in header_row.find_all('td')[1:]]  # Exclude the first column\n",
    "        for row in rows[1:]:\n",
    "            columns = row.find_all('td')\n",
    "            category = columns[1].text.strip()\n",
    "            data = {header: column.text.strip() for header, column in zip(headers, columns[2:])}\n",
    "            result[category] = data\n",
    "        # Convert the dictionary to a string\n",
    "        table_str = str(result)\n",
    "    \n",
    "        # Convert the tag object to a string\n",
    "        tag_str = str(table)\n",
    "    \n",
    "        # Concatenate the table string with the remaining HTML content\n",
    "        output_html = str(soup).replace(tag_str, table_str)\n",
    "        # output_html = html_content.replace('</body>', f'{table_str} .\\n </body>')\n",
    "    return output_html  "
   ]
  },
  {
   "cell_type": "code",
   "execution_count": 59,
   "id": "d8c069be",
   "metadata": {},
   "outputs": [
    {
     "name": "stderr",
     "output_type": "stream",
     "text": [
      "17612it [00:45, 387.74it/s]\n"
     ]
    }
   ],
   "source": [
    "for i, row in tqdm(df.iterrows()):\n",
    "    output = convert_table_to_json(row['index'], row['html_content'])\n",
    "    df.at[i, 'json_encoding'] = output"
   ]
  },
  {
   "cell_type": "code",
   "execution_count": 47,
   "id": "103b2476",
   "metadata": {},
   "outputs": [],
   "source": [
    "html_content = df.loc[5, 'html_content']"
   ]
  },
  {
   "cell_type": "code",
   "execution_count": 48,
   "id": "f9d8c815",
   "metadata": {},
   "outputs": [
    {
     "name": "stdout",
     "output_type": "stream",
     "text": [
      "{'sales and service revenues': {'( $ in millions except per share amounts )': '$ 1562', 'year ended december 31 2013 1st qtr': '$ 1683', 'year ended december 31 2013 2nd qtr': '$ 1637', 'year ended december 31 2013 3rd qtr': '$ 1938'}, 'operating income ( loss )': {'( $ in millions except per share amounts )': '95', 'year ended december 31 2013 1st qtr': '116', 'year ended december 31 2013 2nd qtr': '127', 'year ended december 31 2013 3rd qtr': '174'}, 'earnings ( loss ) before income taxes': {'( $ in millions except per share amounts )': '65', 'year ended december 31 2013 1st qtr': '87', 'year ended december 31 2013 2nd qtr': '99', 'year ended december 31 2013 3rd qtr': '143'}, 'net earnings ( loss )': {'( $ in millions except per share amounts )': '44', 'year ended december 31 2013 1st qtr': '57', 'year ended december 31 2013 2nd qtr': '69', 'year ended december 31 2013 3rd qtr': '91'}, 'dividends declared per share': {'( $ in millions except per share amounts )': '$ 0.10', 'year ended december 31 2013 1st qtr': '$ 0.10', 'year ended december 31 2013 2nd qtr': '$ 0.10', 'year ended december 31 2013 3rd qtr': '$ 0.20'}, 'basic earnings ( loss ) per share': {'( $ in millions except per share amounts )': '$ 0.88', 'year ended december 31 2013 1st qtr': '$ 1.14', 'year ended december 31 2013 2nd qtr': '$ 1.38', 'year ended december 31 2013 3rd qtr': '$ 1.86'}, 'diluted earnings ( loss ) per share': {'( $ in millions except per share amounts )': '$ 0.87', 'year ended december 31 2013 1st qtr': '$ 1.12', 'year ended december 31 2013 2nd qtr': '$ 1.36', 'year ended december 31 2013 3rd qtr': '$ 1.82'}}\n"
     ]
    },
    {
     "data": {
      "text/plain": [
       "'<html>\\n<body>\\n  \"three factor formula\" ) . the consolidated financial statements include northrop grumman management and support services allocations totaling $ 32 million for the year ended december 31 , 2011 . shared services and infrastructure costs - this category includes costs for functions such as information technology support , systems maintenance , telecommunications , procurement and other shared services while hii was a subsidiary of northrop grumman . these costs were generally allocated to the company using the three factor formula or based on usage . the consolidated financial statements reflect shared services and infrastructure costs allocations totaling $ 80 million for the year ended december 31 , 2011 . northrop grumman-provided benefits - this category includes costs for group medical , dental and vision insurance , 401 ( k ) savings plan , pension and postretirement benefits , incentive compensation and other benefits . these costs were generally allocated to the company based on specific identification of the benefits provided to company employees participating in these benefit plans . the consolidated financial statements include northrop grumman- provided benefits allocations totaling $ 169 million for the year ended december 31 , 2011 . management believes that the methods of allocating these costs are reasonable , consistent with past practices , and in conformity with cost allocation requirements of cas or the far . related party sales and cost of sales prior to the spin-off , hii purchased and sold certain products and services from and to other northrop grumman entities . purchases of products and services from these affiliated entities , which were recorded at cost , were $ 44 million for the year ended december 31 , 2011 . sales of products and services to these entities were $ 1 million for the year ended december 31 , 2011 . former parent\\'s equity in unit transactions between hii and northrop grumman prior to the spin-off have been included in the consolidated financial statements and were effectively settled for cash at the time the transaction was recorded . the net effect of the settlement of these transactions is reflected as former parent\\'s equity in unit in the consolidated statement of changes in equity . 21 . unaudited selected quarterly data unaudited quarterly financial results for the years ended december 31 , 2013 and 2012 , are set forth in the following tables: .\\n  {\\'sales and service revenues\\': {\\'( $ in millions except per share amounts )\\': \\'$ 1562\\', \\'year ended december 31 2013 1st qtr\\': \\'$ 1683\\', \\'year ended december 31 2013 2nd qtr\\': \\'$ 1637\\', \\'year ended december 31 2013 3rd qtr\\': \\'$ 1938\\'}, \\'operating income ( loss )\\': {\\'( $ in millions except per share amounts )\\': \\'95\\', \\'year ended december 31 2013 1st qtr\\': \\'116\\', \\'year ended december 31 2013 2nd qtr\\': \\'127\\', \\'year ended december 31 2013 3rd qtr\\': \\'174\\'}, \\'earnings ( loss ) before income taxes\\': {\\'( $ in millions except per share amounts )\\': \\'65\\', \\'year ended december 31 2013 1st qtr\\': \\'87\\', \\'year ended december 31 2013 2nd qtr\\': \\'99\\', \\'year ended december 31 2013 3rd qtr\\': \\'143\\'}, \\'net earnings ( loss )\\': {\\'( $ in millions except per share amounts )\\': \\'44\\', \\'year ended december 31 2013 1st qtr\\': \\'57\\', \\'year ended december 31 2013 2nd qtr\\': \\'69\\', \\'year ended december 31 2013 3rd qtr\\': \\'91\\'}, \\'dividends declared per share\\': {\\'( $ in millions except per share amounts )\\': \\'$ 0.10\\', \\'year ended december 31 2013 1st qtr\\': \\'$ 0.10\\', \\'year ended december 31 2013 2nd qtr\\': \\'$ 0.10\\', \\'year ended december 31 2013 3rd qtr\\': \\'$ 0.20\\'}, \\'basic earnings ( loss ) per share\\': {\\'( $ in millions except per share amounts )\\': \\'$ 0.88\\', \\'year ended december 31 2013 1st qtr\\': \\'$ 1.14\\', \\'year ended december 31 2013 2nd qtr\\': \\'$ 1.38\\', \\'year ended december 31 2013 3rd qtr\\': \\'$ 1.86\\'}, \\'diluted earnings ( loss ) per share\\': {\\'( $ in millions except per share amounts )\\': \\'$ 0.87\\', \\'year ended december 31 2013 1st qtr\\': \\'$ 1.12\\', \\'year ended december 31 2013 2nd qtr\\': \\'$ 1.36\\', \\'year ended december 31 2013 3rd qtr\\': \\'$ 1.82\\'}}\\n  .\\n </body>\\n</html>\\n'"
      ]
     },
     "execution_count": 48,
     "metadata": {},
     "output_type": "execute_result"
    }
   ],
   "source": [
    "parsed_data = convert_table_to_json(html_content)\n",
    "parsed_data"
   ]
  },
  {
   "cell_type": "code",
   "execution_count": 60,
   "id": "27506234",
   "metadata": {},
   "outputs": [
    {
     "data": {
      "text/plain": [
       "'<html>\\n<body>\\n  \"three factor formula\" ) . the consolidated financial statements include northrop grumman management and support services allocations totaling $ 32 million for the year ended december 31 , 2011 . shared services and infrastructure costs - this category includes costs for functions such as information technology support , systems maintenance , telecommunications , procurement and other shared services while hii was a subsidiary of northrop grumman . these costs were generally allocated to the company using the three factor formula or based on usage . the consolidated financial statements reflect shared services and infrastructure costs allocations totaling $ 80 million for the year ended december 31 , 2011 . northrop grumman-provided benefits - this category includes costs for group medical , dental and vision insurance , 401 ( k ) savings plan , pension and postretirement benefits , incentive compensation and other benefits . these costs were generally allocated to the company based on specific identification of the benefits provided to company employees participating in these benefit plans . the consolidated financial statements include northrop grumman- provided benefits allocations totaling $ 169 million for the year ended december 31 , 2011 . management believes that the methods of allocating these costs are reasonable , consistent with past practices , and in conformity with cost allocation requirements of cas or the far . related party sales and cost of sales prior to the spin-off , hii purchased and sold certain products and services from and to other northrop grumman entities . purchases of products and services from these affiliated entities , which were recorded at cost , were $ 44 million for the year ended december 31 , 2011 . sales of products and services to these entities were $ 1 million for the year ended december 31 , 2011 . former parent\\'s equity in unit transactions between hii and northrop grumman prior to the spin-off have been included in the consolidated financial statements and were effectively settled for cash at the time the transaction was recorded . the net effect of the settlement of these transactions is reflected as former parent\\'s equity in unit in the consolidated statement of changes in equity . 21 . unaudited selected quarterly data unaudited quarterly financial results for the years ended december 31 , 2013 and 2012 , are set forth in the following tables: .\\n  {\\'sales and service revenues\\': {\\'( $ in millions except per share amounts )\\': \\'$ 1562\\', \\'year ended december 31 2013 1st qtr\\': \\'$ 1683\\', \\'year ended december 31 2013 2nd qtr\\': \\'$ 1637\\', \\'year ended december 31 2013 3rd qtr\\': \\'$ 1938\\'}, \\'operating income ( loss )\\': {\\'( $ in millions except per share amounts )\\': \\'95\\', \\'year ended december 31 2013 1st qtr\\': \\'116\\', \\'year ended december 31 2013 2nd qtr\\': \\'127\\', \\'year ended december 31 2013 3rd qtr\\': \\'174\\'}, \\'earnings ( loss ) before income taxes\\': {\\'( $ in millions except per share amounts )\\': \\'65\\', \\'year ended december 31 2013 1st qtr\\': \\'87\\', \\'year ended december 31 2013 2nd qtr\\': \\'99\\', \\'year ended december 31 2013 3rd qtr\\': \\'143\\'}, \\'net earnings ( loss )\\': {\\'( $ in millions except per share amounts )\\': \\'44\\', \\'year ended december 31 2013 1st qtr\\': \\'57\\', \\'year ended december 31 2013 2nd qtr\\': \\'69\\', \\'year ended december 31 2013 3rd qtr\\': \\'91\\'}, \\'dividends declared per share\\': {\\'( $ in millions except per share amounts )\\': \\'$ 0.10\\', \\'year ended december 31 2013 1st qtr\\': \\'$ 0.10\\', \\'year ended december 31 2013 2nd qtr\\': \\'$ 0.10\\', \\'year ended december 31 2013 3rd qtr\\': \\'$ 0.20\\'}, \\'basic earnings ( loss ) per share\\': {\\'( $ in millions except per share amounts )\\': \\'$ 0.88\\', \\'year ended december 31 2013 1st qtr\\': \\'$ 1.14\\', \\'year ended december 31 2013 2nd qtr\\': \\'$ 1.38\\', \\'year ended december 31 2013 3rd qtr\\': \\'$ 1.86\\'}, \\'diluted earnings ( loss ) per share\\': {\\'( $ in millions except per share amounts )\\': \\'$ 0.87\\', \\'year ended december 31 2013 1st qtr\\': \\'$ 1.12\\', \\'year ended december 31 2013 2nd qtr\\': \\'$ 1.36\\', \\'year ended december 31 2013 3rd qtr\\': \\'$ 1.82\\'}}\\n  .\\n </body>\\n</html>\\n'"
      ]
     },
     "execution_count": 60,
     "metadata": {},
     "output_type": "execute_result"
    }
   ],
   "source": [
    "df.loc[5, 'json_encoding']"
   ]
  },
  {
   "cell_type": "code",
   "execution_count": 61,
   "id": "0ea0612d",
   "metadata": {},
   "outputs": [],
   "source": [
    "df.to_csv('convfinqa_in_different_format_V1.csv', index=False)"
   ]
  },
  {
   "cell_type": "code",
   "execution_count": null,
   "id": "f3ccb359",
   "metadata": {},
   "outputs": [],
   "source": []
  }
 ],
 "metadata": {
  "kernelspec": {
   "display_name": "Python 3 (ipykernel)",
   "language": "python",
   "name": "python3"
  },
  "language_info": {
   "codemirror_mode": {
    "name": "ipython",
    "version": 3
   },
   "file_extension": ".py",
   "mimetype": "text/x-python",
   "name": "python",
   "nbconvert_exporter": "python",
   "pygments_lexer": "ipython3",
   "version": "3.10.12"
  }
 },
 "nbformat": 4,
 "nbformat_minor": 5
}
