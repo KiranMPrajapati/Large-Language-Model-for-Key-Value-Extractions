{
 "cells": [
  {
   "cell_type": "code",
   "execution_count": 1,
   "metadata": {},
   "outputs": [],
   "source": [
    "import pandas as pd"
   ]
  },
  {
   "cell_type": "code",
   "execution_count": 18,
   "metadata": {},
   "outputs": [],
   "source": [
    "path = '../data/10Q/company_10_Q_table_content/part-00000-c18200a6-1f8f-4770-825f-f5c5888429e1-c000.snappy.parquet'\n",
    "path1 = '../data/10Q/company_cik_name_number_url/company_cik_name_number_url.parquet'"
   ]
  },
  {
   "cell_type": "code",
   "execution_count": 4,
   "metadata": {},
   "outputs": [
    {
     "name": "stdout",
     "output_type": "stream",
     "text": [
      "  cik_name reporting_date  page_number  \\\n",
      "0      agq     2015-09-30            1   \n",
      "1      agq     2015-06-30            1   \n",
      "2      agq     2015-03-31            1   \n",
      "3      agq     2014-09-30            1   \n",
      "4      agq     2014-06-30            1   \n",
      "\n",
      "                                 page_tables_content  \n",
      "0  <table class=\"reboot table table-striped table...  \n",
      "1  <table class=\"reboot table table-striped table...  \n",
      "2  <table class=\"reboot table table-striped table...  \n",
      "3  <table class=\"reboot table table-striped table...  \n",
      "4  <table border=\"0\" cellpadding=\"0\" cellspacing=...  \n"
     ]
    }
   ],
   "source": [
    "df =  pd.read_parquet(path, engine='pyarrow')\n",
    "print(df.head())"
   ]
  },
  {
   "cell_type": "code",
   "execution_count": 5,
   "metadata": {},
   "outputs": [
    {
     "data": {
      "text/plain": [
       "(250932, 4)"
      ]
     },
     "execution_count": 5,
     "metadata": {},
     "output_type": "execute_result"
    }
   ],
   "source": [
    "df.shape"
   ]
  },
  {
   "cell_type": "code",
   "execution_count": 16,
   "metadata": {},
   "outputs": [
    {
     "name": "stdout",
     "output_type": "stream",
     "text": [
      "                                   page_tables_content\n",
      "20   <table class=\"reboot table table-striped table...\n",
      "21   <table class=\"reboot table table-striped table...\n",
      "22   <table class=\"reboot table table-striped table...\n",
      "23   <table class=\"reboot table table-striped table...\n",
      "24                                                    \n",
      "..                                                 ...\n",
      "245  <table style=\"border-collapse:collapse;font-si...\n",
      "246  <table class=\"reboot table table-striped table...\n",
      "247  <table class=\"reboot table table-striped table...\n",
      "248  <table class=\"reboot table table-striped table...\n",
      "249  <table class=\"reboot table table-striped table...\n",
      "\n",
      "[230 rows x 1 columns]\n"
     ]
    }
   ],
   "source": [
    "cols = [\"page_tables_content\"]\n",
    "df1 = pd.read_parquet(path, columns=cols)\n",
    "print(df1[20:250])"
   ]
  },
  {
   "cell_type": "code",
   "execution_count": 7,
   "metadata": {},
   "outputs": [
    {
     "data": {
      "text/plain": [
       "(250932, 1)"
      ]
     },
     "execution_count": 7,
     "metadata": {},
     "output_type": "execute_result"
    }
   ],
   "source": [
    "df1.shape"
   ]
  },
  {
   "cell_type": "code",
   "execution_count": 17,
   "metadata": {},
   "outputs": [
    {
     "name": "stdout",
     "output_type": "stream",
     "text": [
      "<table class=\"reboot table table-striped table-sm\">\\n\\t\\t\\t\\t\\t\\t\\t<tbody class=\"reboot\" id=\"form-information-modal-carousel-page-1\" tabindex=\"14\">\\n\\t\\t\\t\\t\\t\\t\\t\\t<!-- Below is populated dynamically VIA JS -->\\n\\t\\t\\t\\t\\t\\t\\t\\t<tr class=\"reboot\">\\n\\t\\t\\t\\t\\t\\t\\t\\t\\t<td class=\"reboot text-center\">\\n\\t\\t\\t\\t\\t\\t\\t\\t\\t\\t<i class=\"reboot fas fa-spinner fa-spin\"></i>\\n\\t\\t\\t\\t\\t\\t\\t\\t\\t</td>\\n\\t\\t\\t\\t\\t\\t\\t\\t</tr>\\n\\t\\t\\t\\t\\t\\t\\t</tbody>\\n\\t\\t\\t\\t\\t\\t</table>\n",
      "<table class=\"reboot table table-striped table-bordered table-sm\">\\n\\t\\t\\t\\t\\t\\t\\t<tbody class=\"reboot\" id=\"form-information-modal-carousel-page-2\" tabindex=\"14\">\\n\\t\\t\\t\\t\\t\\t\\t\\t<!-- Below is populated dynamically VIA JS -->\\n\\t\\t\\t\\t\\t\\t\\t\\t<tr class=\"reboot\">\\n\\t\\t\\t\\t\\t\\t\\t\\t\\t<td class=\"reboot text-center\">\\n\\t\\t\\t\\t\\t\\t\\t\\t\\t\\t<i class=\"reboot fas fa-spinner fa-spin\"></i>\\n\\t\\t\\t\\t\\t\\t\\t\\t\\t</td>\\n\\t\\t\\t\\t\\t\\t\\t\\t</tr>\\n\\t\\t\\t\\t\\t\\t\\t</tbody>\\n\\t\\t\\t\\t\\t\\t</table>\n",
      "<table class=\"reboot table table-striped table-sm\">\\n\\t\\t\\t\\t\\t\\t\\t<tbody class=\"reboot\" id=\"form-information-modal-carousel-page-3\" tabindex=\"14\">\\n\\t\\t\\t\\t\\t\\t\\t\\t<!-- Below is populated dynamically VIA JS -->\\n\\t\\t\\t\\t\\t\\t\\t\\t<tr class=\"reboot\">\\n\\t\\t\\t\\t\\t\\t\\t\\t\\t<td class=\"reboot text-center\">\\n\\t\\t\\t\\t\\t\\t\\t\\t\\t\\t<i class=\"reboot fas fa-spinner fa-spin\"></i>\\n\\t\\t\\t\\t\\t\\t\\t\\t\\t</td>\\n\\t\\t\\t\\t\\t\\t\\t\\t</tr>\\n\\t\\t\\t\\t\\t\\t\\t</tbody>\\n\\t\\t\\t\\t\\t\\t</table>\n",
      "<table class=\"reboot table table-striped table-sm\">\\n\\t\\t\\t\\t\\t\\t\\t<tbody class=\"reboot\" id=\"form-information-modal-carousel-page-4\" tabindex=\"14\">\\n\\t\\t\\t\\t\\t\\t\\t\\t<!-- Below is populated dynamically VIA JS -->\\n\\t\\t\\t\\t\\t\\t\\t\\t<tr class=\"reboot\">\\n\\t\\t\\t\\t\\t\\t\\t\\t\\t<td class=\"reboot text-center\">\\n\\t\\t\\t\\t\\t\\t\\t\\t\\t\\t<i class=\"reboot fas fa-spinner fa-spin\"></i>\\n\\t\\t\\t\\t\\t\\t\\t\\t\\t</td>\\n\\t\\t\\t\\t\\t\\t\\t\\t</tr>\\n\\t\\t\\t\\t\\t\\t\\t</tbody>\\n\\t\\t\\t\\t\\t\\t</table>\n",
      "<table class=\"reboot table table-striped table-sm\" id=\"taxonomy-modal-carousel-page-1\" tabindex=\"16\">\\n\\t\\t\\t\\t\\t\\t\\t<!-- Below is populated dynamically VIA JS -->\\n\\t\\t\\t\\t\\t\\t\\t<tbody class=\"reboot\">\\n\\t\\t\\t\\t\\t\\t\\t\\t<tr class=\"reboot\">\\n\\t\\t\\t\\t\\t\\t\\t\\t\\t<td class=\"reboot text-center\">\\n\\t\\t\\t\\t\\t\\t\\t\\t\\t\\t<i class=\"reboot fas fa-spinner fa-spin\"></i>\\n\\t\\t\\t\\t\\t\\t\\t\\t\\t</td>\\n\\t\\t\\t\\t\\t\\t\\t\\t</tr>\\n\\t\\t\\t\\t\\t\\t\\t</tbody>\\n\\t\\t\\t\\t\\t\\t</table>\n",
      "<table class=\"reboot table table-striped table-sm\" id=\"taxonomy-modal-carousel-page-2\" tabindex=\"16\">\\n\\t\\t\\t\\t\\t\\t\\t<!-- Below is populated dynamically VIA JS -->\\n\\t\\t\\t\\t\\t\\t\\t<tbody class=\"reboot\">\\n\\t\\t\\t\\t\\t\\t\\t\\t<tr class=\"reboot\">\\n\\t\\t\\t\\t\\t\\t\\t\\t\\t<td class=\"reboot text-center\">\\n\\t\\t\\t\\t\\t\\t\\t\\t\\t\\t<i class=\"reboot fas fa-spinner fa-spin\"></i>\\n\\t\\t\\t\\t\\t\\t\\t\\t\\t</td>\\n\\t\\t\\t\\t\\t\\t\\t\\t</tr>\\n\\t\\t\\t\\t\\t\\t\\t</tbody>\\n\\t\\t\\t\\t\\t\\t</table>\n",
      "<table class=\"reboot table table-striped table-sm\" id=\"taxonomy-modal-carousel-page-3\" tabindex=\"16\">\\n\\t\\t\\t\\t\\t\\t\\t<!-- Below is populated dynamically VIA JS -->\\n\\t\\t\\t\\t\\t\\t\\t<tbody class=\"reboot\">\\n\\t\\t\\t\\t\\t\\t\\t\\t<tr class=\"reboot\">\\n\\t\\t\\t\\t\\t\\t\\t\\t\\t<td class=\"reboot text-center\">\\n\\t\\t\\t\\t\\t\\t\\t\\t\\t\\t<i class=\"reboot fas fa-spinner fa-spin\"></i>\\n\\t\\t\\t\\t\\t\\t\\t\\t\\t</td>\\n\\t\\t\\t\\t\\t\\t\\t\\t</tr>\\n\\t\\t\\t\\t\\t\\t\\t</tbody>\\n\\t\\t\\t\\t\\t\\t</table>\n",
      "<table class=\"reboot table table-striped table-sm\" id=\"taxonomy-modal-carousel-page-4\" tabindex=\"16\">\\n\\t\\t\\t\\t\\t\\t\\t<!-- Below is populated dynamically VIA JS -->\\n\\t\\t\\t\\t\\t\\t\\t<tbody class=\"reboot\">\\n\\t\\t\\t\\t\\t\\t\\t\\t<tr class=\"reboot\">\\n\\t\\t\\t\\t\\t\\t\\t\\t\\t<td class=\"reboot text-center\">\\n\\t\\t\\t\\t\\t\\t\\t\\t\\t\\t<i class=\"reboot fas fa-spinner fa-spin\"></i>\\n\\t\\t\\t\\t\\t\\t\\t\\t\\t</td>\\n\\t\\t\\t\\t\\t\\t\\t\\t</tr>\\n\\t\\t\\t\\t\\t\\t\\t</tbody>\\n\\t\\t\\t\\t\\t\\t</table>\n",
      "<table class=\"reboot table table-striped table-sm\">\\n\\t\\t\\t\\t\\t\\t\\t<tbody class=\"reboot\" id=\"modal-taxonomy-nested-content-carousel-page-1\" tabindex=\"17\">\\n\\t\\t\\t\\t\\t\\t\\t\\t<!-- Below is populated dynamically VIA JS -->\\n\\t\\t\\t\\t\\t\\t\\t\\t<tr class=\"reboot\">\\n\\t\\t\\t\\t\\t\\t\\t\\t\\t<td class=\"reboot text-center\">\\n\\t\\t\\t\\t\\t\\t\\t\\t\\t\\t<i class=\"reboot fas fa-spinner fa-spin\"></i>\\n\\t\\t\\t\\t\\t\\t\\t\\t\\t</td>\\n\\t\\t\\t\\t\\t\\t\\t\\t</tr>\\n\\t\\t\\t\\t\\t\\t\\t</tbody>\\n\\t\\t\\t\\t\\t\\t</table>\n",
      "<table class=\"reboot table table-striped table-bordered table-sm\">\\n\\t\\t\\t\\t\\t\\t\\t<tbody class=\"reboot\" id=\"modal-taxonomy-nested-content-carousel-page-2\" tabindex=\"17\">\\n\\t\\t\\t\\t\\t\\t\\t\\t<!-- Below is populated dynamically VIA JS -->\\n\\t\\t\\t\\t\\t\\t\\t\\t<tr class=\"reboot\">\\n\\t\\t\\t\\t\\t\\t\\t\\t\\t<td class=\"reboot text-center\">\\n\\t\\t\\t\\t\\t\\t\\t\\t\\t\\t<i class=\"reboot fas fa-spinner fa-spin\"></i>\\n\\t\\t\\t\\t\\t\\t\\t\\t\\t</td>\\n\\t\\t\\t\\t\\t\\t\\t\\t</tr>\\n\\t\\t\\t\\t\\t\\t\\t</tbody>\\n\\t\\t\\t\\t\\t\\t</table>\n",
      "<table class=\"reboot table table-striped table-sm\">\\n\\t\\t\\t\\t\\t\\t\\t<tbody class=\"reboot\" id=\"modal-taxonomy-nested-content-carousel-page-3\" tabindex=\"17\">\\n\\t\\t\\t\\t\\t\\t\\t\\t<!-- Below is populated dynamically VIA JS -->\\n\\t\\t\\t\\t\\t\\t\\t\\t<tr class=\"reboot\">\\n\\t\\t\\t\\t\\t\\t\\t\\t\\t<td class=\"reboot text-center\">\\n\\t\\t\\t\\t\\t\\t\\t\\t\\t\\t<i class=\"reboot fas fa-spinner fa-spin\"></i>\\n\\t\\t\\t\\t\\t\\t\\t\\t\\t</td>\\n\\t\\t\\t\\t\\t\\t\\t\\t</tr>\\n\\t\\t\\t\\t\\t\\t\\t</tbody>\\n\\t\\t\\t\\t\\t\\t</table>\n",
      "<table class=\"reboot table table-striped table-sm\">\\n\\t\\t\\t\\t\\t\\t\\t<tbody class=\"reboot\" id=\"modal-taxonomy-nested-content-carousel-page-4\" tabindex=\"17\">\\n\\t\\t\\t\\t\\t\\t\\t\\t<!-- Below is populated dynamically VIA JS -->\\n\\t\\t\\t\\t\\t\\t\\t\\t<tr class=\"reboot\">\\n\\t\\t\\t\\t\\t\\t\\t\\t\\t<td class=\"reboot text-center\">\\n\\t\\t\\t\\t\\t\\t\\t\\t\\t\\t<i class=\"reboot fas fa-spinner fa-spin\"></i>\\n\\t\\t\\t\\t\\t\\t\\t\\t\\t</td>\\n\\t\\t\\t\\t\\t\\t\\t\\t</tr>\\n\\t\\t\\t\\t\\t\\t\\t</tbody>\\n\\t\\t\\t\\t\\t\\t</table>\n"
     ]
    }
   ],
   "source": [
    "print(df1.loc[0, 'page_tables_content'])"
   ]
  },
  {
   "cell_type": "code",
   "execution_count": 19,
   "metadata": {},
   "outputs": [
    {
     "name": "stdout",
     "output_type": "stream",
     "text": [
      "  cik_name cik_number                                     formatted_link\n",
      "0     aapl     320193  https://data.sec.gov/submissions/CIK0000320193...\n",
      "1     msft     789019  https://data.sec.gov/submissions/CIK0000789019...\n",
      "2    brk-b    1067983  https://data.sec.gov/submissions/CIK0001067983...\n",
      "3      unh     731766  https://data.sec.gov/submissions/CIK0000731766...\n",
      "4      jnj     200406  https://data.sec.gov/submissions/CIK0000200406...\n"
     ]
    }
   ],
   "source": [
    "df2 =  pd.read_parquet(path1, engine='pyarrow')\n",
    "print(df2.head())"
   ]
  },
  {
   "cell_type": "code",
   "execution_count": 21,
   "metadata": {},
   "outputs": [
    {
     "data": {
      "text/plain": [
       "10600    https://data.sec.gov/submissions/CIK0001415311...\n",
       "Name: formatted_link, dtype: object"
      ]
     },
     "execution_count": 21,
     "metadata": {},
     "output_type": "execute_result"
    }
   ],
   "source": [
    "df2[df2['cik_name'] == 'agq']['formatted_link']"
   ]
  },
  {
   "cell_type": "code",
   "execution_count": 22,
   "metadata": {},
   "outputs": [
    {
     "data": {
      "text/plain": [
       "10600    1415311\n",
       "Name: cik_number, dtype: object"
      ]
     },
     "execution_count": 22,
     "metadata": {},
     "output_type": "execute_result"
    }
   ],
   "source": [
    "df2[df2['cik_name'] == 'agq']['cik_number']"
   ]
  },
  {
   "cell_type": "code",
   "execution_count": 26,
   "metadata": {},
   "outputs": [
    {
     "data": {
      "text/html": [
       "<div>\n",
       "<style scoped>\n",
       "    .dataframe tbody tr th:only-of-type {\n",
       "        vertical-align: middle;\n",
       "    }\n",
       "\n",
       "    .dataframe tbody tr th {\n",
       "        vertical-align: top;\n",
       "    }\n",
       "\n",
       "    .dataframe thead th {\n",
       "        text-align: right;\n",
       "    }\n",
       "</style>\n",
       "<table border=\"1\" class=\"dataframe\">\n",
       "  <thead>\n",
       "    <tr style=\"text-align: right;\">\n",
       "      <th></th>\n",
       "      <th>cik_name</th>\n",
       "      <th>reporting_date</th>\n",
       "      <th>page_number</th>\n",
       "      <th>page_tables_content</th>\n",
       "    </tr>\n",
       "  </thead>\n",
       "  <tbody>\n",
       "    <tr>\n",
       "      <th>0</th>\n",
       "      <td>agq</td>\n",
       "      <td>2015-09-30</td>\n",
       "      <td>1</td>\n",
       "      <td>&lt;table class=\"reboot table table-striped table...</td>\n",
       "    </tr>\n",
       "  </tbody>\n",
       "</table>\n",
       "</div>"
      ],
      "text/plain": [
       "  cik_name reporting_date  page_number  \\\n",
       "0      agq     2015-09-30            1   \n",
       "\n",
       "                                 page_tables_content  \n",
       "0  <table class=\"reboot table table-striped table...  "
      ]
     },
     "execution_count": 26,
     "metadata": {},
     "output_type": "execute_result"
    }
   ],
   "source": [
    "df.loc[(df['cik_name'] == 'agq') & (df['reporting_date'] == '2015-09-30')]"
   ]
  },
  {
   "cell_type": "code",
   "execution_count": null,
   "metadata": {},
   "outputs": [],
   "source": []
  }
 ],
 "metadata": {
  "kernelspec": {
   "display_name": ".venv",
   "language": "python",
   "name": "python3"
  },
  "language_info": {
   "codemirror_mode": {
    "name": "ipython",
    "version": 3
   },
   "file_extension": ".py",
   "mimetype": "text/x-python",
   "name": "python",
   "nbconvert_exporter": "python",
   "pygments_lexer": "ipython3",
   "version": "3.10.13"
  }
 },
 "nbformat": 4,
 "nbformat_minor": 2
}
