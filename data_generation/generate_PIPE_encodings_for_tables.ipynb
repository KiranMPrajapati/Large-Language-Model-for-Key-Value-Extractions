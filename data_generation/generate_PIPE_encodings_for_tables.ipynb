{
 "cells": [
  {
   "cell_type": "code",
   "execution_count": 59,
   "id": "b4c225e1-4272-4266-9a97-49e16942ac26",
   "metadata": {},
   "outputs": [],
   "source": [
    "import pandas as pd\n",
    "from tqdm import tqdm\n",
    "from bs4 import BeautifulSoup"
   ]
  },
  {
   "cell_type": "code",
   "execution_count": 60,
   "id": "1a975407-6971-4afe-b5f3-9bf69116921f",
   "metadata": {},
   "outputs": [],
   "source": [
    "df = pd.read_csv('final_dataset.csv')"
   ]
  },
  {
   "cell_type": "code",
   "execution_count": 61,
   "id": "a472afe2-b17a-4cd0-b629-70e077a2dd52",
   "metadata": {},
   "outputs": [
    {
     "data": {
      "text/plain": [
       "(17612, 4)"
      ]
     },
     "execution_count": 61,
     "metadata": {},
     "output_type": "execute_result"
    }
   ],
   "source": [
    "df.shape"
   ]
  },
  {
   "cell_type": "code",
   "execution_count": 62,
   "id": "f0b1a098-9986-4751-a00d-088e9fc60980",
   "metadata": {},
   "outputs": [],
   "source": [
    "csv_file = pd.read_csv('index_info.csv')\n",
    "index_info = csv_file['Index of data without headers'].tolist()"
   ]
  },
  {
   "cell_type": "code",
   "execution_count": 63,
   "id": "106b5c16-0da8-4ce7-b9d8-40a74c765f92",
   "metadata": {},
   "outputs": [],
   "source": [
    "html_content = df.loc[0, 'html_content']"
   ]
  },
  {
   "cell_type": "code",
   "execution_count": 64,
   "id": "33173d26-e4be-4fd8-b79d-e86f827d7bec",
   "metadata": {},
   "outputs": [],
   "source": [
    "def get_pipe_encodings(index, html_content):\n",
    "    # Parse HTML\n",
    "    soup = BeautifulSoup(html_content, 'html.parser')\n",
    "    \n",
    "    # Find table\n",
    "    table = soup.find('table')\n",
    "    \n",
    "    # Initialize PIPE encoded string\n",
    "    pipe_encoded = ''\n",
    "    \n",
    "    # Iterate through rows and cells\n",
    "    for row in table.find_all('tr'):\n",
    "        for cell in row.find_all('td'):\n",
    "            pipe_encoded += cell.text.strip() + ' | '\n",
    "        pipe_encoded = pipe_encoded[:-3]  # Remove the last '|' character for each row\n",
    "        pipe_encoded += '\\n'  # Add newline after each row\n",
    "    \n",
    "    # Remove the last newline character\n",
    "    pipe_encoded = pipe_encoded[:-1]\n",
    "\n",
    "    if index in index_info:\n",
    "\n",
    "        rows = pipe_encoded.split('\\n')\n",
    "    \n",
    "        formatted_data = ''\n",
    "        for idx, row in enumerate(rows, start=1):\n",
    "            formatted_data += f\"row {idx} : {row}\\n\"\n",
    "        \n",
    "    else:\n",
    "        rows = pipe_encoded.split('\\n')\n",
    "\n",
    "        formatted_data = \"col : \" + rows[0] + \"\\n\"  # First row is considered column names\n",
    "        \n",
    "        for idx, row in enumerate(rows[1:], start=1):\n",
    "            formatted_data += f\"row {idx} : {row}\\n\"\n",
    "        \n",
    "    return formatted_data"
   ]
  },
  {
   "cell_type": "code",
   "execution_count": 65,
   "id": "6801d30d-a629-4875-b7d1-f4c9f1a95972",
   "metadata": {},
   "outputs": [
    {
     "name": "stderr",
     "output_type": "stream",
     "text": [
      "17612it [00:30, 578.33it/s]\n"
     ]
    }
   ],
   "source": [
    "for index, row in tqdm(df.iterrows()):\n",
    "    formatted_data = get_pipe_encodings(row['index'], row['html_content'])\n",
    "    df.at[index, 'PIPE_encoding'] = formatted_data"
   ]
  },
  {
   "cell_type": "code",
   "execution_count": 66,
   "id": "a19e138b-63d5-471f-a2a3-ce79d83409a6",
   "metadata": {},
   "outputs": [
    {
     "data": {
      "text/html": [
       "<div>\n",
       "<style scoped>\n",
       "    .dataframe tbody tr th:only-of-type {\n",
       "        vertical-align: middle;\n",
       "    }\n",
       "\n",
       "    .dataframe tbody tr th {\n",
       "        vertical-align: top;\n",
       "    }\n",
       "\n",
       "    .dataframe thead th {\n",
       "        text-align: right;\n",
       "    }\n",
       "</style>\n",
       "<table border=\"1\" class=\"dataframe\">\n",
       "  <thead>\n",
       "    <tr style=\"text-align: right;\">\n",
       "      <th></th>\n",
       "      <th>index</th>\n",
       "      <th>html_content</th>\n",
       "      <th>question</th>\n",
       "      <th>answer</th>\n",
       "      <th>PIPE_encoding</th>\n",
       "    </tr>\n",
       "  </thead>\n",
       "  <tbody>\n",
       "    <tr>\n",
       "      <th>0</th>\n",
       "      <td>1</td>\n",
       "      <td>&lt;html&gt;\\n &lt;body&gt;\\n  \"distribution date\" ) . unt...</td>\n",
       "      <td>What is common stock under stock and option pl...</td>\n",
       "      <td>17739</td>\n",
       "      <td>row 1 : 1 | common stock under stock and optio...</td>\n",
       "    </tr>\n",
       "    <tr>\n",
       "      <th>1</th>\n",
       "      <td>1</td>\n",
       "      <td>&lt;html&gt;\\n &lt;body&gt;\\n  \"distribution date\" ) . unt...</td>\n",
       "      <td>What is total ?</td>\n",
       "      <td>18851</td>\n",
       "      <td>row 1 : 1 | common stock under stock and optio...</td>\n",
       "    </tr>\n",
       "    <tr>\n",
       "      <th>2</th>\n",
       "      <td>1</td>\n",
       "      <td>&lt;html&gt;\\n &lt;body&gt;\\n  \"distribution date\" ) . unt...</td>\n",
       "      <td>What is common stock under the vertex purchase...</td>\n",
       "      <td>842</td>\n",
       "      <td>row 1 : 1 | common stock under stock and optio...</td>\n",
       "    </tr>\n",
       "    <tr>\n",
       "      <th>3</th>\n",
       "      <td>1</td>\n",
       "      <td>&lt;html&gt;\\n &lt;body&gt;\\n  \"distribution date\" ) . unt...</td>\n",
       "      <td>What is common stock under the vertex 401 ( k ...</td>\n",
       "      <td>270</td>\n",
       "      <td>row 1 : 1 | common stock under stock and optio...</td>\n",
       "    </tr>\n",
       "    <tr>\n",
       "      <th>4</th>\n",
       "      <td>2</td>\n",
       "      <td>&lt;html&gt;\\n &lt;body&gt;\\n  \"three factor formula\" ) . ...</td>\n",
       "      <td>What is basic earnings ( loss ) per share for ...</td>\n",
       "      <td>$ 0.88</td>\n",
       "      <td>col : 1 | ( $ in millions except per share amo...</td>\n",
       "    </tr>\n",
       "    <tr>\n",
       "      <th>...</th>\n",
       "      <td>...</td>\n",
       "      <td>...</td>\n",
       "      <td>...</td>\n",
       "      <td>...</td>\n",
       "      <td>...</td>\n",
       "    </tr>\n",
       "    <tr>\n",
       "      <th>17607</th>\n",
       "      <td>1588</td>\n",
       "      <td>&lt;html&gt;\\n &lt;body&gt;\\n  zimmer holdings , inc . 201...</td>\n",
       "      <td>What is total expense pre-tax for 2013 ?</td>\n",
       "      <td>48.5</td>\n",
       "      <td>col : 1 | for the years ended december 31, | 2...</td>\n",
       "    </tr>\n",
       "    <tr>\n",
       "      <th>17608</th>\n",
       "      <td>1588</td>\n",
       "      <td>&lt;html&gt;\\n &lt;body&gt;\\n  zimmer holdings , inc . 201...</td>\n",
       "      <td>What is total expense pre-tax for 2012 ?</td>\n",
       "      <td>55.0</td>\n",
       "      <td>col : 1 | for the years ended december 31, | 2...</td>\n",
       "    </tr>\n",
       "    <tr>\n",
       "      <th>17609</th>\n",
       "      <td>1588</td>\n",
       "      <td>&lt;html&gt;\\n &lt;body&gt;\\n  zimmer holdings , inc . 201...</td>\n",
       "      <td>What is rsus and other for 2011 ?</td>\n",
       "      <td>18.8</td>\n",
       "      <td>col : 1 | for the years ended december 31, | 2...</td>\n",
       "    </tr>\n",
       "    <tr>\n",
       "      <th>17610</th>\n",
       "      <td>1588</td>\n",
       "      <td>&lt;html&gt;\\n &lt;body&gt;\\n  zimmer holdings , inc . 201...</td>\n",
       "      <td>What is rsus and other for 2013 ?</td>\n",
       "      <td>23.8</td>\n",
       "      <td>col : 1 | for the years ended december 31, | 2...</td>\n",
       "    </tr>\n",
       "    <tr>\n",
       "      <th>17611</th>\n",
       "      <td>1588</td>\n",
       "      <td>&lt;html&gt;\\n &lt;body&gt;\\n  zimmer holdings , inc . 201...</td>\n",
       "      <td>What is total expense pre-tax for 2011 ?</td>\n",
       "      <td>60.5</td>\n",
       "      <td>col : 1 | for the years ended december 31, | 2...</td>\n",
       "    </tr>\n",
       "  </tbody>\n",
       "</table>\n",
       "<p>17612 rows × 5 columns</p>\n",
       "</div>"
      ],
      "text/plain": [
       "       index                                       html_content  \\\n",
       "0          1  <html>\\n <body>\\n  \"distribution date\" ) . unt...   \n",
       "1          1  <html>\\n <body>\\n  \"distribution date\" ) . unt...   \n",
       "2          1  <html>\\n <body>\\n  \"distribution date\" ) . unt...   \n",
       "3          1  <html>\\n <body>\\n  \"distribution date\" ) . unt...   \n",
       "4          2  <html>\\n <body>\\n  \"three factor formula\" ) . ...   \n",
       "...      ...                                                ...   \n",
       "17607   1588  <html>\\n <body>\\n  zimmer holdings , inc . 201...   \n",
       "17608   1588  <html>\\n <body>\\n  zimmer holdings , inc . 201...   \n",
       "17609   1588  <html>\\n <body>\\n  zimmer holdings , inc . 201...   \n",
       "17610   1588  <html>\\n <body>\\n  zimmer holdings , inc . 201...   \n",
       "17611   1588  <html>\\n <body>\\n  zimmer holdings , inc . 201...   \n",
       "\n",
       "                                                question    answer  \\\n",
       "0      What is common stock under stock and option pl...    17739    \n",
       "1                                        What is total ?    18851    \n",
       "2      What is common stock under the vertex purchase...      842    \n",
       "3      What is common stock under the vertex 401 ( k ...      270    \n",
       "4      What is basic earnings ( loss ) per share for ...   $ 0.88    \n",
       "...                                                  ...       ...   \n",
       "17607           What is total expense pre-tax for 2013 ?     48.5    \n",
       "17608           What is total expense pre-tax for 2012 ?     55.0    \n",
       "17609                  What is rsus and other for 2011 ?     18.8    \n",
       "17610                  What is rsus and other for 2013 ?     23.8    \n",
       "17611           What is total expense pre-tax for 2011 ?     60.5    \n",
       "\n",
       "                                           PIPE_encoding  \n",
       "0      row 1 : 1 | common stock under stock and optio...  \n",
       "1      row 1 : 1 | common stock under stock and optio...  \n",
       "2      row 1 : 1 | common stock under stock and optio...  \n",
       "3      row 1 : 1 | common stock under stock and optio...  \n",
       "4      col : 1 | ( $ in millions except per share amo...  \n",
       "...                                                  ...  \n",
       "17607  col : 1 | for the years ended december 31, | 2...  \n",
       "17608  col : 1 | for the years ended december 31, | 2...  \n",
       "17609  col : 1 | for the years ended december 31, | 2...  \n",
       "17610  col : 1 | for the years ended december 31, | 2...  \n",
       "17611  col : 1 | for the years ended december 31, | 2...  \n",
       "\n",
       "[17612 rows x 5 columns]"
      ]
     },
     "execution_count": 66,
     "metadata": {},
     "output_type": "execute_result"
    }
   ],
   "source": [
    "df"
   ]
  },
  {
   "cell_type": "code",
   "execution_count": 67,
   "id": "e4f3475f-758e-4edc-be7d-8b861e544d10",
   "metadata": {},
   "outputs": [],
   "source": [
    "pipe = df.loc[5, 'PIPE_encoding']"
   ]
  },
  {
   "cell_type": "code",
   "execution_count": 69,
   "id": "d75b4f51-63fb-464a-b477-fe7c0ec27ae6",
   "metadata": {},
   "outputs": [
    {
     "name": "stdout",
     "output_type": "stream",
     "text": [
      "col : 1 | ( $ in millions except per share amounts ) | year ended december 31 2013 1st qtr | year ended december 31 2013 2nd qtr | year ended december 31 2013 3rd qtr | year ended december 31 2013 4th qtr\n",
      "row 1 : 2 | sales and service revenues | $ 1562 | $ 1683 | $ 1637 | $ 1938\n",
      "row 2 : 3 | operating income ( loss ) | 95 | 116 | 127 | 174\n",
      "row 3 : 4 | earnings ( loss ) before income taxes | 65 | 87 | 99 | 143\n",
      "row 4 : 5 | net earnings ( loss ) | 44 | 57 | 69 | 91\n",
      "row 5 : 6 | dividends declared per share | $ 0.10 | $ 0.10 | $ 0.10 | $ 0.20\n",
      "row 6 : 7 | basic earnings ( loss ) per share | $ 0.88 | $ 1.14 | $ 1.38 | $ 1.86\n",
      "row 7 : 8 | diluted earnings ( loss ) per share | $ 0.87 | $ 1.12 | $ 1.36 | $ 1.82\n",
      "\n"
     ]
    }
   ],
   "source": [
    "print(pipe)"
   ]
  },
  {
   "cell_type": "code",
   "execution_count": 70,
   "id": "e2bffdd5-7a48-4c74-8282-1a88f65ba29a",
   "metadata": {},
   "outputs": [],
   "source": [
    "df.to_csv('convfinqa_in_different_format.csv', index=False)"
   ]
  },
  {
   "cell_type": "code",
   "execution_count": 71,
   "id": "2cc433c9-2c70-4060-8048-9ac1377c6c16",
   "metadata": {},
   "outputs": [],
   "source": [
    "def get_markdow_encodings(index, html_content):\n",
    "    # Parse HTML\n",
    "    soup = BeautifulSoup(html_content, 'html.parser')\n",
    "    \n",
    "    # Find table\n",
    "    table = soup.find('table')\n",
    "    \n",
    "    # Initialize PIPE encoded string\n",
    "    pipe_encoded = ''\n",
    "    \n",
    "    # Iterate through rows and cells\n",
    "    for row in table.find_all('tr'):\n",
    "        for cell in row.find_all('td'):\n",
    "            pipe_encoded += cell.text.strip() + ' | '\n",
    "        pipe_encoded += '\\n'  # Add newline after each row\n",
    "    \n",
    "    # Remove the last newline character\n",
    "    pipe_encoded = pipe_encoded[:-1]\n",
    "\n",
    "    if index in index_info:\n",
    "\n",
    "        return pipe_encoded\n",
    "        \n",
    "    else:\n",
    "        lines = data.split('\\n')\n",
    "\n",
    "        # Split the second line by '|' and count the number of characters in each cell\n",
    "        line2_cells = lines[1].split('|')[1:-1]  # Exclude the first and last element which are empty due to leading/trailing '|'\n",
    "        cell_lengths = [len(cell.strip()) for cell in line2_cells]\n",
    "        \n",
    "        # Create a new line with dashes of the same length as each cell\n",
    "        dashes_line = '| ' + ' | '.join(['-' * length for length in cell_lengths]) + ' |'\n",
    "        \n",
    "        # Modify the second line in the original data with the dashes line\n",
    "        lines[1] = dashes_line\n",
    "        \n",
    "        formatted_data = '\\n'.join(lines)\n",
    "        \n",
    "    return formatted_data"
   ]
  },
  {
   "cell_type": "code",
   "execution_count": null,
   "id": "71c732e9-4f77-4b7f-9280-822e3ac969eb",
   "metadata": {},
   "outputs": [],
   "source": []
  },
  {
   "cell_type": "code",
   "execution_count": 59,
   "id": "12e0da55",
   "metadata": {},
   "outputs": [],
   "source": [
    "import pandas as pd\n",
    "from tqdm import tqdm\n",
    "from bs4 import BeautifulSoup"
   ]
  },
  {
   "cell_type": "code",
   "execution_count": 60,
   "id": "ec72795f",
   "metadata": {},
   "outputs": [],
   "source": [
    "df = pd.read_csv('final_dataset.csv')"
   ]
  },
  {
   "cell_type": "code",
   "execution_count": 61,
   "id": "678c7ebe",
   "metadata": {},
   "outputs": [
    {
     "data": {
      "text/plain": [
       "(17612, 4)"
      ]
     },
     "execution_count": 61,
     "metadata": {},
     "output_type": "execute_result"
    }
   ],
   "source": [
    "df.shape"
   ]
  },
  {
   "cell_type": "code",
   "execution_count": 62,
   "id": "4c4722fa",
   "metadata": {},
   "outputs": [],
   "source": [
    "csv_file = pd.read_csv('index_info.csv')\n",
    "index_info = csv_file['Index of data without headers'].tolist()"
   ]
  },
  {
   "cell_type": "code",
   "execution_count": 63,
   "id": "f84882b1",
   "metadata": {},
   "outputs": [],
   "source": [
    "html_content = df.loc[0, 'html_content']"
   ]
  },
  {
   "cell_type": "code",
   "execution_count": 64,
   "id": "70a75761",
   "metadata": {},
   "outputs": [],
   "source": [
    "def get_pipe_encodings(index, html_content):\n",
    "    # Parse HTML\n",
    "    soup = BeautifulSoup(html_content, 'html.parser')\n",
    "    \n",
    "    # Find table\n",
    "    table = soup.find('table')\n",
    "    \n",
    "    # Initialize PIPE encoded string\n",
    "    pipe_encoded = ''\n",
    "    \n",
    "    # Iterate through rows and cells\n",
    "    for row in table.find_all('tr'):\n",
    "        for cell in row.find_all('td'):\n",
    "            pipe_encoded += cell.text.strip() + ' | '\n",
    "        pipe_encoded = pipe_encoded[:-3]  # Remove the last '|' character for each row\n",
    "        pipe_encoded += '\\n'  # Add newline after each row\n",
    "    \n",
    "    # Remove the last newline character\n",
    "    pipe_encoded = pipe_encoded[:-1]\n",
    "\n",
    "    if index in index_info:\n",
    "\n",
    "        rows = pipe_encoded.split('\\n')\n",
    "    \n",
    "        formatted_data = ''\n",
    "        for idx, row in enumerate(rows, start=1):\n",
    "            formatted_data += f\"row {idx} : {row}\\n\"\n",
    "        \n",
    "    else:\n",
    "        rows = pipe_encoded.split('\\n')\n",
    "\n",
    "        formatted_data = \"col : \" + rows[0] + \"\\n\"  # First row is considered column names\n",
    "        \n",
    "        for idx, row in enumerate(rows[1:], start=1):\n",
    "            formatted_data += f\"row {idx} : {row}\\n\"\n",
    "        \n",
    "    return formatted_data"
   ]
  },
  {
   "cell_type": "code",
   "execution_count": 65,
   "id": "787b6877",
   "metadata": {},
   "outputs": [
    {
     "name": "stderr",
     "output_type": "stream",
     "text": [
      "17612it [00:30, 578.33it/s]\n"
     ]
    }
   ],
   "source": [
    "for index, row in tqdm(df.iterrows()):\n",
    "    formatted_data = get_pipe_encodings(row['index'], row['html_content'])\n",
    "    df.at[index, 'PIPE_encoding'] = formatted_data"
   ]
  },
  {
   "cell_type": "code",
   "execution_count": 66,
   "id": "bd74b131",
   "metadata": {},
   "outputs": [
    {
     "data": {
      "text/html": [
       "<div>\n",
       "<style scoped>\n",
       "    .dataframe tbody tr th:only-of-type {\n",
       "        vertical-align: middle;\n",
       "    }\n",
       "\n",
       "    .dataframe tbody tr th {\n",
       "        vertical-align: top;\n",
       "    }\n",
       "\n",
       "    .dataframe thead th {\n",
       "        text-align: right;\n",
       "    }\n",
       "</style>\n",
       "<table border=\"1\" class=\"dataframe\">\n",
       "  <thead>\n",
       "    <tr style=\"text-align: right;\">\n",
       "      <th></th>\n",
       "      <th>index</th>\n",
       "      <th>html_content</th>\n",
       "      <th>question</th>\n",
       "      <th>answer</th>\n",
       "      <th>PIPE_encoding</th>\n",
       "    </tr>\n",
       "  </thead>\n",
       "  <tbody>\n",
       "    <tr>\n",
       "      <th>0</th>\n",
       "      <td>1</td>\n",
       "      <td>&lt;html&gt;\\n &lt;body&gt;\\n  \"distribution date\" ) . unt...</td>\n",
       "      <td>What is common stock under stock and option pl...</td>\n",
       "      <td>17739</td>\n",
       "      <td>row 1 : 1 | common stock under stock and optio...</td>\n",
       "    </tr>\n",
       "    <tr>\n",
       "      <th>1</th>\n",
       "      <td>1</td>\n",
       "      <td>&lt;html&gt;\\n &lt;body&gt;\\n  \"distribution date\" ) . unt...</td>\n",
       "      <td>What is total ?</td>\n",
       "      <td>18851</td>\n",
       "      <td>row 1 : 1 | common stock under stock and optio...</td>\n",
       "    </tr>\n",
       "    <tr>\n",
       "      <th>2</th>\n",
       "      <td>1</td>\n",
       "      <td>&lt;html&gt;\\n &lt;body&gt;\\n  \"distribution date\" ) . unt...</td>\n",
       "      <td>What is common stock under the vertex purchase...</td>\n",
       "      <td>842</td>\n",
       "      <td>row 1 : 1 | common stock under stock and optio...</td>\n",
       "    </tr>\n",
       "    <tr>\n",
       "      <th>3</th>\n",
       "      <td>1</td>\n",
       "      <td>&lt;html&gt;\\n &lt;body&gt;\\n  \"distribution date\" ) . unt...</td>\n",
       "      <td>What is common stock under the vertex 401 ( k ...</td>\n",
       "      <td>270</td>\n",
       "      <td>row 1 : 1 | common stock under stock and optio...</td>\n",
       "    </tr>\n",
       "    <tr>\n",
       "      <th>4</th>\n",
       "      <td>2</td>\n",
       "      <td>&lt;html&gt;\\n &lt;body&gt;\\n  \"three factor formula\" ) . ...</td>\n",
       "      <td>What is basic earnings ( loss ) per share for ...</td>\n",
       "      <td>$ 0.88</td>\n",
       "      <td>col : 1 | ( $ in millions except per share amo...</td>\n",
       "    </tr>\n",
       "    <tr>\n",
       "      <th>...</th>\n",
       "      <td>...</td>\n",
       "      <td>...</td>\n",
       "      <td>...</td>\n",
       "      <td>...</td>\n",
       "      <td>...</td>\n",
       "    </tr>\n",
       "    <tr>\n",
       "      <th>17607</th>\n",
       "      <td>1588</td>\n",
       "      <td>&lt;html&gt;\\n &lt;body&gt;\\n  zimmer holdings , inc . 201...</td>\n",
       "      <td>What is total expense pre-tax for 2013 ?</td>\n",
       "      <td>48.5</td>\n",
       "      <td>col : 1 | for the years ended december 31, | 2...</td>\n",
       "    </tr>\n",
       "    <tr>\n",
       "      <th>17608</th>\n",
       "      <td>1588</td>\n",
       "      <td>&lt;html&gt;\\n &lt;body&gt;\\n  zimmer holdings , inc . 201...</td>\n",
       "      <td>What is total expense pre-tax for 2012 ?</td>\n",
       "      <td>55.0</td>\n",
       "      <td>col : 1 | for the years ended december 31, | 2...</td>\n",
       "    </tr>\n",
       "    <tr>\n",
       "      <th>17609</th>\n",
       "      <td>1588</td>\n",
       "      <td>&lt;html&gt;\\n &lt;body&gt;\\n  zimmer holdings , inc . 201...</td>\n",
       "      <td>What is rsus and other for 2011 ?</td>\n",
       "      <td>18.8</td>\n",
       "      <td>col : 1 | for the years ended december 31, | 2...</td>\n",
       "    </tr>\n",
       "    <tr>\n",
       "      <th>17610</th>\n",
       "      <td>1588</td>\n",
       "      <td>&lt;html&gt;\\n &lt;body&gt;\\n  zimmer holdings , inc . 201...</td>\n",
       "      <td>What is rsus and other for 2013 ?</td>\n",
       "      <td>23.8</td>\n",
       "      <td>col : 1 | for the years ended december 31, | 2...</td>\n",
       "    </tr>\n",
       "    <tr>\n",
       "      <th>17611</th>\n",
       "      <td>1588</td>\n",
       "      <td>&lt;html&gt;\\n &lt;body&gt;\\n  zimmer holdings , inc . 201...</td>\n",
       "      <td>What is total expense pre-tax for 2011 ?</td>\n",
       "      <td>60.5</td>\n",
       "      <td>col : 1 | for the years ended december 31, | 2...</td>\n",
       "    </tr>\n",
       "  </tbody>\n",
       "</table>\n",
       "<p>17612 rows × 5 columns</p>\n",
       "</div>"
      ],
      "text/plain": [
       "       index                                       html_content  \\\n",
       "0          1  <html>\\n <body>\\n  \"distribution date\" ) . unt...   \n",
       "1          1  <html>\\n <body>\\n  \"distribution date\" ) . unt...   \n",
       "2          1  <html>\\n <body>\\n  \"distribution date\" ) . unt...   \n",
       "3          1  <html>\\n <body>\\n  \"distribution date\" ) . unt...   \n",
       "4          2  <html>\\n <body>\\n  \"three factor formula\" ) . ...   \n",
       "...      ...                                                ...   \n",
       "17607   1588  <html>\\n <body>\\n  zimmer holdings , inc . 201...   \n",
       "17608   1588  <html>\\n <body>\\n  zimmer holdings , inc . 201...   \n",
       "17609   1588  <html>\\n <body>\\n  zimmer holdings , inc . 201...   \n",
       "17610   1588  <html>\\n <body>\\n  zimmer holdings , inc . 201...   \n",
       "17611   1588  <html>\\n <body>\\n  zimmer holdings , inc . 201...   \n",
       "\n",
       "                                                question    answer  \\\n",
       "0      What is common stock under stock and option pl...    17739    \n",
       "1                                        What is total ?    18851    \n",
       "2      What is common stock under the vertex purchase...      842    \n",
       "3      What is common stock under the vertex 401 ( k ...      270    \n",
       "4      What is basic earnings ( loss ) per share for ...   $ 0.88    \n",
       "...                                                  ...       ...   \n",
       "17607           What is total expense pre-tax for 2013 ?     48.5    \n",
       "17608           What is total expense pre-tax for 2012 ?     55.0    \n",
       "17609                  What is rsus and other for 2011 ?     18.8    \n",
       "17610                  What is rsus and other for 2013 ?     23.8    \n",
       "17611           What is total expense pre-tax for 2011 ?     60.5    \n",
       "\n",
       "                                           PIPE_encoding  \n",
       "0      row 1 : 1 | common stock under stock and optio...  \n",
       "1      row 1 : 1 | common stock under stock and optio...  \n",
       "2      row 1 : 1 | common stock under stock and optio...  \n",
       "3      row 1 : 1 | common stock under stock and optio...  \n",
       "4      col : 1 | ( $ in millions except per share amo...  \n",
       "...                                                  ...  \n",
       "17607  col : 1 | for the years ended december 31, | 2...  \n",
       "17608  col : 1 | for the years ended december 31, | 2...  \n",
       "17609  col : 1 | for the years ended december 31, | 2...  \n",
       "17610  col : 1 | for the years ended december 31, | 2...  \n",
       "17611  col : 1 | for the years ended december 31, | 2...  \n",
       "\n",
       "[17612 rows x 5 columns]"
      ]
     },
     "execution_count": 66,
     "metadata": {},
     "output_type": "execute_result"
    }
   ],
   "source": [
    "df"
   ]
  },
  {
   "cell_type": "code",
   "execution_count": 67,
   "id": "a79b7327",
   "metadata": {},
   "outputs": [],
   "source": [
    "pipe = df.loc[5, 'PIPE_encoding']"
   ]
  },
  {
   "cell_type": "code",
   "execution_count": 69,
   "id": "d301e001",
   "metadata": {},
   "outputs": [
    {
     "name": "stdout",
     "output_type": "stream",
     "text": [
      "col : 1 | ( $ in millions except per share amounts ) | year ended december 31 2013 1st qtr | year ended december 31 2013 2nd qtr | year ended december 31 2013 3rd qtr | year ended december 31 2013 4th qtr\n",
      "row 1 : 2 | sales and service revenues | $ 1562 | $ 1683 | $ 1637 | $ 1938\n",
      "row 2 : 3 | operating income ( loss ) | 95 | 116 | 127 | 174\n",
      "row 3 : 4 | earnings ( loss ) before income taxes | 65 | 87 | 99 | 143\n",
      "row 4 : 5 | net earnings ( loss ) | 44 | 57 | 69 | 91\n",
      "row 5 : 6 | dividends declared per share | $ 0.10 | $ 0.10 | $ 0.10 | $ 0.20\n",
      "row 6 : 7 | basic earnings ( loss ) per share | $ 0.88 | $ 1.14 | $ 1.38 | $ 1.86\n",
      "row 7 : 8 | diluted earnings ( loss ) per share | $ 0.87 | $ 1.12 | $ 1.36 | $ 1.82\n",
      "\n"
     ]
    }
   ],
   "source": [
    "print(pipe)"
   ]
  },
  {
   "cell_type": "code",
   "execution_count": 70,
   "id": "35331753",
   "metadata": {},
   "outputs": [],
   "source": [
    "df.to_csv('convfinqa_in_different_format.csv', index=False)"
   ]
  },
  {
   "cell_type": "code",
   "execution_count": 73,
   "id": "74dabb4a",
   "metadata": {},
   "outputs": [],
   "source": [
    "def get_markdow_encodings(index, html_content):\n",
    "    # Parse HTML\n",
    "    soup = BeautifulSoup(html_content, 'html.parser')\n",
    "    \n",
    "    # Find table\n",
    "    table = soup.find('table')\n",
    "    \n",
    "    # Initialize PIPE encoded string\n",
    "    pipe_encoded = ''\n",
    "    \n",
    "    # Iterate through rows and cells\n",
    "    for row in table.find_all('tr'):\n",
    "        for cell in row.find_all('td'):\n",
    "            pipe_encoded += cell.text.strip() + ' | '\n",
    "        pipe_encoded += '\\n'  # Add newline after each row\n",
    "    \n",
    "    # Remove the last newline character\n",
    "    pipe_encoded = pipe_encoded[:-1]\n",
    "\n",
    "    if index in index_info:\n",
    "\n",
    "        return pipe_encoded\n",
    "        \n",
    "    else:\n",
    "        lines = pipe_encoded.split('\\n')\n",
    "\n",
    "        # Split the second line by '|' and count the number of characters in each cell\n",
    "        line2_cells = lines[1].split('|')[1:-1]  # Exclude the first and last element which are empty due to leading/trailing '|'\n",
    "        cell_lengths = [len(cell.strip()) for cell in line2_cells]\n",
    "        \n",
    "        # Create a new line with dashes of the same length as each cell\n",
    "        dashes_line = '| ' + ' | '.join(['-' * length for length in cell_lengths]) + ' |'\n",
    "        \n",
    "        # Modify the second line in the original data with the dashes line\n",
    "        lines[1] = dashes_line\n",
    "        \n",
    "        formatted_data = '\\n'.join(lines)\n",
    "        \n",
    "    return formatted_data"
   ]
  },
  {
   "cell_type": "code",
   "execution_count": 74,
   "id": "5aaf1dab",
   "metadata": {},
   "outputs": [
    {
     "name": "stderr",
     "output_type": "stream",
     "text": [
      "17612it [00:30, 584.32it/s]\n"
     ]
    }
   ],
   "source": [
    "for index, row in tqdm(df.iterrows()):\n",
    "    formatted_data = get_markdow_encodings(row['index'], row['html_content'])\n",
    "    df.at[index, 'markdown_encoding'] = formatted_data"
   ]
  },
  {
   "cell_type": "code",
   "execution_count": 80,
   "id": "9aa55a05-c8b4-445c-b42e-11f314591f7e",
   "metadata": {},
   "outputs": [],
   "source": [
    "pipe = df.loc[0, 'markdown_encoding']"
   ]
  },
  {
   "cell_type": "code",
   "execution_count": 81,
   "id": "87291f8b-f3b9-43f2-8905-fe85156defe2",
   "metadata": {},
   "outputs": [
    {
     "name": "stdout",
     "output_type": "stream",
     "text": [
      "1 | common stock under stock and option plans | 17739 | \n",
      "2 | common stock under the vertex purchase plan | 842 | \n",
      "3 | common stock under the vertex 401 ( k ) plan | 270 | \n",
      "4 | total | 18851 | \n"
     ]
    }
   ],
   "source": [
    "print(pipe)"
   ]
  },
  {
   "cell_type": "code",
   "execution_count": 82,
   "id": "46769e41-cb9b-4c2e-ac76-0ecc170b08bd",
   "metadata": {},
   "outputs": [],
   "source": [
    "def get_TSV_encodings(html_content):\n",
    "    # Parse HTML\n",
    "    soup = BeautifulSoup(html_content, 'html.parser')\n",
    "\n",
    "    # Find the table\n",
    "    table = soup.find('table')\n",
    "    \n",
    "    # Extract table data and format into TSV\n",
    "    tsv_content = ''\n",
    "    for row in table.find_all('tr'):\n",
    "        cells = row.find_all('td')\n",
    "        tsv_content += '\\t'.join(cell.get_text(strip=True) for cell in cells) + '\\n'\n",
    "\n",
    "    return tsv_content"
   ]
  },
  {
   "cell_type": "code",
   "execution_count": 87,
   "id": "1e6d51b6-ef8e-4d28-8221-fe1011bc0769",
   "metadata": {},
   "outputs": [
    {
     "name": "stdout",
     "output_type": "stream",
     "text": [
      "1\t( $ in millions except per share amounts )\tyear ended december 31 2013 1st qtr\tyear ended december 31 2013 2nd qtr\tyear ended december 31 2013 3rd qtr\tyear ended december 31 2013 4th qtr\n",
      "2\tsales and service revenues\t$ 1562\t$ 1683\t$ 1637\t$ 1938\n",
      "3\toperating income ( loss )\t95\t116\t127\t174\n",
      "4\tearnings ( loss ) before income taxes\t65\t87\t99\t143\n",
      "5\tnet earnings ( loss )\t44\t57\t69\t91\n",
      "6\tdividends declared per share\t$ 0.10\t$ 0.10\t$ 0.10\t$ 0.20\n",
      "7\tbasic earnings ( loss ) per share\t$ 0.88\t$ 1.14\t$ 1.38\t$ 1.86\n",
      "8\tdiluted earnings ( loss ) per share\t$ 0.87\t$ 1.12\t$ 1.36\t$ 1.82\n",
      "\n"
     ]
    }
   ],
   "source": [
    "pipe = get_TSV_encodings(df.loc[5, 'html_content'])\n",
    "print(pipe)"
   ]
  },
  {
   "cell_type": "code",
   "execution_count": 88,
   "id": "3f7f4284-cab7-42f0-bdbd-cc0e20ad8a7e",
   "metadata": {},
   "outputs": [
    {
     "name": "stderr",
     "output_type": "stream",
     "text": [
      "17612it [00:30, 583.56it/s]\n"
     ]
    }
   ],
   "source": [
    "for index, row in tqdm(df.iterrows()):\n",
    "    formatted_data = get_TSV_encodings(row['html_content'])\n",
    "    df.at[index, 'TSV_encoding'] = formatted_data"
   ]
  },
  {
   "cell_type": "code",
   "execution_count": 89,
   "id": "358a55af-6802-4b53-9867-c22984b15ef0",
   "metadata": {},
   "outputs": [
    {
     "data": {
      "text/html": [
       "<div>\n",
       "<style scoped>\n",
       "    .dataframe tbody tr th:only-of-type {\n",
       "        vertical-align: middle;\n",
       "    }\n",
       "\n",
       "    .dataframe tbody tr th {\n",
       "        vertical-align: top;\n",
       "    }\n",
       "\n",
       "    .dataframe thead th {\n",
       "        text-align: right;\n",
       "    }\n",
       "</style>\n",
       "<table border=\"1\" class=\"dataframe\">\n",
       "  <thead>\n",
       "    <tr style=\"text-align: right;\">\n",
       "      <th></th>\n",
       "      <th>index</th>\n",
       "      <th>html_content</th>\n",
       "      <th>question</th>\n",
       "      <th>answer</th>\n",
       "      <th>PIPE_encoding</th>\n",
       "      <th>markdown_encoding</th>\n",
       "      <th>TSV_encoding</th>\n",
       "    </tr>\n",
       "  </thead>\n",
       "  <tbody>\n",
       "    <tr>\n",
       "      <th>0</th>\n",
       "      <td>1</td>\n",
       "      <td>&lt;html&gt;\\n &lt;body&gt;\\n  \"distribution date\" ) . unt...</td>\n",
       "      <td>What is common stock under stock and option pl...</td>\n",
       "      <td>17739</td>\n",
       "      <td>row 1 : 1 | common stock under stock and optio...</td>\n",
       "      <td>1 | common stock under stock and option plans ...</td>\n",
       "      <td>1\\tcommon stock under stock and option plans\\t...</td>\n",
       "    </tr>\n",
       "    <tr>\n",
       "      <th>1</th>\n",
       "      <td>1</td>\n",
       "      <td>&lt;html&gt;\\n &lt;body&gt;\\n  \"distribution date\" ) . unt...</td>\n",
       "      <td>What is total ?</td>\n",
       "      <td>18851</td>\n",
       "      <td>row 1 : 1 | common stock under stock and optio...</td>\n",
       "      <td>1 | common stock under stock and option plans ...</td>\n",
       "      <td>1\\tcommon stock under stock and option plans\\t...</td>\n",
       "    </tr>\n",
       "    <tr>\n",
       "      <th>2</th>\n",
       "      <td>1</td>\n",
       "      <td>&lt;html&gt;\\n &lt;body&gt;\\n  \"distribution date\" ) . unt...</td>\n",
       "      <td>What is common stock under the vertex purchase...</td>\n",
       "      <td>842</td>\n",
       "      <td>row 1 : 1 | common stock under stock and optio...</td>\n",
       "      <td>1 | common stock under stock and option plans ...</td>\n",
       "      <td>1\\tcommon stock under stock and option plans\\t...</td>\n",
       "    </tr>\n",
       "    <tr>\n",
       "      <th>3</th>\n",
       "      <td>1</td>\n",
       "      <td>&lt;html&gt;\\n &lt;body&gt;\\n  \"distribution date\" ) . unt...</td>\n",
       "      <td>What is common stock under the vertex 401 ( k ...</td>\n",
       "      <td>270</td>\n",
       "      <td>row 1 : 1 | common stock under stock and optio...</td>\n",
       "      <td>1 | common stock under stock and option plans ...</td>\n",
       "      <td>1\\tcommon stock under stock and option plans\\t...</td>\n",
       "    </tr>\n",
       "    <tr>\n",
       "      <th>4</th>\n",
       "      <td>2</td>\n",
       "      <td>&lt;html&gt;\\n &lt;body&gt;\\n  \"three factor formula\" ) . ...</td>\n",
       "      <td>What is basic earnings ( loss ) per share for ...</td>\n",
       "      <td>$ 0.88</td>\n",
       "      <td>col : 1 | ( $ in millions except per share amo...</td>\n",
       "      <td>1 | ( $ in millions except per share amounts )...</td>\n",
       "      <td>1\\t( $ in millions except per share amounts )\\...</td>\n",
       "    </tr>\n",
       "    <tr>\n",
       "      <th>...</th>\n",
       "      <td>...</td>\n",
       "      <td>...</td>\n",
       "      <td>...</td>\n",
       "      <td>...</td>\n",
       "      <td>...</td>\n",
       "      <td>...</td>\n",
       "      <td>...</td>\n",
       "    </tr>\n",
       "    <tr>\n",
       "      <th>17607</th>\n",
       "      <td>1588</td>\n",
       "      <td>&lt;html&gt;\\n &lt;body&gt;\\n  zimmer holdings , inc . 201...</td>\n",
       "      <td>What is total expense pre-tax for 2013 ?</td>\n",
       "      <td>48.5</td>\n",
       "      <td>col : 1 | for the years ended december 31, | 2...</td>\n",
       "      <td>1 | for the years ended december 31, | 2013 | ...</td>\n",
       "      <td>1\\tfor the years ended december 31,\\t2013\\t201...</td>\n",
       "    </tr>\n",
       "    <tr>\n",
       "      <th>17608</th>\n",
       "      <td>1588</td>\n",
       "      <td>&lt;html&gt;\\n &lt;body&gt;\\n  zimmer holdings , inc . 201...</td>\n",
       "      <td>What is total expense pre-tax for 2012 ?</td>\n",
       "      <td>55.0</td>\n",
       "      <td>col : 1 | for the years ended december 31, | 2...</td>\n",
       "      <td>1 | for the years ended december 31, | 2013 | ...</td>\n",
       "      <td>1\\tfor the years ended december 31,\\t2013\\t201...</td>\n",
       "    </tr>\n",
       "    <tr>\n",
       "      <th>17609</th>\n",
       "      <td>1588</td>\n",
       "      <td>&lt;html&gt;\\n &lt;body&gt;\\n  zimmer holdings , inc . 201...</td>\n",
       "      <td>What is rsus and other for 2011 ?</td>\n",
       "      <td>18.8</td>\n",
       "      <td>col : 1 | for the years ended december 31, | 2...</td>\n",
       "      <td>1 | for the years ended december 31, | 2013 | ...</td>\n",
       "      <td>1\\tfor the years ended december 31,\\t2013\\t201...</td>\n",
       "    </tr>\n",
       "    <tr>\n",
       "      <th>17610</th>\n",
       "      <td>1588</td>\n",
       "      <td>&lt;html&gt;\\n &lt;body&gt;\\n  zimmer holdings , inc . 201...</td>\n",
       "      <td>What is rsus and other for 2013 ?</td>\n",
       "      <td>23.8</td>\n",
       "      <td>col : 1 | for the years ended december 31, | 2...</td>\n",
       "      <td>1 | for the years ended december 31, | 2013 | ...</td>\n",
       "      <td>1\\tfor the years ended december 31,\\t2013\\t201...</td>\n",
       "    </tr>\n",
       "    <tr>\n",
       "      <th>17611</th>\n",
       "      <td>1588</td>\n",
       "      <td>&lt;html&gt;\\n &lt;body&gt;\\n  zimmer holdings , inc . 201...</td>\n",
       "      <td>What is total expense pre-tax for 2011 ?</td>\n",
       "      <td>60.5</td>\n",
       "      <td>col : 1 | for the years ended december 31, | 2...</td>\n",
       "      <td>1 | for the years ended december 31, | 2013 | ...</td>\n",
       "      <td>1\\tfor the years ended december 31,\\t2013\\t201...</td>\n",
       "    </tr>\n",
       "  </tbody>\n",
       "</table>\n",
       "<p>17612 rows × 7 columns</p>\n",
       "</div>"
      ],
      "text/plain": [
       "       index                                       html_content  \\\n",
       "0          1  <html>\\n <body>\\n  \"distribution date\" ) . unt...   \n",
       "1          1  <html>\\n <body>\\n  \"distribution date\" ) . unt...   \n",
       "2          1  <html>\\n <body>\\n  \"distribution date\" ) . unt...   \n",
       "3          1  <html>\\n <body>\\n  \"distribution date\" ) . unt...   \n",
       "4          2  <html>\\n <body>\\n  \"three factor formula\" ) . ...   \n",
       "...      ...                                                ...   \n",
       "17607   1588  <html>\\n <body>\\n  zimmer holdings , inc . 201...   \n",
       "17608   1588  <html>\\n <body>\\n  zimmer holdings , inc . 201...   \n",
       "17609   1588  <html>\\n <body>\\n  zimmer holdings , inc . 201...   \n",
       "17610   1588  <html>\\n <body>\\n  zimmer holdings , inc . 201...   \n",
       "17611   1588  <html>\\n <body>\\n  zimmer holdings , inc . 201...   \n",
       "\n",
       "                                                question    answer  \\\n",
       "0      What is common stock under stock and option pl...    17739    \n",
       "1                                        What is total ?    18851    \n",
       "2      What is common stock under the vertex purchase...      842    \n",
       "3      What is common stock under the vertex 401 ( k ...      270    \n",
       "4      What is basic earnings ( loss ) per share for ...   $ 0.88    \n",
       "...                                                  ...       ...   \n",
       "17607           What is total expense pre-tax for 2013 ?     48.5    \n",
       "17608           What is total expense pre-tax for 2012 ?     55.0    \n",
       "17609                  What is rsus and other for 2011 ?     18.8    \n",
       "17610                  What is rsus and other for 2013 ?     23.8    \n",
       "17611           What is total expense pre-tax for 2011 ?     60.5    \n",
       "\n",
       "                                           PIPE_encoding  \\\n",
       "0      row 1 : 1 | common stock under stock and optio...   \n",
       "1      row 1 : 1 | common stock under stock and optio...   \n",
       "2      row 1 : 1 | common stock under stock and optio...   \n",
       "3      row 1 : 1 | common stock under stock and optio...   \n",
       "4      col : 1 | ( $ in millions except per share amo...   \n",
       "...                                                  ...   \n",
       "17607  col : 1 | for the years ended december 31, | 2...   \n",
       "17608  col : 1 | for the years ended december 31, | 2...   \n",
       "17609  col : 1 | for the years ended december 31, | 2...   \n",
       "17610  col : 1 | for the years ended december 31, | 2...   \n",
       "17611  col : 1 | for the years ended december 31, | 2...   \n",
       "\n",
       "                                       markdown_encoding  \\\n",
       "0      1 | common stock under stock and option plans ...   \n",
       "1      1 | common stock under stock and option plans ...   \n",
       "2      1 | common stock under stock and option plans ...   \n",
       "3      1 | common stock under stock and option plans ...   \n",
       "4      1 | ( $ in millions except per share amounts )...   \n",
       "...                                                  ...   \n",
       "17607  1 | for the years ended december 31, | 2013 | ...   \n",
       "17608  1 | for the years ended december 31, | 2013 | ...   \n",
       "17609  1 | for the years ended december 31, | 2013 | ...   \n",
       "17610  1 | for the years ended december 31, | 2013 | ...   \n",
       "17611  1 | for the years ended december 31, | 2013 | ...   \n",
       "\n",
       "                                            TSV_encoding  \n",
       "0      1\\tcommon stock under stock and option plans\\t...  \n",
       "1      1\\tcommon stock under stock and option plans\\t...  \n",
       "2      1\\tcommon stock under stock and option plans\\t...  \n",
       "3      1\\tcommon stock under stock and option plans\\t...  \n",
       "4      1\\t( $ in millions except per share amounts )\\...  \n",
       "...                                                  ...  \n",
       "17607  1\\tfor the years ended december 31,\\t2013\\t201...  \n",
       "17608  1\\tfor the years ended december 31,\\t2013\\t201...  \n",
       "17609  1\\tfor the years ended december 31,\\t2013\\t201...  \n",
       "17610  1\\tfor the years ended december 31,\\t2013\\t201...  \n",
       "17611  1\\tfor the years ended december 31,\\t2013\\t201...  \n",
       "\n",
       "[17612 rows x 7 columns]"
      ]
     },
     "execution_count": 89,
     "metadata": {},
     "output_type": "execute_result"
    }
   ],
   "source": [
    "df"
   ]
  },
  {
   "cell_type": "code",
   "execution_count": 93,
   "id": "42ab9f80-1f92-4059-9bc5-6b74bf22e700",
   "metadata": {},
   "outputs": [
    {
     "name": "stdout",
     "output_type": "stream",
     "text": [
      "1\tcommon stock under stock and option plans\t17739\n",
      "2\tcommon stock under the vertex purchase plan\t842\n",
      "3\tcommon stock under the vertex 401 ( k ) plan\t270\n",
      "4\ttotal\t18851\n",
      "\n"
     ]
    }
   ],
   "source": [
    "print(df.loc[0, 'TSV_encoding'])"
   ]
  },
  {
   "cell_type": "code",
   "execution_count": 94,
   "id": "d3a170c9-f2f9-484a-8a25-c59b15621547",
   "metadata": {},
   "outputs": [],
   "source": [
    "df.to_csv('dataset_with_all_encodings.csv', index=False)"
   ]
  },
  {
   "cell_type": "code",
   "execution_count": null,
   "id": "24b107d2-e355-4692-bd7c-9d0a427956b0",
   "metadata": {},
   "outputs": [],
   "source": []
  }
 ],
 "metadata": {
  "kernelspec": {
   "display_name": "Python 3 (ipykernel)",
   "language": "python",
   "name": "python3"
  },
  "language_info": {
   "codemirror_mode": {
    "name": "ipython",
    "version": 3
   },
   "file_extension": ".py",
   "mimetype": "text/x-python",
   "name": "python",
   "nbconvert_exporter": "python",
   "pygments_lexer": "ipython3",
   "version": "3.10.12"
  }
 },
 "nbformat": 4,
 "nbformat_minor": 5
}
