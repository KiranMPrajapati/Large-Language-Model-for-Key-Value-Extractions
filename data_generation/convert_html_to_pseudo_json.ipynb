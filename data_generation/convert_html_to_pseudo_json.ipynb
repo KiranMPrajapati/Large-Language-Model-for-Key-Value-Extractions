{
 "cells": [
  {
   "cell_type": "code",
   "execution_count": 1,
   "metadata": {},
   "outputs": [],
   "source": [
    "import pandas as pd\n",
    "from bs4 import BeautifulSoup\n",
    "import random\n",
    "import re\n",
    "from tqdm import tqdm\n",
    "import numpy as np\n",
    "import json"
   ]
  },
  {
   "cell_type": "code",
   "execution_count": 2,
   "metadata": {},
   "outputs": [],
   "source": [
    "df = pd.read_csv('../data/original_convfinqa_dataset.csv')"
   ]
  },
  {
   "cell_type": "code",
   "execution_count": 3,
   "metadata": {},
   "outputs": [
    {
     "data": {
      "text/plain": [
       "(1588, 2)"
      ]
     },
     "execution_count": 3,
     "metadata": {},
     "output_type": "execute_result"
    }
   ],
   "source": [
    "df.shape"
   ]
  },
  {
   "cell_type": "code",
   "execution_count": 4,
   "metadata": {},
   "outputs": [
    {
     "data": {
      "text/html": [
       "<div>\n",
       "<style scoped>\n",
       "    .dataframe tbody tr th:only-of-type {\n",
       "        vertical-align: middle;\n",
       "    }\n",
       "\n",
       "    .dataframe tbody tr th {\n",
       "        vertical-align: top;\n",
       "    }\n",
       "\n",
       "    .dataframe thead th {\n",
       "        text-align: right;\n",
       "    }\n",
       "</style>\n",
       "<table border=\"1\" class=\"dataframe\">\n",
       "  <thead>\n",
       "    <tr style=\"text-align: right;\">\n",
       "      <th></th>\n",
       "      <th>html_content</th>\n",
       "      <th>questions</th>\n",
       "    </tr>\n",
       "  </thead>\n",
       "  <tbody>\n",
       "    <tr>\n",
       "      <th>0</th>\n",
       "      <td>&lt;html&gt;\\n &lt;body&gt;\\n  \"distribution date\" ) . unt...</td>\n",
       "      <td>['what was the percentage of the total common ...</td>\n",
       "    </tr>\n",
       "    <tr>\n",
       "      <th>1</th>\n",
       "      <td>&lt;html&gt;\\n &lt;body&gt;\\n  \"three factor formula\" ) . ...</td>\n",
       "      <td>['in the year of 2013, during the second quart...</td>\n",
       "    </tr>\n",
       "    <tr>\n",
       "      <th>2</th>\n",
       "      <td>&lt;html&gt;\\n &lt;body&gt;\\n  $ 25.7 million in cash , in...</td>\n",
       "      <td>['in the year of 2009, how much did the income...</td>\n",
       "    </tr>\n",
       "    <tr>\n",
       "      <th>3</th>\n",
       "      <td>&lt;html&gt;\\n &lt;body&gt;\\n  $ 43.3 million in 2011 comp...</td>\n",
       "      <td>['what was the difference between the net sale...</td>\n",
       "    </tr>\n",
       "    <tr>\n",
       "      <th>4</th>\n",
       "      <td>&lt;html&gt;\\n &lt;body&gt;\\n  ( $ 125 million ) and highe...</td>\n",
       "      <td>['what were north american industrial packagin...</td>\n",
       "    </tr>\n",
       "  </tbody>\n",
       "</table>\n",
       "</div>"
      ],
      "text/plain": [
       "                                        html_content  \\\n",
       "0  <html>\\n <body>\\n  \"distribution date\" ) . unt...   \n",
       "1  <html>\\n <body>\\n  \"three factor formula\" ) . ...   \n",
       "2  <html>\\n <body>\\n  $ 25.7 million in cash , in...   \n",
       "3  <html>\\n <body>\\n  $ 43.3 million in 2011 comp...   \n",
       "4  <html>\\n <body>\\n  ( $ 125 million ) and highe...   \n",
       "\n",
       "                                           questions  \n",
       "0  ['what was the percentage of the total common ...  \n",
       "1  ['in the year of 2013, during the second quart...  \n",
       "2  ['in the year of 2009, how much did the income...  \n",
       "3  ['what was the difference between the net sale...  \n",
       "4  ['what were north american industrial packagin...  "
      ]
     },
     "execution_count": 4,
     "metadata": {},
     "output_type": "execute_result"
    }
   ],
   "source": [
    "df.head()"
   ]
  },
  {
   "cell_type": "code",
   "execution_count": 5,
   "metadata": {},
   "outputs": [],
   "source": [
    "df['index'] = df.index + 1"
   ]
  },
  {
   "cell_type": "code",
   "execution_count": 6,
   "metadata": {},
   "outputs": [],
   "source": [
    "df = df.drop('questions', axis='columns')"
   ]
  },
  {
   "cell_type": "code",
   "execution_count": 7,
   "metadata": {},
   "outputs": [],
   "source": [
    "df_index_info = pd.read_csv('../data/index_info.csv')"
   ]
  },
  {
   "cell_type": "code",
   "execution_count": 8,
   "metadata": {},
   "outputs": [],
   "source": [
    "index_info = df_index_info['Index of data without headers'].to_list()"
   ]
  },
  {
   "cell_type": "code",
   "execution_count": 9,
   "metadata": {},
   "outputs": [],
   "source": [
    "def beautify_html(html_content):\n",
    "    soup = BeautifulSoup(html_content, 'html.parser')\n",
    "    table = soup.find('table')\n",
    "    return table"
   ]
  },
  {
   "cell_type": "code",
   "execution_count": 10,
   "metadata": {},
   "outputs": [
    {
     "name": "stderr",
     "output_type": "stream",
     "text": [
      "0it [00:00, ?it/s]"
     ]
    },
    {
     "name": "stderr",
     "output_type": "stream",
     "text": [
      "1588it [00:04, 349.25it/s]\n"
     ]
    }
   ],
   "source": [
    "df_with_added_rows = pd.DataFrame(columns=['index', 'html_content', 'question', 'answer'])\n",
    "for index, df_rows in tqdm(df.iterrows()):\n",
    "    table = beautify_html(df_rows['html_content'])\n",
    "    rows = table.find_all('tr')\n",
    "    if df_rows['index'] in index_info:\n",
    "        # Split the HTML string by <td> tags\n",
    "        random_row = random.randint(0, len(rows) - 1)\n",
    "        \n",
    "    else:\n",
    "        random_row = random.randint(1, len(rows) - 1)\n",
    "        \n",
    "    cells = rows[random_row].find_all('td')\n",
    "    data = [cell.get_text(strip=True) for cell in cells]\n",
    "    \n",
    "    question = \"What is the value for \" + data[1] + \" ?\"\n",
    "    answers = [str(data[i]) for i in range(2, len(data))]\n",
    "    \n",
    "    # data[1] = data[1] + '_v1'\n",
    "    for i in range(2, len(data)):\n",
    "        random_chosen_value = str(random.randint(10, 999999))\n",
    "        if np.random.uniform() < 0.5:\n",
    "            random_chosen_value = '$ ' + random_chosen_value\n",
    "            \n",
    "        data[i] = random_chosen_value\n",
    "        answers.append(random_chosen_value)\n",
    "    \n",
    "    str_data = '<tr> '\n",
    "    for value in data:\n",
    "        str_data += '<td> ' + str(value) + ' </td> '\n",
    "        \n",
    "    str_data += '</tr>'\n",
    "    \n",
    "    if df_rows['index'] in index_info:\n",
    "        # Split the HTML string by <td> tags\n",
    "        rows.insert(random.randint(0, len(rows)-1), str_data)\n",
    "        \n",
    "    else:\n",
    "        rows.insert(random.randint(1, len(rows)-1), str_data)\n",
    "    \n",
    "    # Split the text based on <table> tags\n",
    "    html_parts = df_rows['html_content'].split('<table')\n",
    "\n",
    "    # Add back the <table> tag to the end of each part except the last one\n",
    "    html_parts = [part + '<table>' if i < len(html_parts) - 1 else part for i, part in enumerate(html_parts)]\n",
    "\n",
    "    str_row = ''  \n",
    "    for row in rows:\n",
    "        str_row += str(row)\n",
    "    \n",
    "    if len(html_parts) == 3:\n",
    "        final_html_value = html_parts[0] + str_row + html_parts[2]\n",
    "    else:\n",
    "        final_html_value = html_parts[0] + str_row + ' </table> </body> </html>'\n",
    "    df_with_added_rows.loc[len(df_with_added_rows)] = {\"index\": df_rows['index'],\n",
    "            'html_content': final_html_value,\n",
    "            'question': question,\n",
    "            'answer': answers}\n",
    "    # print(question)\n",
    "    # print(answers)\n",
    "    # print('*****')\n",
    "    # if index == 2:\n",
    "    #     print(final_html_value)\n",
    "        # break"
   ]
  },
  {
   "cell_type": "code",
   "execution_count": 12,
   "metadata": {},
   "outputs": [],
   "source": [
    "def convert_table_to_pseudo_json(row):\n",
    "    # Parse HTML content\n",
    "    soup = BeautifulSoup(row['html_content'], 'html.parser')\n",
    "\n",
    "    # Find the table\n",
    "    table = soup.find('table')\n",
    "\n",
    "    if int(row['index']) in index_info:\n",
    "        lst = []\n",
    "        for rows in table.find_all('tr'):\n",
    "            row = rows.find_all('td')[1:]\n",
    "            nlst = [] \n",
    "            for cell in row:\n",
    "                nlst.append(cell.get_text().strip())\n",
    "            lst.append(nlst)\n",
    "            \n",
    "        str_lst = str(lst).replace('[', '{').replace(']', '}')\n",
    "        \n",
    "        # Convert the dictionary to a string\n",
    "        table_str = str(str_lst)\n",
    "   \n",
    "        # Convert the tag object to a string\n",
    "        tag_str = str(table)\n",
    "   \n",
    "        # Concatenate the table string with the remaining HTML content\n",
    "        output_html = str(soup).replace(tag_str, table_str)\n",
    "        # output_html = html_content.replace('</body>', f'{table_str} .\\n </body>')\n",
    "        \n",
    "    else: \n",
    "        # Extract data from the table\n",
    "        rows = table.find_all('tr')\n",
    "        header_row = rows[0]\n",
    "        headers = [header.text.strip() for header in header_row.find_all('td')[1:]]  # Exclude the first column\n",
    "        \n",
    "        results = [] \n",
    "        for row in rows[1:]:\n",
    "            columns = row.find_all('td')\n",
    "            category = columns[1].text.strip()\n",
    "            result = []\n",
    "            for header, column in zip(headers[1:], columns[2:]):\n",
    "                result.append([header, column.text.strip()])\n",
    "            results.append([category, result])\n",
    "        \n",
    "        str_results = str(results).replace('[', '{').replace(']', '}')\n",
    "        \n",
    "        # Convert the dictionary to a string\n",
    "        table_str = str(str_results)\n",
    "   \n",
    "        # Convert the tag object to a string\n",
    "        tag_str = str(table)\n",
    "   \n",
    "        # Concatenate the table string with the remaining HTML content\n",
    "        output_html = str(soup).replace(tag_str, table_str)\n",
    "        # output_html = html_content.replace('</body>', f'{table_str} .\\n </body>')\n",
    "    return output_html "
   ]
  },
  {
   "cell_type": "code",
   "execution_count": 13,
   "metadata": {},
   "outputs": [
    {
     "name": "stderr",
     "output_type": "stream",
     "text": [
      "1588it [00:04, 367.06it/s]\n"
     ]
    }
   ],
   "source": [
    "for i, row in tqdm(df_with_added_rows.iterrows()):\n",
    "    output = convert_table_to_pseudo_json(row)\n",
    "    df_with_added_rows.at[i, 'pseudo_json_encoding'] = output"
   ]
  },
  {
   "cell_type": "code",
   "execution_count": 14,
   "metadata": {},
   "outputs": [
    {
     "name": "stdout",
     "output_type": "stream",
     "text": [
      "0\n",
      "<html>\n",
      "<body>\n",
      "  \"distribution date\" ) . until the distribution date ( or earlier redemption or expiration of the rights ) , the rights will be traded with , and only with , the common stock . until a right is exercised , the right will not entitle the holder thereof to any rights as a stockholder . if any person or group becomes an acquiring person , each holder of a right , other than rights beneficially owned by the acquiring person , will thereafter have the right to receive upon exercise and payment of the purchase price that number of shares of common stock having a market value of two times the purchase price and , if the company is acquired in a business combination transaction or 50% ( 50 % ) or more of its assets are sold , each holder of a right will thereafter have the right to receive upon exercise and payment of the purchase price that number of shares of common stock of the acquiring company which at the time of the transaction will have a market value of two times the purchase price . at any time after any person becomes an acquiring person and prior to the acquisition by such person or group of 50% ( 50 % ) or more of the outstanding common stock , the board of directors of the company may cause the rights ( other than rights owned by such person or group ) to be exchanged , in whole or in part , for common stock or junior preferred shares , at an exchange rate of one share of common stock per right or one half of one-hundredth of a junior preferred share per right . at any time prior to the acquisition by a person or group of beneficial ownership of 15% ( 15 % ) or more of the outstanding common stock , the board of directors of the company may redeem the rights at a price of $ 0.01 per right . the rights have certain anti-takeover effects , in that they will cause substantial dilution to a person or group that attempts to acquire a significant interest in vertex on terms not approved by the board of directors . common stock reserved for future issuance at december 31 , 2005 , the company has reserved shares of common stock for future issuance under all equity compensation plans as follows ( shares in thousands ) : o . significant revenue arrangements the company has formed strategic collaborations with pharmaceutical companies and other organizations in the areas of drug discovery , development , and commercialization . research , development and commercialization agreements provide the company with financial support and other valuable resources for its research programs and for the development of clinical drug candidates , and the marketing and sales of products . collaborative research , development and commercialization agreements in the company's collaborative research , development and commercialization programs the company seeks to discover , develop and commercialize pharmaceutical products in conjunction with and supported by the company's collaborators . collaborative research and development arrangements may provide research funding over an initial contract period with renewal and termination options that .\n",
      "  {{'common stock under stock and option plans', '17739'}, {'common stock under the vertex purchase plan', '$ 79441'}, {'common stock under the vertex purchase plan', '842'}, {'common stock under the vertex 401 ( k ) plan', '270'}, {'total', '18851'}} </body> </html>\n",
      "What is the value for common stock under the vertex purchase plan ?\n",
      "['842', '$ 79441']\n",
      "***\n",
      "1\n",
      "<html>\n",
      "<body>\n",
      "  \"three factor formula\" ) . the consolidated financial statements include northrop grumman management and support services allocations totaling $ 32 million for the year ended december 31 , 2011 . shared services and infrastructure costs - this category includes costs for functions such as information technology support , systems maintenance , telecommunications , procurement and other shared services while hii was a subsidiary of northrop grumman . these costs were generally allocated to the company using the three factor formula or based on usage . the consolidated financial statements reflect shared services and infrastructure costs allocations totaling $ 80 million for the year ended december 31 , 2011 . northrop grumman-provided benefits - this category includes costs for group medical , dental and vision insurance , 401 ( k ) savings plan , pension and postretirement benefits , incentive compensation and other benefits . these costs were generally allocated to the company based on specific identification of the benefits provided to company employees participating in these benefit plans . the consolidated financial statements include northrop grumman- provided benefits allocations totaling $ 169 million for the year ended december 31 , 2011 . management believes that the methods of allocating these costs are reasonable , consistent with past practices , and in conformity with cost allocation requirements of cas or the far . related party sales and cost of sales prior to the spin-off , hii purchased and sold certain products and services from and to other northrop grumman entities . purchases of products and services from these affiliated entities , which were recorded at cost , were $ 44 million for the year ended december 31 , 2011 . sales of products and services to these entities were $ 1 million for the year ended december 31 , 2011 . former parent's equity in unit transactions between hii and northrop grumman prior to the spin-off have been included in the consolidated financial statements and were effectively settled for cash at the time the transaction was recorded . the net effect of the settlement of these transactions is reflected as former parent's equity in unit in the consolidated statement of changes in equity . 21 . unaudited selected quarterly data unaudited quarterly financial results for the years ended december 31 , 2013 and 2012 , are set forth in the following tables: .\n",
      "  {{'sales and service revenues', {{'year ended december 31 2013 1st qtr', '$ 1562'}, {'year ended december 31 2013 2nd qtr', '$ 1683'}, {'year ended december 31 2013 3rd qtr', '$ 1637'}, {'year ended december 31 2013 4th qtr', '$ 1938'}}}, {'operating income ( loss )', {{'year ended december 31 2013 1st qtr', '95'}, {'year ended december 31 2013 2nd qtr', '116'}, {'year ended december 31 2013 3rd qtr', '127'}, {'year ended december 31 2013 4th qtr', '174'}}}, {'earnings ( loss ) before income taxes', {{'year ended december 31 2013 1st qtr', '65'}, {'year ended december 31 2013 2nd qtr', '87'}, {'year ended december 31 2013 3rd qtr', '99'}, {'year ended december 31 2013 4th qtr', '143'}}}, {'net earnings ( loss )', {{'year ended december 31 2013 1st qtr', '44'}, {'year ended december 31 2013 2nd qtr', '57'}, {'year ended december 31 2013 3rd qtr', '69'}, {'year ended december 31 2013 4th qtr', '91'}}}, {'earnings ( loss ) before income taxes', {{'year ended december 31 2013 1st qtr', '586190'}, {'year ended december 31 2013 2nd qtr', '$ 861591'}, {'year ended december 31 2013 3rd qtr', '$ 326751'}, {'year ended december 31 2013 4th qtr', '894104'}}}, {'dividends declared per share', {{'year ended december 31 2013 1st qtr', '$ 0.10'}, {'year ended december 31 2013 2nd qtr', '$ 0.10'}, {'year ended december 31 2013 3rd qtr', '$ 0.10'}, {'year ended december 31 2013 4th qtr', '$ 0.20'}}}, {'basic earnings ( loss ) per share', {{'year ended december 31 2013 1st qtr', '$ 0.88'}, {'year ended december 31 2013 2nd qtr', '$ 1.14'}, {'year ended december 31 2013 3rd qtr', '$ 1.38'}, {'year ended december 31 2013 4th qtr', '$ 1.86'}}}, {'diluted earnings ( loss ) per share', {{'year ended december 31 2013 1st qtr', '$ 0.87'}, {'year ended december 31 2013 2nd qtr', '$ 1.12'}, {'year ended december 31 2013 3rd qtr', '$ 1.36'}, {'year ended december 31 2013 4th qtr', '$ 1.82'}}}} </body> </html>\n",
      "What is the value for earnings ( loss ) before income taxes ?\n",
      "['65', '87', '99', '143', '586190', '$ 861591', '$ 326751', '894104']\n",
      "***\n",
      "2\n",
      "<html>\n",
      "<body>\n",
      "  $ 25.7 million in cash , including $ 4.2 million in taxes and 1373609 of hep 2019s common units having a fair value of $ 53.5 million . roadrunner / beeson pipelines transaction also on december 1 , 2009 , hep acquired our two newly constructed pipelines for $ 46.5 million , consisting of a 65- mile , 16-inch crude oil pipeline ( the 201croadrunner pipeline 201d ) that connects our navajo refinery lovington facility to a terminus of centurion pipeline l.p . 2019s pipeline extending between west texas and cushing , oklahoma and a 37- mile , 8-inch crude oil pipeline that connects hep 2019s new mexico crude oil gathering system to our navajo refinery lovington facility ( the 201cbeeson pipeline 201d ) . tulsa west loading racks transaction on august 1 , 2009 , hep acquired from us , certain truck and rail loading/unloading facilities located at our tulsa west facility for $ 17.5 million . the racks load refined products and lube oils produced at the tulsa west facility onto rail cars and/or tanker trucks . lovington-artesia pipeline transaction on june 1 , 2009 , hep acquired our newly constructed , 16-inch intermediate pipeline for $ 34.2 million that runs 65 miles from our navajo refinery 2019s crude oil distillation and vacuum facilities in lovington , new mexico to its petroleum refinery located in artesia , new mexico . slc pipeline joint venture interest on march 1 , 2009 , hep acquired a 25% ( 25 % ) joint venture interest in the slc pipeline , a new 95-mile intrastate pipeline system jointly owned with plains . the slc pipeline commenced operations effective march 2009 and allows various refineries in the salt lake city area , including our woods cross refinery , to ship crude oil into the salt lake city area from the utah terminus of the frontier pipeline as well as crude oil flowing from wyoming and utah via plains 2019 rocky mountain pipeline . hep 2019s capitalized joint venture contribution was $ 25.5 million . rio grande pipeline sale on december 1 , 2009 , hep sold its 70% ( 70 % ) interest in rio grande pipeline company ( 201crio grande 201d ) to a subsidiary of enterprise products partners lp for $ 35 million . results of operations of rio grande are presented in discontinued operations . in accounting for this sale , hep recorded a gain of $ 14.5 million and a receivable of $ 2.2 million representing its final distribution from rio grande . the recorded net asset balance of rio grande at december 1 , 2009 , was $ 22.7 million , consisting of cash of $ 3.1 million , $ 29.9 million in properties and equipment , net and $ 10.3 million in equity , representing bp , plc 2019s 30% ( 30 % ) noncontrolling interest . the following table provides income statement information related to hep 2019s discontinued operations : year ended december 31 , 2009 ( in thousands ) .\n",
      "  {{'income from discontinued operations before income taxes', {{'year ended december 31 2009 ( in thousands )', '$ 5367'}}}, {'income tax expense', {{'year ended december 31 2009 ( in thousands )', '194674'}}}, {'income tax expense', {{'year ended december 31 2009 ( in thousands )', '-942 ( 942 )'}}}, {'income from discontinued operations net', {{'year ended december 31 2009 ( in thousands )', '4425'}}}, {'gain on sale of discontinued operations before income taxes', {{'year ended december 31 2009 ( in thousands )', '14479'}}}, {'income tax expense', {{'year ended december 31 2009 ( in thousands )', '-1978 ( 1978 )'}}}, {'gain on sale of discontinued operations net', {{'year ended december 31 2009 ( in thousands )', '12501'}}}, {'income from discontinued operations net', {{'year ended december 31 2009 ( in thousands )', '$ 16926'}}}} </body> </html>\n",
      "What is the value for income tax expense ?\n",
      "['-1978 ( 1978 )', '194674']\n",
      "***\n",
      "3\n",
      "<html>\n",
      "<body>\n",
      "  $ 43.3 million in 2011 compared to $ 34.1 million in 2010 . the retail segment represented 13% ( 13 % ) and 15% ( 15 % ) of the company 2019s total net sales in 2011 and 2010 , respectively . the retail segment 2019s operating income was $ 4.7 billion , $ 3.2 billion , and $ 2.3 billion during 2012 , 2011 , and 2010 respectively . these year-over-year increases in retail operating income were primarily attributable to higher overall net sales that resulted in significantly higher average revenue per store during the respective years . gross margin gross margin for 2012 , 2011 and 2010 are as follows ( in millions , except gross margin percentages ) : .\n",
      "  {{'net sales', {{'2012', '$ 156508'}, {'2011', '$ 108249'}, {'2010', '$ 65225'}}}, {'cost of sales', {{'2012', '87846'}, {'2011', '64431'}, {'2010', '39541'}}}, {'gross margin', {{'2012', '$ 68662'}, {'2011', '$ 43818'}, {'2010', '$ 25684'}}}, {'gross margin percentage', {{'2012', '491256'}, {'2011', '29145'}, {'2010', '$ 506717'}}}, {'gross margin percentage', {{'2012', '43.9% ( 43.9 % )'}, {'2011', '40.5% ( 40.5 % )'}, {'2010', '39.4% ( 39.4 % )'}}}} </body> </html>\n",
      "What is the value for gross margin percentage ?\n",
      "['43.9% ( 43.9 % )', '40.5% ( 40.5 % )', '39.4% ( 39.4 % )', '491256', '29145', '$ 506717']\n",
      "***\n",
      "4\n",
      "<html>\n",
      "<body>\n",
      "  ( $ 125 million ) and higher maintenance outage costs ( $ 18 million ) . additionally , operating profits in 2012 include costs of $ 184 million associated with the acquisition and integration of temple-inland , mill divestiture costs of $ 91 million , costs associated with the restructuring of our european packaging busi- ness of $ 17 million and a $ 3 million gain for other items , while operating costs in 2011 included costs associated with signing an agreement to acquire temple-inland of $ 20 million and a gain of $ 7 million for other items . industrial packaging .\n",
      "  {{'sales', {{'2012', '$ 13280'}, {'2011', '$ 10430'}, {'2010', '$ 9840'}}}, {'operating profit', {{'2012', '700203'}, {'2011', '$ 587919'}, {'2010', '5766'}}}, {'operating profit', {{'2012', '1066'}, {'2011', '1147'}, {'2010', '826'}}}} </body> </html>\n",
      "What is the value for operating profit ?\n",
      "['1066', '1147', '826', '700203', '$ 587919', '5766']\n",
      "***\n",
      "5\n",
      "<html>\n",
      "<body>\n",
      "  ( $ 66 million net-of-tax ) as a result of customer credits to be realized by electric customers of entergy louisiana , consistent with the terms of the stipulated settlement in the business combination proceeding . see note 2 to the financial statements for further discussion of the business combination and customer credits . results of operations for 2015 also include the sale in december 2015 of the 583 mw rhode island state energy center for a realized gain of $ 154 million ( $ 100 million net-of-tax ) on the sale and the $ 77 million ( $ 47 million net-of-tax ) write-off and regulatory charges to recognize that a portion of the assets associated with the waterford 3 replacement steam generator project is no longer probable of recovery . see note 14 to the financial statements for further discussion of the rhode island state energy center sale . see note 2 to the financial statements for further discussion of the waterford 3 replacement steam generator prudence review proceeding . net revenue utility following is an analysis of the change in net revenue comparing 2016 to 2015 . amount ( in millions ) .\n",
      "  {{'2015 net revenue', {{'amount ( in millions )', '$ 5829'}}}, {'retail electric price', {{'amount ( in millions )', '289'}}}, {'louisiana act 55 financing savings obligation', {{'amount ( in millions )', '177322'}}}, {'louisiana business combination customer credits', {{'amount ( in millions )', '107'}}}, {'volume/weather', {{'amount ( in millions )', '14'}}}, {'louisiana act 55 financing savings obligation', {{'amount ( in millions )', '-17 ( 17 )'}}}, {'other', {{'amount ( in millions )', '-43 ( 43 )'}}}, {'2016 net revenue', {{'amount ( in millions )', '$ 6179'}}}} </body> </html>\n",
      "What is the value for louisiana act 55 financing savings obligation ?\n",
      "['-17 ( 17 )', '177322']\n",
      "***\n",
      "6\n",
      "<html>\n",
      "<body>\n",
      "  ( 1 ) adjusted other income ( expense ) excludes pension settlement charges of $ 37 million , $ 128 million , and $ 220 million , for the years ended 2018 , 2017 , and 2016 , respectively . ( 2 ) adjusted items are generally taxed at the estimated annual effective tax rate , except for the applicable tax impact associated with estimated restructuring plan expenses , legacy litigation , accelerated tradename amortization , impairment charges and non-cash pension settlement charges , which are adjusted at the related jurisdictional rates . in addition , tax expense excludes the tax impacts from the sale of certain assets and liabilities previously classified as held for sale as well as the tax adjustments recorded to finalize the 2017 accounting for the enactment date impact of the tax reform act recorded pursuant torr sab 118 . ( 3 ) adjusted net income from discontinued operations excludes the gain on sale of discontinued operations of $ 82 million , $ 779 million , and $ 0 million for the years ended 2018 , 2017 , and 2016 , respectively . adjusted net income from discontinued operations excludes intangible asset amortization of $ 0 million , $ 11rr million , and $ 120 million for the twelve months ended december 31 , 2018 , 2017 , and 2016 , respectively . the effective tax rate was further adjusted for the applicable tax impact associated with the gain on sale and intangible asset amortization , as applicable . free cash flow we use free cash flow , defined as cash flow provided by operations minus capital expenditures , as a non-gaap measure of our core operating performance and cash generating capabilities of our business operations . this supplemental information related to free cash flow represents a measure not in accordance with u.s . gaap and should be viewed in addition to , not instead of , our financial statements . the use of this non-gaap measure does not imply or represent the residual cash flow for discretionary expenditures . a reconciliation of this non-gaap measure to cash flow provided by operations is as follows ( in millions ) : .\n",
      "  {{'free cash flow provided by continuing operations', {{'2018', '531366'}, {'2017', '920586'}, {'2016', '$ 327770'}}}, {'cash provided by continuing operating activities', {{'2018', '$ 1686'}, {'2017', '$ 669'}, {'2016', '$ 1829'}}}, {'capital expenditures used for continuing operations', {{'2018', '-240 ( 240 )'}, {'2017', '-183 ( 183 )'}, {'2016', '-156 ( 156 )'}}}, {'free cash flow provided by continuing operations', {{'2018', '$ 1446'}, {'2017', '$ 486'}, {'2016', '$ 1673'}}}} </body> </html>\n",
      "What is the value for free cash flow provided by continuing operations ?\n",
      "['$ 1446', '$ 486', '$ 1673', '531366', '920586', '$ 327770']\n",
      "***\n",
      "7\n",
      "<html>\n",
      "<body>\n",
      "  ( 1 ) includes shares repurchased through our publicly announced share repurchase program and shares tendered to pay the exercise price and tax withholding on employee stock options . shareowner return performance graph the following performance graph and related information shall not be deemed 201csoliciting material 201d or to be 201cfiled 201d with the securities and exchange commission , nor shall such information be incorporated by reference into any future filing under the securities act of 1933 or securities exchange act of 1934 , each as amended , except to the extent that the company specifically incorporates such information by reference into such filing . the following graph shows a five-year comparison of cumulative total shareowners 2019 returns for our class b common stock , the s&amp;p 500 index , and the dow jones transportation average . the comparison of the total cumulative return on investment , which is the change in the quarterly stock price plus reinvested dividends for each of the quarterly periods , assumes that $ 100 was invested on december 31 , 2004 in the s&amp;p 500 index , the dow jones transportation average , and our class b common stock . comparison of five year cumulative total return $ 40.00 $ 60.00 $ 80.00 $ 100.00 $ 120.00 $ 140.00 $ 160.00 2004 20092008200720062005 s&amp;p 500 ups dj transport .\n",
      "  {{'united parcel service inc .', {{'12/31/04', '$ 100.00'}, {'12/31/05', '$ 89.49'}, {'12/31/06', '$ 91.06'}, {'12/31/07', '$ 87.88'}, {'12/31/08', '$ 70.48'}, {'12/31/09', '$ 75.95'}}}, {'s&p 500 index', {{'12/31/04', '$ 435406'}, {'12/31/05', '434402'}, {'12/31/06', '$ 689323'}, {'12/31/07', '$ 527253'}, {'12/31/08', '869599'}, {'12/31/09', '310177'}}}, {'s&p 500 index', {{'12/31/04', '$ 100.00'}, {'12/31/05', '$ 104.91'}, {'12/31/06', '$ 121.48'}, {'12/31/07', '$ 128.15'}, {'12/31/08', '$ 80.74'}, {'12/31/09', '$ 102.11'}}}, {'dow jones transportation average', {{'12/31/04', '$ 100.00'}, {'12/31/05', '$ 111.65'}, {'12/31/06', '$ 122.61'}, {'12/31/07', '$ 124.35'}, {'12/31/08', '$ 97.72'}, {'12/31/09', '$ 115.88'}}}} </body> </html>\n",
      "What is the value for s&p 500 index ?\n",
      "['$ 100.00', '$ 104.91', '$ 121.48', '$ 128.15', '$ 80.74', '$ 102.11', '$ 435406', '434402', '$ 689323', '$ 527253', '869599', '310177']\n",
      "***\n",
      "8\n",
      "<html>\n",
      "<body>\n",
      "  ( 1 ) the cumulative total return assumes reinvestment of dividends . ( 2 ) the total return is weighted according to market capitalization of each company at the beginning of each year . ( f ) purchases of equity securities by the issuer and affiliated purchasers we have not repurchased any of our common stock since the company filed its initial registration statement on march 16 , ( g ) securities authorized for issuance under equity compensation plans a description of securities authorized for issuance under our equity compensation plans will be incorporated herein by reference to the proxy statement for the 2012 annual meeting of stockholders to be filed within 120 days after the end of the company 2019s fiscal year . item 6 . selected financial data .\n",
      "  {{'sales and service revenues', {{'year ended december 31 2011', '$ 6575'}, {'year ended december 31 2010', '$ 6723'}, {'year ended december 31 2009', '$ 6292'}, {'year ended december 31 2008', '$ 6189'}, {'year ended december 31 2007', '$ 5692'}}}, {'goodwill impairment', {{'year ended december 31 2011', '290'}, {'year ended december 31 2010', '0'}, {'year ended december 31 2009', '0'}, {'year ended december 31 2008', '2490'}, {'year ended december 31 2007', '0'}}}, {'operating income ( loss )', {{'year ended december 31 2011', '110'}, {'year ended december 31 2010', '248'}, {'year ended december 31 2009', '211'}, {'year ended december 31 2008', '-2354 ( 2354 )'}, {'year ended december 31 2007', '447'}}}, {'net earnings ( loss )', {{'year ended december 31 2011', '-94 ( 94 )'}, {'year ended december 31 2010', '135'}, {'year ended december 31 2009', '124'}, {'year ended december 31 2008', '-2420 ( 2420 )'}, {'year ended december 31 2007', '276'}}}, {'total assets', {{'year ended december 31 2011', '6001'}, {'year ended december 31 2010', '5203'}, {'year ended december 31 2009', '5036'}, {'year ended december 31 2008', '4760'}, {'year ended december 31 2007', '7658'}}}, {'long-term debt ( 1 )', {{'year ended december 31 2011', '1830'}, {'year ended december 31 2010', '105'}, {'year ended december 31 2009', '283'}, {'year ended december 31 2008', '283'}, {'year ended december 31 2007', '283'}}}, {'total long-term obligations', {{'year ended december 31 2011', '3757'}, {'year ended december 31 2010', '1559'}, {'year ended december 31 2009', '1645'}, {'year ended december 31 2008', '1761'}, {'year ended december 31 2007', '1790'}}}, {'long-term debt ( 1 )', {{'year ended december 31 2011', '456195'}, {'year ended december 31 2010', '780215'}, {'year ended december 31 2009', '$ 211135'}, {'year ended december 31 2008', '$ 729973'}, {'year ended december 31 2007', '400777'}}}, {'free cash flow ( 2 )', {{'year ended december 31 2011', '331'}, {'year ended december 31 2010', '168'}, {'year ended december 31 2009', '-269 ( 269 )'}, {'year ended december 31 2008', '121'}, {'year ended december 31 2007', '364'}}}, {'basic earnings ( loss ) per share', {{'year ended december 31 2011', '$ -1.93 ( 1.93 )'}, {'year ended december 31 2010', '$ 2.77'}, {'year ended december 31 2009', '$ 2.54'}, {'year ended december 31 2008', '$ -49.61 ( 49.61 )'}, {'year ended december 31 2007', '$ 5.65'}}}, {'diluted earnings ( loss ) per share', {{'year ended december 31 2011', '$ -1.93 ( 1.93 )'}, {'year ended december 31 2010', '$ 2.77'}, {'year ended december 31 2009', '$ 2.54'}, {'year ended december 31 2008', '$ -49.61 ( 49.61 )'}, {'year ended december 31 2007', '$ 5.65'}}}} </body> </html>\n",
      "What is the value for long-term debt ( 1 ) ?\n",
      "['1830', '105', '283', '283', '283', '456195', '780215', '$ 211135', '$ 729973', '400777']\n",
      "***\n",
      "9\n",
      "<html>\n",
      "<body>\n",
      "  ( 2 ) for purposes of calculating the ratio of earnings to fixed charges , earnings consist of earnings before income taxes minus income from equity investees plus fixed charges . fixed charges consist of interest expense and the portion of rental expense we believe is representative of the interest component of rental expense . ( a ) for the years ended december 31 , 2010 and 2009 , earnings available for fixed charges were inadequate to cover fixed charges by $ 37.0 million and $ 461.2 million , respectively . ( 3 ) ebitda is defined as consolidated net income ( loss ) before interest expense , income tax expense ( benefit ) , depreciation , and amortization . adjusted ebitda , which is a measure defined in our credit agreements , is calculated by adjusting ebitda for certain items of income and expense including ( but not limited to ) the following : ( a ) non-cash equity-based compensation ; ( b ) goodwill impairment charges ; ( c ) sponsor fees ; ( d ) certain consulting fees ; ( e ) debt-related legal and accounting costs ; ( f ) equity investment income and losses ; ( g ) certain severance and retention costs ; ( h ) gains and losses from the early extinguishment of debt ; ( i ) gains and losses from asset dispositions outside the ordinary course of business ; and ( j ) non-recurring , extraordinary or unusual gains or losses or expenses . we have included a reconciliation of ebitda and adjusted ebitda in the table below . both ebitda and adjusted ebitda are considered non-gaap financial measures . generally , a non-gaap financial measure is a numerical measure of a company 2019s performance , financial position or cash flows that either excludes or includes amounts that are not normally included or excluded in the most directly comparable measure calculated and presented in accordance with gaap . non-gaap measures used by the company may differ from similar measures used by other companies , even when similar terms are used to identify such measures . we believe that ebitda and adjusted ebitda provide helpful information with respect to our operating performance and cash flows including our ability to meet our future debt service , capital expenditures and working capital requirements . adjusted ebitda also provides helpful information as it is the primary measure used in certain financial covenants contained in our credit agreements . the following unaudited table sets forth reconciliations of net income ( loss ) to ebitda and ebitda to adjusted ebitda for the periods presented: .\n",
      "  {{'net income ( loss )', {{'years ended december 31 , 2013', '$ 132.8'}, {'years ended december 31 , 2012', '$ 119.0'}, {'years ended december 31 , 2011', '$ 17.1'}, {'years ended december 31 , 2010', '$ -29.2 ( 29.2 )'}, {'years ended december 31 , 2009', '$ -373.4 ( 373.4 )'}}}, {'depreciation and amortization', {{'years ended december 31 , 2013', '208.2'}, {'years ended december 31 , 2012', '210.2'}, {'years ended december 31 , 2011', '204.9'}, {'years ended december 31 , 2010', '209.4'}, {'years ended december 31 , 2009', '218.2'}}}, {'income tax expense ( benefit )', {{'years ended december 31 , 2013', '62.7'}, {'years ended december 31 , 2012', '67.1'}, {'years ended december 31 , 2011', '11.2'}, {'years ended december 31 , 2010', '-7.8 ( 7.8 )'}, {'years ended december 31 , 2009', '-87.8 ( 87.8 )'}}}, {'net income ( loss )', {{'years ended december 31 , 2013', '791148'}, {'years ended december 31 , 2012', '$ 445598'}, {'years ended december 31 , 2011', '$ 208208'}, {'years ended december 31 , 2010', '$ 792535'}, {'years ended december 31 , 2009', '$ 319755'}}}, {'interest expense net', {{'years ended december 31 , 2013', '250.1'}, {'years ended december 31 , 2012', '307.4'}, {'years ended december 31 , 2011', '324.2'}, {'years ended december 31 , 2010', '391.9'}, {'years ended december 31 , 2009', '431.7'}}}, {'ebitda', {{'years ended december 31 , 2013', '653.8'}, {'years ended december 31 , 2012', '703.7'}, {'years ended december 31 , 2011', '557.4'}, {'years ended december 31 , 2010', '564.3'}, {'years ended december 31 , 2009', '188.7'}}}, {'non-cash equity-based compensation', {{'years ended december 31 , 2013', '8.6'}, {'years ended december 31 , 2012', '22.1'}, {'years ended december 31 , 2011', '19.5'}, {'years ended december 31 , 2010', '11.5'}, {'years ended december 31 , 2009', '15.9'}}}, {'sponsor fees', {{'years ended december 31 , 2013', '2.5'}, {'years ended december 31 , 2012', '5.0'}, {'years ended december 31 , 2011', '5.0'}, {'years ended december 31 , 2010', '5.0'}, {'years ended december 31 , 2009', '5.0'}}}, {'consulting and debt-related professional fees', {{'years ended december 31 , 2013', '0.1'}, {'years ended december 31 , 2012', '0.6'}, {'years ended december 31 , 2011', '5.1'}, {'years ended december 31 , 2010', '15.1'}, {'years ended december 31 , 2009', '14.1'}}}, {'goodwill impairment', {{'years ended december 31 , 2013', '2014'}, {'years ended december 31 , 2012', '2014'}, {'years ended december 31 , 2011', '2014'}, {'years ended december 31 , 2010', '2014'}, {'years ended december 31 , 2009', '241.8'}}}, {'net loss ( gain ) on extinguishments of long-term debt', {{'years ended december 31 , 2013', '64.0'}, {'years ended december 31 , 2012', '17.2'}, {'years ended december 31 , 2011', '118.9'}, {'years ended december 31 , 2010', '-2.0 ( 2.0 )'}, {'years ended december 31 , 2009', '2014'}}}, {'litigation net ( i )', {{'years ended december 31 , 2013', '-4.1 ( 4.1 )'}, {'years ended december 31 , 2012', '4.3'}, {'years ended december 31 , 2011', '2014'}, {'years ended december 31 , 2010', '2014'}, {'years ended december 31 , 2009', '2014'}}}, {'ipo- and secondary-offering related expenses', {{'years ended december 31 , 2013', '75.0'}, {'years ended december 31 , 2012', '2014'}, {'years ended december 31 , 2011', '2014'}, {'years ended december 31 , 2010', '2014'}, {'years ended december 31 , 2009', '2014'}}}, {'other adjustments ( ii )', {{'years ended december 31 , 2013', '8.6'}, {'years ended december 31 , 2012', '13.7'}, {'years ended december 31 , 2011', '11.4'}, {'years ended december 31 , 2010', '7.9'}, {'years ended december 31 , 2009', '-0.1 ( 0.1 )'}}}, {'adjusted ebitda', {{'years ended december 31 , 2013', '$ 808.5'}, {'years ended december 31 , 2012', '$ 766.6'}, {'years ended december 31 , 2011', '$ 717.3'}, {'years ended december 31 , 2010', '$ 601.8'}, {'years ended december 31 , 2009', '$ 465.4'}}}} </body> </html>\n",
      "What is the value for net income ( loss ) ?\n",
      "['$ 132.8', '$ 119.0', '$ 17.1', '$ -29.2 ( 29.2 )', '$ -373.4 ( 373.4 )', '791148', '$ 445598', '$ 208208', '$ 792535', '$ 319755']\n",
      "***\n",
      "10\n",
      "<html>\n",
      "<body>\n",
      "  ( 2 ) in 2013 , our principal u.k subsidiary agreed with the trustees of one of the u.k . plans to contribute an average of $ 11 million per year to that pension plan for the next three years . the trustees of the plan have certain rights to request that our u.k . subsidiary advance an amount equal to an actuarially determined winding-up deficit . as of december 31 , 2015 , the estimated winding-up deficit was a3240 million ( $ 360 million at december 31 , 2015 exchange rates ) . the trustees of the plan have accepted in practice the agreed-upon schedule of contributions detailed above and have not requested the winding-up deficit be paid . ( 3 ) purchase obligations are defined as agreements to purchase goods and services that are enforceable and legally binding on us , and that specifies all significant terms , including what is to be purchased , at what price and the approximate timing of the transaction . most of our purchase obligations are related to purchases of information technology services or other service contracts . ( 4 ) excludes $ 12 million of unfunded commitments related to an investment in a limited partnership due to our inability to reasonably estimate the period ( s ) when the limited partnership will request funding . ( 5 ) excludes $ 218 million of liabilities for uncertain tax positions due to our inability to reasonably estimate the period ( s ) when potential cash settlements will be made . financial condition at december 31 , 2015 , our net assets were $ 6.2 billion , representing total assets minus total liabilities , a decrease from $ 6.6 billion at december 31 , 2014 . the decrease was due primarily to share repurchases of $ 1.6 billion , dividends of $ 323 million , and an increase in accumulated other comprehensive loss of $ 289 million related primarily to an increase in the post- retirement benefit obligation , partially offset by net income of $ 1.4 billion for the year ended december 31 , 2015 . working capital increased by $ 77 million from $ 809 million at december 31 , 2014 to $ 886 million at december 31 , 2015 . accumulated other comprehensive loss increased $ 289 million at december 31 , 2015 as compared to december 31 , 2014 , which was primarily driven by the following : 2022 negative net foreign currency translation adjustments of $ 436 million , which are attributable to the strengthening of the u.s . dollar against certain foreign currencies , 2022 a decrease of $ 155 million in net post-retirement benefit obligations , and 2022 net financial instrument losses of $ 8 million . review by segment general we serve clients through the following segments : 2022 risk solutions acts as an advisor and insurance and reinsurance broker , helping clients manage their risks , via consultation , as well as negotiation and placement of insurance risk with insurance carriers through our global distribution network . 2022 hr solutions partners with organizations to solve their most complex benefits , talent and related financial challenges , and improve business performance by designing , implementing , communicating and administering a wide range of human capital , retirement , investment management , health care , compensation and talent management strategies . risk solutions .\n",
      "  {{'operating income', {{'2015', '669789'}, {'2014', '$ 53497'}, {'2013', '328295'}}}, {'revenue', {{'2015', '$ 7426'}, {'2014', '$ 7834'}, {'2013', '$ 7789'}}}, {'operating income', {{'2015', '1506'}, {'2014', '1648'}, {'2013', '1540'}}}, {'operating margin', {{'2015', '20.3% ( 20.3 % )'}, {'2014', '21.0% ( 21.0 % )'}, {'2013', '19.8% ( 19.8 % )'}}}} </body> </html>\n",
      "What is the value for operating income ?\n",
      "['1506', '1648', '1540', '669789', '$ 53497', '328295']\n",
      "***\n",
      "11\n",
      "<html>\n",
      "<body>\n",
      "  ( 2 ) our union-represented mainline employees are covered by agreements that are not currently amendable . joint collective bargaining agreements ( jcbas ) have been reached with post-merger employee groups , except the maintenance , fleet service , stock clerks , maintenance control technicians and maintenance training instructors represented by the twu-iam association who are covered by separate cbas that become amendable in the third quarter of 2018 . until those agreements become amendable , negotiations for jcbas will be conducted outside the traditional rla bargaining process as described above , and , in the meantime , no self-help will be permissible . ( 3 ) among our wholly-owned regional subsidiaries , the psa mechanics and flight attendants have agreements that are now amendable and are engaged in traditional rla negotiations . the envoy passenger service employees are engaged in traditional rla negotiations for an initial cba . the piedmont fleet and passenger service employees have reached a tentative five-year agreement which is subject to membership ratification . for more discussion , see part i , item 1a . risk factors 2013 201cunion disputes , employee strikes and other labor-related disruptions may adversely affect our operations . 201d aircraft fuel our operations and financial results are significantly affected by the availability and price of jet fuel , which is our second largest expense . based on our 2018 forecasted mainline and regional fuel consumption , we estimate that a one cent per gallon increase in aviation fuel price would increase our 2018 annual fuel expense by $ 45 million . the following table shows annual aircraft fuel consumption and costs , including taxes , for our mainline and regional operations for 2017 , 2016 and 2015 ( gallons and aircraft fuel expense in millions ) . year gallons average price per gallon aircraft fuel expense percent of total operating expenses .\n",
      "  {{'2015', {{'gallons', '$ 732333'}, {'average priceper gallon', '450766'}, {'aircraft fuelexpense', '$ 512227'}, {'percent of totaloperating expenses', '$ 456607'}}}, {'2017', {{'gallons', '4352'}, {'average priceper gallon', '$ 1.73'}, {'aircraft fuelexpense', '$ 7510'}, {'percent of totaloperating expenses', '19.7% ( 19.7 % )'}}}, {'2016', {{'gallons', '4347'}, {'average priceper gallon', '1.42'}, {'aircraft fuelexpense', '6180'}, {'percent of totaloperating expenses', '17.7% ( 17.7 % )'}}}, {'2015', {{'gallons', '4323'}, {'average priceper gallon', '1.72'}, {'aircraft fuelexpense', '7456'}, {'percent of totaloperating expenses', '21.4% ( 21.4 % )'}}}} </body> </html>\n",
      "What is the value for 2015 ?\n",
      "['4323', '1.72', '7456', '21.4% ( 21.4 % )', '$ 732333', '450766', '$ 512227', '$ 456607']\n",
      "***\n",
      "12\n",
      "<html>\n",
      "<body>\n",
      "  ( 201cati 201d ) and spectrasite communications , llc ( 201cspectrasite 201d ) . we conduct our international operations through our subsidiary , american tower international , inc. , which in turn conducts operations through its various international operating subsidiaries . our international operations consist primarily of our operations in mexico and brazil , and also include operations in india , which we established in the second half of 2007 . we operate in two business segments : rental and management and network development services . for more information about our business segments , as well as financial information about the geographic areas in which we operate , see item 7 of this annual report under the caption 201cmanagement 2019s discussion and analysis of financial condition and results of operations 201d and note 18 to our consolidated financial statements included in this annual report . products and services rental and management our primary business is our communications site leasing business , which we conduct through our rental and management segment . this segment accounted for approximately 97% ( 97 % ) , 98% ( 98 % ) and 98% ( 98 % ) of our total revenues for the years ended december 31 , 2008 , 2007 and 2006 , respectively . our rental and management segment is comprised of our domestic and international site leasing business , including the operation of wireless communications towers , broadcast communications towers and das networks , as well as rooftop management . wireless communications towers.we are a leading owner and operator of wireless communications towers in the united states , mexico and brazil , based on number of towers and revenue . we also own and operate communications towers in india , where we commenced operations in the second half of 2007 . in addition to owned wireless communications towers , we also manage wireless communications sites for property owners in the united states , mexico and brazil . approximately 92% ( 92 % ) , 91% ( 91 % ) and 91% ( 91 % ) of our rental and management segment revenue was attributable to our wireless communications towers for the years ended december 31 , 2008 , 2007 and 2006 , respectively . as of december 31 , 2008 , our wireless communications tower portfolio included the following : country number of owned sites ( approx ) coverage area united states . . . . . . . . . . . 19400 coverage spans 49 states and the district of columbia ; 90% ( 90 % ) of network provides coverage in the top 100 markets or core areas such as high traffic interstate corridors . mexico . . . . . . . . . . . . . . . . 2500 coverage primarily concentrated in highly populated areas , including mexico city , monterrey , guadalajara and acapulco . brazil . . . . . . . . . . . . . . . . . 1100 coverage primarily concentrated in major metropolitan areas in central and southern brazil , including sao paulo , rio de janeiro , brasilia and curitiba . india . . . . . . . . . . . . . . . . . . 200 initial-phase coverage ( operations established in the second half of 2007 ) . we lease space on our wireless communications towers to customers in a diverse range of wireless industries , including personal communications services , cellular , enhanced specialized mobile radio , wimax . paging and fixed microwave . our major domestic wireless customers include at&amp;t mobility , sprint nextel , verizon wireless ( which completed its merger with alltel in january 2009 ) and t-mobile usa . our major international wireless customers include grupo iusacell ( iusacell celular and unefon in mexico ) , nextel international in mexico and brazil , telefonica ( movistar in mexico and vivo in brazil ) , america movil ( telcel in mexico and claro in brazil ) and telecom italia mobile ( tim ) in brazil . for the year ended december 31 .\n",
      "  {{'mexico', {{'number of owned sites ( approx )', '155663'}, {'coverage area', '303898'}}}, {'united states', {{'number of owned sites ( approx )', '19400'}, {'coverage area', 'coverage spans 49 states and the district of columbia ; 90% ( 90 % ) of network provides coverage in the top 100 markets or core areas such as high traffic interstate corridors .'}}}, {'mexico', {{'number of owned sites ( approx )', '2500'}, {'coverage area', 'coverage primarily concentrated in highly populated areas including mexico city monterrey guadalajara and acapulco .'}}}, {'brazil', {{'number of owned sites ( approx )', '1100'}, {'coverage area', 'coverage primarily concentrated in major metropolitan areas in central and southern brazil including sao paulo rio de janeiro brasilia and curitiba .'}}}, {'india', {{'number of owned sites ( approx )', '200'}, {'coverage area', 'initial-phase coverage ( operations established in the second half of 2007 ) .'}}}} </body> </html>\n",
      "What is the value for mexico ?\n",
      "['2500', 'coverage primarily concentrated in highly populated areas including mexico city monterrey guadalajara and acapulco .', '155663', '303898']\n",
      "***\n",
      "13\n",
      "<html>\n",
      "<body>\n",
      "  ( 3 ) refer to note 2 201csummary of significant accounting principles and practices 201d for further information . 13 . employee benefitsp y defined contribution savings plans aon maintains defined contribution savings plans for the benefit of its employees . the expense recognized for these plans is included in compensation and benefits in the consolidated statements of income . the expense for the significant plans in the u.s. , u.k. , netherlands and canada is as follows ( in millions ) : .\n",
      "  {{'u.s .', {{'2018', '$ 98'}, {'2017', '$ 105'}, {'2016', '$ 121'}}}, {'u.k .', {{'2018', '45'}, {'2017', '43'}, {'2016', '43'}}}, {'u.k .', {{'2018', '$ 957021'}, {'2017', '$ 558114'}, {'2016', '151609'}}}, {'netherlands and canada', {{'2018', '25'}, {'2017', '25'}, {'2016', '27'}}}, {'total', {{'2018', '$ 168'}, {'2017', '$ 173'}, {'2016', '$ 191'}}}} </body> </html>\n",
      "What is the value for u.k . ?\n",
      "['45', '43', '43', '$ 957021', '$ 558114', '151609']\n",
      "***\n",
      "14\n",
      "<html>\n",
      "<body>\n",
      "  ( a ) excludes discontinued operations . ( b ) earnings before interest expense and taxes as a percent of average total assets . ( c ) total debt as a percent of the sum of total debt , shareholders 2019 equity and non-current deferred income tax liabilities . the results above include the impact of the specified items detailed below . additional discussion regarding the specified items in fiscal years 2017 , 2016 and 2015 are provided in item 7 . management 2019s discussion and analysis of financial condition and results of operations. .\n",
      "  {{'total specified items', {{'years ended september 30 2017', '$ 1466'}, {'years ended september 30 2016', '$ 1261'}, {'years ended september 30 2015', '$ 1186'}, {'years ended september 30 2014', '$ 153'}, {'years ended september 30 2013', '$ 442'}}}, {'after-tax impact of specified items', {{'years ended september 30 2017', '$ 971'}, {'years ended september 30 2016', '$ 892'}, {'years ended september 30 2015', '$ 786'}, {'years ended september 30 2014', '$ 101'}, {'years ended september 30 2013', '$ 279'}}}, {'total specified items', {{'years ended september 30 2017', '354919'}, {'years ended september 30 2016', '719733'}, {'years ended september 30 2015', '448734'}, {'years ended september 30 2014', '713178'}, {'years ended september 30 2013', '84590'}}}, {'impact of specified items on diluted earnings per share', {{'years ended september 30 2017', '$ -4.34 ( 4.34 )'}, {'years ended september 30 2016', '$ -4.10 ( 4.10 )'}, {'years ended september 30 2015', '$ -3.79 ( 3.79 )'}, {'years ended september 30 2014', '$ -0.51 ( 0.51 )'}, {'years ended september 30 2013', '$ -1.40 ( 1.40 )'}}}, {'impact of dilution from share issuances', {{'years ended september 30 2017', '$ -0.54 ( 0.54 )'}, {'years ended september 30 2016', '$ 2014'}, {'years ended september 30 2015', '$ -0.02 ( 0.02 )'}, {'years ended september 30 2014', '$ 2014'}, {'years ended september 30 2013', '$ 2014'}}}} </body> </html>\n",
      "What is the value for total specified items ?\n",
      "['$ 1466', '$ 1261', '$ 1186', '$ 153', '$ 442', '354919', '719733', '448734', '713178', '84590']\n",
      "***\n",
      "15\n",
      "<html>\n",
      "<body>\n",
      "  ( a ) the net change in the total valuation allowance for the years ended december 31 , 2018 and 2017 was an increase of $ 12 million and an increase of $ 26 million , respectively . deferred income tax assets and liabilities are recorded in the accompanying consolidated balance sheet under the captions deferred charges and other assets and deferred income taxes . there was a decrease in deferred income tax assets principally relating to the utilization of u.s . federal alternative minimum tax credits as permitted under tax reform . deferred tax liabilities increased primarily due to the tax deferral of the book gain recognized on the transfer of the north american consumer packaging business to a subsidiary of graphic packaging holding company . of the $ 1.5 billion of deferred tax liabilities for forestlands , related installment sales , and investment in subsidiary , $ 884 million is attributable to an investment in subsidiary and relates to a 2006 international paper installment sale of forestlands and $ 538 million is attributable to a 2007 temple-inland installment sale of forestlands ( see note 14 ) . a reconciliation of the beginning and ending amount of unrecognized tax benefits for the years ended december 31 , 2018 , 2017 and 2016 is as follows: .\n",
      "  {{'balance at january 1', {{'2018', '$ -188 ( 188 )'}, {'2017', '$ -98 ( 98 )'}, {'2016', '$ -150 ( 150 )'}}}, {'( additions ) reductions based on tax positions related to current year', {{'2018', '-7 ( 7 )'}, {'2017', '-54 ( 54 )'}, {'2016', '-4 ( 4 )'}}}, {'( additions ) for tax positions of prior years', {{'2018', '618916'}, {'2017', '325744'}, {'2016', '418778'}}}, {'( additions ) for tax positions of prior years', {{'2018', '-37 ( 37 )'}, {'2017', '-40 ( 40 )'}, {'2016', '-3 ( 3 )'}}}, {'reductions for tax positions of prior years', {{'2018', '5'}, {'2017', '4'}, {'2016', '33'}}}, {'settlements', {{'2018', '2'}, {'2017', '6'}, {'2016', '19'}}}, {'expiration of statutes oflimitations', {{'2018', '2'}, {'2017', '1'}, {'2016', '5'}}}, {'currency translation adjustment', {{'2018', '3'}, {'2017', '-7 ( 7 )'}, {'2016', '2'}}}, {'balance at december 31', {{'2018', '$ -220 ( 220 )'}, {'2017', '$ -188 ( 188 )'}, {'2016', '$ -98 ( 98 )'}}}} </body> </html>\n",
      "What is the value for ( additions ) for tax positions of prior years ?\n",
      "['-37 ( 37 )', '-40 ( 40 )', '-3 ( 3 )', '618916', '325744', '418778']\n",
      "***\n",
      "16\n",
      "<html>\n",
      "<body>\n",
      "  ( c ) effective january 1 , 2019 , these assets were transferred from the products pipelines business segment to the natural gas pipelines business segment . ( d ) effective january 1 , 2019 , a small number of terminals were transferred between the products pipelines and terminals business segments . competition our products pipelines 2019 pipeline operations compete against proprietary pipelines owned and operated by major oil companies , other independent products pipelines , trucking and marine transportation firms ( for short-haul movements of products ) and railcars . our products pipelines 2019 terminal operations compete with proprietary terminals owned and operated by major oil companies and other independent terminal operators , and our transmix operations compete with refineries owned by major oil companies and independent transmix facilities . terminals our terminals business segment includes the operations of our refined petroleum product , crude oil , chemical , ethanol and other liquid terminal facilities ( other than those included in the products pipelines business segment ) and all of our petroleum coke , metal and ores facilities . our terminals are located throughout the u.s . and in portions of canada . we believe the location of our facilities and our ability to provide flexibility to customers help attract new and retain existing customers at our terminals and provide expansion opportunities . we often classify our terminal operations based on the handling of either liquids or dry-bulk material products . in addition , terminals 2019 marine operations include jones act-qualified product tankers that provide marine transportation of crude oil , condensate and refined petroleum products between u.s . ports . the following summarizes our terminals business segment assets , as of december 31 , 2018 : number capacity ( mmbbl ) .\n",
      "  {{'liquids terminals ( a )', {{'number', '$ 37609'}, {'capacity ( mmbbl )', '237004'}}}, {'liquids terminals ( a )', {{'number', '52'}, {'capacity ( mmbbl )', '89.6'}}}, {'bulk terminals', {{'number', '34'}, {'capacity ( mmbbl )', '2014'}}}, {'jones act tankers', {{'number', '16'}, {'capacity ( mmbbl )', '5.3'}}}} </body> </html>\n",
      "What is the value for liquids terminals ( a ) ?\n",
      "['52', '89.6', '$ 37609', '237004']\n",
      "***\n",
      "17\n",
      "<html>\n",
      "<body>\n",
      "  ( c ) includes the effects of items not considered in the assessment of the operating performance of our business segments which increased operating profit by $ 230 million , $ 150 million after tax ( $ 0.34 per share ) . also includes expenses of $ 16 million , $ 11 million after tax ( $ 0.03 per share ) for a debt exchange , and a reduction in income tax expense of $ 62 million ( $ 0.14 per share ) resulting from a tax benefit related to claims we filed for additional extraterritorial income exclusion ( eti ) tax benefits . on a combined basis , these items increased earnings by $ 201 million after tax ( $ 0.45 per share ) . ( d ) includes the effects of items not considered in the assessment of the operating performance of our business segments which , on a combined basis , increased operating profit by $ 173 million , $ 113 million after tax ( $ 0.25 per share ) . ( e ) includes the effects of items not considered in the assessment of the operating performance of our business segments which decreased operating profit by $ 61 million , $ 54 million after tax ( $ 0.12 per share ) . also includes a charge of $ 154 million , $ 100 million after tax ( $ 0.22 per share ) for the early repayment of debt , and a reduction in income tax expense resulting from the closure of an internal revenue service examination of $ 144 million ( $ 0.32 per share ) . on a combined basis , these items reduced earnings by $ 10 million after tax ( $ 0.02 per share ) . ( f ) includes the effects of items not considered in the assessment of the operating performance of our business segments which , on a combined basis , decreased operating profit by $ 7 million , $ 6 million after tax ( $ 0.01 per share ) . also includes a charge of $ 146 million , $ 96 million after tax ( $ 0.21 per share ) for the early repayment of debt . ( g ) we define return on invested capital ( roic ) as net earnings plus after-tax interest expense divided by average invested capital ( stockholders 2019 equity plus debt ) , after adjusting stockholders 2019 equity by adding back adjustments related to postretirement benefit plans . we believe that reporting roic provides investors with greater visibility into how effectively we use the capital invested in our operations . we use roic to evaluate multi-year investment decisions and as a long-term performance measure , and also use it as a factor in evaluating management performance under certain of our incentive compensation plans . roic is not a measure of financial performance under generally accepted accounting principles , and may not be defined and calculated by other companies in the same manner . roic should not be considered in isolation or as an alternative to net earnings as an indicator of performance . we calculate roic as follows : ( in millions ) 2007 2006 2005 2004 2003 .\n",
      "  {{'net earnings', {{'2007', '$ 3033'}, {'2006', '$ 2529'}, {'2005', '$ 1825'}, {'2004', '$ 1266'}, {'2003', '$ 1053'}}}, {'interest expense ( multiplied by 65% ( 65 % ) ) 1', {{'2007', '229'}, {'2006', '235'}, {'2005', '241'}, {'2004', '276'}, {'2003', '317'}}}, {'return', {{'2007', '$ 3262'}, {'2006', '$ 2764'}, {'2005', '$ 2066'}, {'2004', '$ 1542'}, {'2003', '$ 1370'}}}, {'average invested capital', {{'2007', '965515'}, {'2006', '$ 347608'}, {'2005', '980945'}, {'2004', '757823'}, {'2003', '555559'}}}, {'average debt2 5', {{'2007', '$ 4416'}, {'2006', '$ 4727'}, {'2005', '$ 5077'}, {'2004', '$ 5932'}, {'2003', '$ 6612'}}}, {'average equity3 5', {{'2007', '7661'}, {'2006', '7686'}, {'2005', '7590'}, {'2004', '7015'}, {'2003', '6170'}}}, {'average benefit plan adjustments3 4 5', {{'2007', '3171'}, {'2006', '2006'}, {'2005', '1545'}, {'2004', '1296'}, {'2003', '1504'}}}, {'average invested capital', {{'2007', '$ 15248'}, {'2006', '$ 14419'}, {'2005', '$ 14212'}, {'2004', '$ 14243'}, {'2003', '$ 14286'}}}, {'return on invested capital', {{'2007', '21.4% ( 21.4 % )'}, {'2006', '19.2% ( 19.2 % )'}, {'2005', '14.5% ( 14.5 % )'}, {'2004', '10.8% ( 10.8 % )'}, {'2003', '9.6% ( 9.6 % )'}}}} </body> </html>\n",
      "What is the value for average invested capital ?\n",
      "['$ 15248', '$ 14419', '$ 14212', '$ 14243', '$ 14286', '965515', '$ 347608', '980945', '757823', '555559']\n",
      "***\n",
      "18\n",
      "<html>\n",
      "<body>\n",
      "  ( v ) bankruptcy , insolvency , or other similar proceedings , ( vi ) our inability to pay debts , ( vii ) judgment defaults of $ 15 million or more , ( viii ) customary erisa and environmental defaults , ( ix ) actual or asserted invalidity of any material provision of the loan documentation or impairment of a portion of the collateral , ( x ) failure of subordinated indebtedness to be validly and sufficiently subordinated , and ( xi ) a change of control . borrowings under the credit agreement accrue interest at variable rates , which depend on the type ( u.s . dollar or canadian dollar ) and duration of the borrowing , plus an applicable margin rate . the weighted-average interest rates , including the effect of interest rate swap agreements , on borrowings outstanding against our senior secured credit facility at december 31 , 2010 and 2009 were 3.97% ( 3.97 % ) and 4.53% ( 4.53 % ) , respectively . borrowings against the senior secured credit facility totaled $ 590.1 million and $ 595.7 million at december 31 , 2010 and 2009 , respectively , of which $ 50.0 million and $ 7.5 million were classified as current maturities , respectively . we also incur commitment fees on the unused portion of our revolving credit facility ranging from 0.38% ( 0.38 % ) to 0.50% ( 0.50 % ) . as part of the consideration for business acquisitions completed during 2010 , 2009 and 2008 , we issued promissory notes totaling approximately $ 5.5 million , $ 1.2 million and $ 1.6 million , respectively . the notes bear interest at annual rates of 2.0% ( 2.0 % ) to 4.0% ( 4.0 % ) , and interest is payable at maturity or in monthly installments . note 6 . derivative instruments and hedging activities we are exposed to market risks , including the effect of changes in interest rates , foreign currency exchange rates and commodity prices . under our current policies , we use derivatives to manage our exposure to variable interest rates on our credit agreement , but we do not attempt to hedge our foreign currency and commodity price risks . we do not hold or issue derivatives for trading purposes . at december 31 , 2010 , we had interest rate swap agreements in place to hedge a portion of the variable interest rate risk on our variable rate term loans , with the objective of minimizing the impact of interest rate fluctuations and stabilizing cash flows . beginning on the effective dates of the interest rate swap agreements , on a monthly basis through the maturity date , we have paid and will pay the fixed interest rate and have received and will receive payment at a variable rate of interest based on the london interbank offered rate ( 201clibor 201d ) on the notional amount . the interest rate swap agreements qualify as cash flow hedges , and we have elected to apply hedge accounting for these swap agreements . as a result , the effective portion of changes in the fair value of the interest rate swap agreements is recorded in other comprehensive income and is reclassified to interest expense when the underlying interest payment has an impact on earnings . the ineffective portion of changes in the fair value of the interest rate swap agreements is reported in interest expense . the following table summarizes the terms of our interest rate swap agreements as of december 31 , 2010: .\n",
      "  {{'$ 200000000', {{'effective date', 'april 14 2008'}, {'maturity date', 'april 14 2011'}, {'fixed interest rate*', '4.99% ( 4.99 % )'}}}, {'$ 200000000', {{'effective date', '$ 708235'}, {'maturity date', '$ 857592'}, {'fixed interest rate*', '860426'}}}, {'$ 250000000', {{'effective date', 'october 14 2010'}, {'maturity date', 'october 14 2015'}, {'fixed interest rate*', '3.81% ( 3.81 % )'}}}, {'$ 100000000', {{'effective date', 'april 14 2011'}, {'maturity date', 'october 14 2013'}, {'fixed interest rate*', '3.34% ( 3.34 % )'}}}} </body> </html>\n",
      "What is the value for $ 200000000 ?\n",
      "['april 14 2008', 'april 14 2011', '4.99% ( 4.99 % )', '$ 708235', '$ 857592', '860426']\n",
      "***\n",
      "19\n",
      "<html>\n",
      "<body>\n",
      "  .\n",
      "  {{'fidelity national information services inc .', {{'12/07', '100.00'}, {'12/08', '70.08'}, {'12/09', '101.93'}, {'12/10', '120.01'}, {'12/11', '117.34'}, {'12/12', '157.38'}}}, {'s&p 500', {{'12/07', '100.00'}, {'12/08', '63.00'}, {'12/09', '79.67'}, {'12/10', '91.67'}, {'12/11', '93.61'}, {'12/12', '108.59'}}}, {'s&p supercap data processing & outsourced services', {{'12/07', '$ 526096'}, {'12/08', '933193'}, {'12/09', '103086'}, {'12/10', '$ 346822'}, {'12/11', '457358'}, {'12/12', '471547'}}}, {'s&p supercap data processing & outsourced services', {{'12/07', '100.00'}, {'12/08', '68.26'}, {'12/09', '99.41'}, {'12/10', '97.33'}, {'12/11', '118.68'}, {'12/12', '151.90'}}}} </body> </html>\n",
      "What is the value for s&p supercap data processing & outsourced services ?\n",
      "['100.00', '68.26', '99.41', '97.33', '118.68', '151.90', '$ 526096', '933193', '103086', '$ 346822', '457358', '471547']\n",
      "***\n",
      "20\n",
      "<html>\n",
      "<body>\n",
      "  .\n",
      "  {{'weighted average fair value of options granted', {{'2008', '$ 18.47'}, {'2007', '$ 33.81'}, {'2006', '$ 20.01'}}}, {'risk-free interest rate', {{'2008', '849147'}, {'2007', '$ 763154'}, {'2006', '$ 642681'}}}, {'expected volatility', {{'2008', '0.3845'}, {'2007', '0.3677'}, {'2006', '0.3534'}}}, {'dividend yield', {{'2008', '3.75% ( 3.75 % )'}, {'2007', '0.76% ( 0.76 % )'}, {'2006', '1.00% ( 1.00 % )'}}}, {'expected life of options in years', {{'2008', '6.0'}, {'2007', '6.0'}, {'2006', '6.3'}}}, {'risk-free interest rate', {{'2008', '2% ( 2 % )'}, {'2007', '4% ( 4 % )'}, {'2006', '5% ( 5 % )'}}}} </body> </html>\n",
      "What is the value for risk-free interest rate ?\n",
      "['2% ( 2 % )', '4% ( 4 % )', '5% ( 5 % )', '849147', '$ 763154', '$ 642681']\n",
      "***\n"
     ]
    }
   ],
   "source": [
    "for index, row in df_with_added_rows.iterrows():\n",
    "    print(index)\n",
    "    print(row['pseudo_json_encoding'])\n",
    "    print(row['question'])\n",
    "    print(row['answer'])\n",
    "    print('***')\n",
    "    if index == 20:\n",
    "        break"
   ]
  },
  {
   "cell_type": "code",
   "execution_count": 15,
   "metadata": {},
   "outputs": [
    {
     "data": {
      "text/plain": [
       "Index(['index', 'html_content', 'question', 'answer', 'pseudo_json_encoding'], dtype='object')"
      ]
     },
     "execution_count": 15,
     "metadata": {},
     "output_type": "execute_result"
    }
   ],
   "source": [
    "df_with_added_rows.columns"
   ]
  },
  {
   "cell_type": "code",
   "execution_count": 16,
   "metadata": {},
   "outputs": [],
   "source": [
    "odf = pd.read_csv('../data/pseudo_json_dataset_V1.csv')"
   ]
  },
  {
   "cell_type": "code",
   "execution_count": 17,
   "metadata": {},
   "outputs": [
    {
     "data": {
      "text/plain": [
       "(19200, 6)"
      ]
     },
     "execution_count": 17,
     "metadata": {},
     "output_type": "execute_result"
    }
   ],
   "source": [
    "merged_df = pd.concat([odf, df_with_added_rows], ignore_index=True)\n",
    "merged_df.shape"
   ]
  },
  {
   "cell_type": "code",
   "execution_count": 18,
   "metadata": {},
   "outputs": [
    {
     "data": {
      "text/plain": [
       "Index(['Unnamed: 0', 'answer', 'html_content', 'index', 'question',\n",
       "       'pseudo_json_encoding'],\n",
       "      dtype='object')"
      ]
     },
     "execution_count": 18,
     "metadata": {},
     "output_type": "execute_result"
    }
   ],
   "source": [
    "merged_df.columns"
   ]
  },
  {
   "cell_type": "code",
   "execution_count": 19,
   "metadata": {},
   "outputs": [],
   "source": [
    "merged_df = merged_df.drop('Unnamed: 0', axis='columns')"
   ]
  },
  {
   "cell_type": "code",
   "execution_count": 20,
   "metadata": {},
   "outputs": [
    {
     "data": {
      "text/plain": [
       "(19200, 5)"
      ]
     },
     "execution_count": 20,
     "metadata": {},
     "output_type": "execute_result"
    }
   ],
   "source": [
    "merged_df.shape"
   ]
  },
  {
   "cell_type": "code",
   "execution_count": 21,
   "metadata": {},
   "outputs": [
    {
     "data": {
      "text/plain": [
       "Index(['answer', 'html_content', 'index', 'question', 'pseudo_json_encoding'], dtype='object')"
      ]
     },
     "execution_count": 21,
     "metadata": {},
     "output_type": "execute_result"
    }
   ],
   "source": [
    "merged_df.columns"
   ]
  },
  {
   "cell_type": "code",
   "execution_count": 24,
   "metadata": {},
   "outputs": [],
   "source": [
    "merged_df = merged_df.sample(frac=1).reset_index(drop=True)"
   ]
  },
  {
   "cell_type": "code",
   "execution_count": 25,
   "metadata": {},
   "outputs": [
    {
     "data": {
      "text/plain": [
       "(19200, 5)"
      ]
     },
     "execution_count": 25,
     "metadata": {},
     "output_type": "execute_result"
    }
   ],
   "source": [
    "merged_df.shape"
   ]
  },
  {
   "cell_type": "code",
   "execution_count": 26,
   "metadata": {},
   "outputs": [
    {
     "data": {
      "text/plain": [
       "Index(['answer', 'html_content', 'index', 'question', 'pseudo_json_encoding'], dtype='object')"
      ]
     },
     "execution_count": 26,
     "metadata": {},
     "output_type": "execute_result"
    }
   ],
   "source": [
    "merged_df.columns"
   ]
  },
  {
   "cell_type": "code",
   "execution_count": 27,
   "metadata": {},
   "outputs": [
    {
     "data": {
      "text/html": [
       "<div>\n",
       "<style scoped>\n",
       "    .dataframe tbody tr th:only-of-type {\n",
       "        vertical-align: middle;\n",
       "    }\n",
       "\n",
       "    .dataframe tbody tr th {\n",
       "        vertical-align: top;\n",
       "    }\n",
       "\n",
       "    .dataframe thead th {\n",
       "        text-align: right;\n",
       "    }\n",
       "</style>\n",
       "<table border=\"1\" class=\"dataframe\">\n",
       "  <thead>\n",
       "    <tr style=\"text-align: right;\">\n",
       "      <th></th>\n",
       "      <th>answer</th>\n",
       "      <th>html_content</th>\n",
       "      <th>index</th>\n",
       "      <th>question</th>\n",
       "      <th>pseudo_json_encoding</th>\n",
       "    </tr>\n",
       "  </thead>\n",
       "  <tbody>\n",
       "    <tr>\n",
       "      <th>0</th>\n",
       "      <td>1.5% ( 1.5 % )</td>\n",
       "      <td>&lt;html&gt;\\n &lt;body&gt;\\n  visa inc . notes to consoli...</td>\n",
       "      <td>1534</td>\n",
       "      <td>What is risk-free rate of return ( 2 ) for 2015 ?</td>\n",
       "      <td>&lt;html&gt;\\n&lt;body&gt;\\n  visa inc . notes to consolid...</td>\n",
       "    </tr>\n",
       "    <tr>\n",
       "      <th>1</th>\n",
       "      <td>3568</td>\n",
       "      <td>&lt;html&gt;\\n &lt;body&gt;\\n  notes to consolidated finan...</td>\n",
       "      <td>988</td>\n",
       "      <td>What is credit funds2 for unfunded commitments ?</td>\n",
       "      <td>&lt;html&gt;\\n&lt;body&gt;\\n  notes to consolidated financ...</td>\n",
       "    </tr>\n",
       "    <tr>\n",
       "      <th>2</th>\n",
       "      <td>28649</td>\n",
       "      <td>&lt;html&gt;\\n &lt;body&gt;\\n  hologic , inc . notes to co...</td>\n",
       "      <td>618</td>\n",
       "      <td>What is net income for 2006 ?</td>\n",
       "      <td>&lt;html&gt;\\n&lt;body&gt;\\n  hologic , inc . notes to con...</td>\n",
       "    </tr>\n",
       "    <tr>\n",
       "      <th>3</th>\n",
       "      <td>$21</td>\n",
       "      <td>&lt;html&gt;\\n &lt;body&gt;\\n  corporate/other corporate/o...</td>\n",
       "      <td>373</td>\n",
       "      <td>What is net credit losses for 2018 ?</td>\n",
       "      <td>&lt;html&gt;\\n&lt;body&gt;\\n  corporate/other corporate/ot...</td>\n",
       "    </tr>\n",
       "    <tr>\n",
       "      <th>4</th>\n",
       "      <td>7450.4</td>\n",
       "      <td>&lt;html&gt;\\n &lt;body&gt;\\n  page 31 of 98 additional de...</td>\n",
       "      <td>1077</td>\n",
       "      <td>What is purchase obligations ( c ) for payment...</td>\n",
       "      <td>&lt;html&gt;\\n&lt;body&gt;\\n  page 31 of 98 additional det...</td>\n",
       "    </tr>\n",
       "  </tbody>\n",
       "</table>\n",
       "</div>"
      ],
      "text/plain": [
       "           answer                                       html_content  index  \\\n",
       "0  1.5% ( 1.5 % )  <html>\\n <body>\\n  visa inc . notes to consoli...   1534   \n",
       "1            3568  <html>\\n <body>\\n  notes to consolidated finan...    988   \n",
       "2           28649  <html>\\n <body>\\n  hologic , inc . notes to co...    618   \n",
       "3             $21  <html>\\n <body>\\n  corporate/other corporate/o...    373   \n",
       "4          7450.4  <html>\\n <body>\\n  page 31 of 98 additional de...   1077   \n",
       "\n",
       "                                            question  \\\n",
       "0  What is risk-free rate of return ( 2 ) for 2015 ?   \n",
       "1   What is credit funds2 for unfunded commitments ?   \n",
       "2                      What is net income for 2006 ?   \n",
       "3               What is net credit losses for 2018 ?   \n",
       "4  What is purchase obligations ( c ) for payment...   \n",
       "\n",
       "                                pseudo_json_encoding  \n",
       "0  <html>\\n<body>\\n  visa inc . notes to consolid...  \n",
       "1  <html>\\n<body>\\n  notes to consolidated financ...  \n",
       "2  <html>\\n<body>\\n  hologic , inc . notes to con...  \n",
       "3  <html>\\n<body>\\n  corporate/other corporate/ot...  \n",
       "4  <html>\\n<body>\\n  page 31 of 98 additional det...  "
      ]
     },
     "execution_count": 27,
     "metadata": {},
     "output_type": "execute_result"
    }
   ],
   "source": [
    "merged_df.head()"
   ]
  },
  {
   "cell_type": "code",
   "execution_count": 28,
   "metadata": {},
   "outputs": [],
   "source": [
    "merged_df.to_csv('../data/pseudo_json_dataset_V2.csv', index=False)"
   ]
  },
  {
   "cell_type": "code",
   "execution_count": null,
   "metadata": {},
   "outputs": [],
   "source": []
  }
 ],
 "metadata": {
  "kernelspec": {
   "display_name": "llmenv",
   "language": "python",
   "name": "python3"
  },
  "language_info": {
   "codemirror_mode": {
    "name": "ipython",
    "version": 3
   },
   "file_extension": ".py",
   "mimetype": "text/x-python",
   "name": "python",
   "nbconvert_exporter": "python",
   "pygments_lexer": "ipython3",
   "version": "3.10.13"
  }
 },
 "nbformat": 4,
 "nbformat_minor": 2
}
