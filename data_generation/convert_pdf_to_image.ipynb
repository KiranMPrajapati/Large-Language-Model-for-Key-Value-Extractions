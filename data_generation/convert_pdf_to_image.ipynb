{
 "cells": [
  {
   "cell_type": "code",
   "execution_count": 19,
   "metadata": {},
   "outputs": [],
   "source": [
    "# import module\n",
    "filename = 'plc_OrderAttachment_039257_plc_Commercial_S24011 V4'\n",
    "from pdf2image import convert_from_path\n",
    " \n",
    " \n",
    "# Store Pdf with convert_from_path function\n",
    "images = convert_from_path(f'../data/images/test/{filename}.pdf')\n",
    " \n",
    "for i in range(len(images)):\n",
    "   \n",
    "      # Save pages as images in the pdf\n",
    "    images[i].save(f'../data/images/{filename}_page'+ str(i) +'.jpg', 'JPEG')\n",
    "    if i == 15:\n",
    "      break"
   ]
  },
  {
   "cell_type": "code",
   "execution_count": null,
   "metadata": {},
   "outputs": [],
   "source": []
  }
 ],
 "metadata": {
  "kernelspec": {
   "display_name": "llmenv",
   "language": "python",
   "name": "python3"
  },
  "language_info": {
   "codemirror_mode": {
    "name": "ipython",
    "version": 3
   },
   "file_extension": ".py",
   "mimetype": "text/x-python",
   "name": "python",
   "nbconvert_exporter": "python",
   "pygments_lexer": "ipython3",
   "version": "3.10.13"
  }
 },
 "nbformat": 4,
 "nbformat_minor": 2
}
