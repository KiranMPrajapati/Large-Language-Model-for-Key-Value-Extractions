{
 "cells": [
  {
   "cell_type": "code",
   "execution_count": 2,
   "metadata": {},
   "outputs": [
    {
     "name": "stderr",
     "output_type": "stream",
     "text": [
      "/home/ubuntu/llm/Large-Language-Model-for-Key-Value-Extractions/.venv/lib/python3.10/site-packages/tqdm/auto.py:21: TqdmWarning: IProgress not found. Please update jupyter and ipywidgets. See https://ipywidgets.readthedocs.io/en/stable/user_install.html\n",
      "  from .autonotebook import tqdm as notebook_tqdm\n",
      "/home/ubuntu/llm/Large-Language-Model-for-Key-Value-Extractions/.venv/lib/python3.10/site-packages/transformers/utils/generic.py:441: UserWarning: torch.utils._pytree._register_pytree_node is deprecated. Please use torch.utils._pytree.register_pytree_node instead.\n",
      "  _torch_pytree._register_pytree_node(\n",
      "/home/ubuntu/llm/Large-Language-Model-for-Key-Value-Extractions/.venv/lib/python3.10/site-packages/transformers/utils/generic.py:309: UserWarning: torch.utils._pytree._register_pytree_node is deprecated. Please use torch.utils._pytree.register_pytree_node instead.\n",
      "  _torch_pytree._register_pytree_node(\n",
      "/home/ubuntu/llm/Large-Language-Model-for-Key-Value-Extractions/.venv/lib/python3.10/site-packages/transformers/utils/generic.py:309: UserWarning: torch.utils._pytree._register_pytree_node is deprecated. Please use torch.utils._pytree.register_pytree_node instead.\n",
      "  _torch_pytree._register_pytree_node(\n"
     ]
    }
   ],
   "source": [
    "import pandas as pd\n",
    "import datasets\n",
    "from bs4 import BeautifulSoup\n",
    "from io import StringIO\n",
    "import csv\n",
    "import torch\n",
    "import difflib\n",
    "from transformers import (\n",
    "    AutoModelForCausalLM,\n",
    "    BitsAndBytesConfig,\n",
    "    AutoTokenizer,\n",
    "    GenerationConfig,\n",
    "    TextStreamer,\n",
    "    pipeline,\n",
    ")\n",
    "\n",
    "\n",
    "from tqdm import tqdm\n",
    "import pandas as pd\n",
    "import re\n",
    "\n",
    "data = pd.read_csv('../data/pseudo_json_dataset_V3_2048.csv')"
   ]
  },
  {
   "cell_type": "code",
   "execution_count": 3,
   "metadata": {},
   "outputs": [],
   "source": [
    "model_id = 'RUCKBReasoning/TableLLM-13b'"
   ]
  },
  {
   "cell_type": "code",
   "execution_count": 4,
   "metadata": {},
   "outputs": [],
   "source": [
    "tokenizer = AutoTokenizer.from_pretrained(model_id)"
   ]
  },
  {
   "cell_type": "code",
   "execution_count": 5,
   "metadata": {},
   "outputs": [
    {
     "name": "stderr",
     "output_type": "stream",
     "text": [
      "Loading checkpoint shards:  50%|█████     | 3/6 [01:50<01:50, 36.85s/it]"
     ]
    }
   ],
   "source": [
    "model = AutoModelForCausalLM.from_pretrained(\n",
    "    model_id, device_map=\"auto\", torch_dtype=torch.float16, load_in_8bit=True\n",
    ")\n",
    "generation_config = GenerationConfig.from_pretrained(model_id)\n",
    "print(generation_config)\n",
    "\n",
    "\n",
    "generation_config.max_new_tokens = 512\n",
    "generation_config.temperature = 0.0001\n",
    "generation_config.do_sample = True\n",
    "streamer = TextStreamer(tokenizer, skip_prompt=True, skip_special_tokens=True)"
   ]
  },
  {
   "cell_type": "code",
   "execution_count": null,
   "metadata": {},
   "outputs": [],
   "source": [
    "llm = pipeline(\n",
    "    \"text-generation\",\n",
    "    model=model,\n",
    "    tokenizer=tokenizer,\n",
    "    return_full_text=True,\n",
    "    generation_config=generation_config,\n",
    "    num_return_sequences=1,\n",
    "    eos_token_id=tokenizer.eos_token_id,\n",
    "    pad_token_id=tokenizer.eos_token_id,\n",
    "    # streamer=streamer,\n",
    ")\n"
   ]
  },
  {
   "cell_type": "code",
   "execution_count": null,
   "metadata": {},
   "outputs": [],
   "source": [
    "def extract(ip):\n",
    "    # Find the index of \"[/INST]\"\n",
    "    index = ip.find(\"[/INST]\")\n",
    "\n",
    "    # Extract the value after \"[/INST]\"\n",
    "    if index != -1:\n",
    "        extracted_value = ip[index + len(\"[/INST]\") + 1:].strip()  # Add 1 to skip the \"]\" character\n",
    "        return extracted_value\n",
    "    else:\n",
    "        print(\"No value found after '[/INST]'\")\n",
    "\n",
    "def extract_second(ip):\n",
    "   # Find the first occurrence of \"[/INST]\"\n",
    "    first_inst_index = ip.find(\"[/INST]\")\n",
    "\n",
    "    # Find the second occurrence of \"[/INST]\" starting from the position after the first one\n",
    "    second_inst_index = ip.find(\"[/INST]\", first_inst_index + len(\"[/INST]\"))\n",
    "\n",
    "    # Extract the value after the second \"[/INST]\"\n",
    "    if second_inst_index != -1:\n",
    "        extracted_value = ip[second_inst_index + len(\"[/INST]\") + 1:].strip()  # Add 1 to skip the \"]\" character\n",
    "        return extracted_value\n",
    "    else:\n",
    "        print(\"Two occurrences of '[/INST]' not found\")\n"
   ]
  },
  {
   "cell_type": "code",
   "execution_count": null,
   "metadata": {},
   "outputs": [],
   "source": [
    "output_df = pd.DataFrame(columns=['csv', 'question', 'answer', 'prediction'])"
   ]
  },
  {
   "cell_type": "code",
   "execution_count": null,
   "metadata": {},
   "outputs": [],
   "source": [
    "def prompt_formatter(csv_data, question):\n",
    "    ip = f\"\"\"[INST]Offer a thorough and accurate solution that directly addresses the Question outlined in the [Question].\n",
    "\n",
    "    ### [Table]\n",
    "    {csv_data}\n",
    "\n",
    "    ### [Question]\n",
    "    {question}\n",
    "\n",
    "    ### [Solution]\n",
    "    [/INST]\"\"\"\n",
    "    return ip "
   ]
  },
  {
   "cell_type": "code",
   "execution_count": null,
   "metadata": {},
   "outputs": [],
   "source": [
    "def twoshot_prompt_formatter(csv_data, question):\n",
    "    ip = f\"\"\"[INST]Offer a thorough and accurate solution that directly addresses the Question outlined in the [Question].\n",
    "\n",
    "    ### [Table]\n",
    "    1,-,2002,2001,2000\n",
    "    2,net sales,$ 5742,$ 5363,$ 7983\n",
    "    3,cost of sales,4139,4128,5817\n",
    "    4,gross margin,$ 1603,$ 1235,$ 2166\n",
    "    5,gross margin percentage,28% ( 28 % ),23% ( 23 % ),27% ( 27 % )\n",
    "\n",
    "\n",
    "    ### [Question]\n",
    "    what is the gross margin in 2002?\n",
    "\n",
    "    ### [Solution]\n",
    "    [/INST] The gross margin in 2002 is $1603.\n",
    "\n",
    "    [INST]Offer a thorough and accurate solution that directly addresses the Question outlined in the [Question].\n",
    "\n",
    "    ### [Table]\n",
    "    {csv_data}\n",
    "\n",
    "    ### [Question]\n",
    "    {question}\n",
    "\n",
    "    ### [Solution]\n",
    "    [/INST]\"\"\"\n",
    "    return ip "
   ]
  },
  {
   "cell_type": "code",
   "execution_count": null,
   "metadata": {},
   "outputs": [],
   "source": [
    "filename = 'tableLLM_output.txt'"
   ]
  },
  {
   "cell_type": "code",
   "execution_count": null,
   "metadata": {},
   "outputs": [
    {
     "ename": "NameError",
     "evalue": "name 'tqdm' is not defined",
     "output_type": "error",
     "traceback": [
      "\u001b[0;31m---------------------------------------------------------------------------\u001b[0m",
      "\u001b[0;31mNameError\u001b[0m                                 Traceback (most recent call last)",
      "Cell \u001b[0;32mIn[1], line 2\u001b[0m\n\u001b[1;32m      1\u001b[0m \u001b[38;5;66;03m# with open(filename, 'w') as file:\u001b[39;00m\n\u001b[0;32m----> 2\u001b[0m \u001b[38;5;28;01mfor\u001b[39;00m i, row \u001b[38;5;129;01min\u001b[39;00m \u001b[43mtqdm\u001b[49m(data[\u001b[38;5;241m10\u001b[39m:\u001b[38;5;241m50\u001b[39m]\u001b[38;5;241m.\u001b[39miterrows()):\n\u001b[1;32m      3\u001b[0m     soup \u001b[38;5;241m=\u001b[39m BeautifulSoup(row[\u001b[38;5;124m'\u001b[39m\u001b[38;5;124mhtml_content\u001b[39m\u001b[38;5;124m'\u001b[39m], \u001b[38;5;124m'\u001b[39m\u001b[38;5;124mhtml.parser\u001b[39m\u001b[38;5;124m'\u001b[39m)\n\u001b[1;32m      5\u001b[0m     \u001b[38;5;66;03m# Find the table\u001b[39;00m\n",
      "\u001b[0;31mNameError\u001b[0m: name 'tqdm' is not defined"
     ]
    }
   ],
   "source": [
    "# with open(filename, 'w') as file:\n",
    "for i, row in tqdm(data[10:50].iterrows()):\n",
    "    soup = BeautifulSoup(row['html_content'], 'html.parser')\n",
    "\n",
    "    # Find the table\n",
    "    table = soup.find('table')\n",
    "    # Open StringIO object for writing\n",
    "    csv_buffer = StringIO()\n",
    "\n",
    "\n",
    "    # Write rows to the StringIO object\n",
    "    writer = csv.writer(csv_buffer)\n",
    "    trows = table.find_all('tr')\n",
    "    for trow in trows:\n",
    "        writer.writerow([cell.get_text() for cell in trow.find_all(['td', 'th'])])\n",
    "\n",
    "\n",
    "    # Get the CSV data as a string\n",
    "    csv_data = csv_buffer.getvalue()\n",
    "\n",
    "    ip = twoshot_prompt_formatter(csv_data, row['question'])\n",
    "\n",
    "    output = llm(ip)[0]['generated_text']\n",
    "    print(i)\n",
    "    print(row['answer'])\n",
    "\n",
    "    pred = extract_second(output) \n",
    "    print(pred)\n",
    "    print('***')\n",
    "    output_df.at[i, 'csv'] = csv_data\n",
    "    output_df.at[i, 'question'] = data.loc[i,'question']\n",
    "    output_df.at[i, 'answer'] = data.loc[i,'answer']\n",
    "    output_df.at[i, 'prediction'] = pred"
   ]
  },
  {
   "cell_type": "code",
   "execution_count": null,
   "metadata": {},
   "outputs": [],
   "source": [
    "output_df.to_csv('test_one_shot.csv', index=False)"
   ]
  },
  {
   "cell_type": "code",
   "execution_count": null,
   "metadata": {},
   "outputs": [
    {
     "data": {
      "text/plain": [
       "11719"
      ]
     },
     "execution_count": 16,
     "metadata": {},
     "output_type": "execute_result"
    },
    {
     "ename": "",
     "evalue": "",
     "output_type": "error",
     "traceback": [
      "\u001b[1;31mThe Kernel crashed while executing code in the current cell or a previous cell. \n",
      "\u001b[1;31mPlease review the code in the cell(s) to identify a possible cause of the failure. \n",
      "\u001b[1;31mClick <a href='https://aka.ms/vscodeJupyterKernelCrash'>here</a> for more info. \n",
      "\u001b[1;31mView Jupyter <a href='command:jupyter.viewOutput'>log</a> for further details."
     ]
    }
   ],
   "source": [
    "\n",
    "    \n",
    "import os\n",
    " \n",
    "# Get the process ID of the current Jupyter Notebook server\n",
    "pid = os.getpid()\n",
    "pid"
   ]
  },
  {
   "cell_type": "code",
   "execution_count": null,
   "metadata": {},
   "outputs": [],
   "source": []
  }
 ],
 "metadata": {
  "kernelspec": {
   "display_name": ".venv",
   "language": "python",
   "name": "python3"
  },
  "language_info": {
   "codemirror_mode": {
    "name": "ipython",
    "version": 3
   },
   "file_extension": ".py",
   "mimetype": "text/x-python",
   "name": "python",
   "nbconvert_exporter": "python",
   "pygments_lexer": "ipython3",
   "version": "3.10.13"
  }
 },
 "nbformat": 4,
 "nbformat_minor": 2
}
