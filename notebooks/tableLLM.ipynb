{
 "cells": [
  {
   "cell_type": "code",
   "execution_count": 1,
   "metadata": {},
   "outputs": [
    {
     "name": "stderr",
     "output_type": "stream",
     "text": [
      "/mnt/gime-extract/miniconda3/envs/llmenv/lib/python3.10/site-packages/tqdm/auto.py:21: TqdmWarning: IProgress not found. Please update jupyter and ipywidgets. See https://ipywidgets.readthedocs.io/en/stable/user_install.html\n",
      "  from .autonotebook import tqdm as notebook_tqdm\n"
     ]
    }
   ],
   "source": [
    "import pandas as pd\n",
    "import datasets\n",
    "from bs4 import BeautifulSoup\n",
    "from io import StringIO\n",
    "import csv\n",
    "import torch\n",
    "import difflib\n",
    "from transformers import (\n",
    "    AutoModelForCausalLM,\n",
    "    BitsAndBytesConfig,\n",
    "    AutoTokenizer,\n",
    "    GenerationConfig,\n",
    "    TextStreamer,\n",
    "    pipeline,\n",
    ")\n",
    "\n",
    "\n",
    "from tqdm import tqdm\n",
    "import pandas as pd\n",
    "import re\n",
    "\n",
    "data = pd.read_csv('../data/pseudo_json_dataset_V3_2048.csv')"
   ]
  },
  {
   "cell_type": "code",
   "execution_count": 2,
   "metadata": {},
   "outputs": [],
   "source": [
    "model_id = 'RUCKBReasoning/TableLLM-7b'\n",
    "tokenizer = AutoTokenizer.from_pretrained(model_id)"
   ]
  },
  {
   "cell_type": "code",
   "execution_count": 3,
   "metadata": {},
   "outputs": [
    {
     "name": "stderr",
     "output_type": "stream",
     "text": [
      "Loading checkpoint shards: 100%|██████████| 3/3 [00:05<00:00,  1.69s/it]\n"
     ]
    },
    {
     "name": "stdout",
     "output_type": "stream",
     "text": [
      "GenerationConfig {\n",
      "  \"bos_token_id\": 1,\n",
      "  \"eos_token_id\": 2\n",
      "}\n",
      "\n"
     ]
    }
   ],
   "source": [
    "model = AutoModelForCausalLM.from_pretrained(\n",
    "    model_id, device_map=\"auto\", torch_dtype=torch.float16,\n",
    ")\n",
    "generation_config = GenerationConfig.from_pretrained(model_id)\n",
    "print(generation_config)\n",
    "\n",
    "\n",
    "generation_config.max_new_tokens = 512\n",
    "generation_config.temperature = 0.0001\n",
    "generation_config.do_sample = True\n",
    "streamer = TextStreamer(tokenizer, skip_prompt=True, skip_special_tokens=True)"
   ]
  },
  {
   "cell_type": "code",
   "execution_count": 4,
   "metadata": {},
   "outputs": [],
   "source": [
    "llm = pipeline(\n",
    "    \"text-generation\",\n",
    "    model=model,\n",
    "    tokenizer=tokenizer,\n",
    "    return_full_text=True,\n",
    "    generation_config=generation_config,\n",
    "    num_return_sequences=1,\n",
    "    eos_token_id=tokenizer.eos_token_id,\n",
    "    pad_token_id=tokenizer.eos_token_id,\n",
    "    # streamer=streamer,\n",
    ")\n"
   ]
  },
  {
   "cell_type": "code",
   "execution_count": 5,
   "metadata": {},
   "outputs": [],
   "source": [
    "def extract(ip):\n",
    "    # Find the index of \"[/INST]\"\n",
    "    index = ip.find(\"[/INST]\")\n",
    "\n",
    "    # Extract the value after \"[/INST]\"\n",
    "    if index != -1:\n",
    "        extracted_value = ip[index + len(\"[/INST]\") + 1:].strip()  # Add 1 to skip the \"]\" character\n",
    "        return extracted_value\n",
    "    else:\n",
    "        print(\"No value found after '[/INST]'\")\n",
    "\n",
    "def extract_second(ip):\n",
    "   # Find the first occurrence of \"[/INST]\"\n",
    "    first_inst_index = ip.find(\"[/INST]\")\n",
    "\n",
    "    # Find the second occurrence of \"[/INST]\" starting from the position after the first one\n",
    "    second_inst_index = ip.find(\"[/INST]\", first_inst_index + len(\"[/INST]\"))\n",
    "\n",
    "    # Extract the value after the second \"[/INST]\"\n",
    "    if second_inst_index != -1:\n",
    "        extracted_value = ip[second_inst_index + len(\"[/INST]\") + 1:].strip()  # Add 1 to skip the \"]\" character\n",
    "        return extracted_value\n",
    "    else:\n",
    "        print(\"Two occurrences of '[/INST]' not found\")\n"
   ]
  },
  {
   "cell_type": "code",
   "execution_count": 6,
   "metadata": {},
   "outputs": [],
   "source": [
    "output_df = pd.DataFrame(columns=['csv', 'question', 'answer', 'prediction'])"
   ]
  },
  {
   "cell_type": "code",
   "execution_count": 7,
   "metadata": {},
   "outputs": [],
   "source": [
    "def prompt_formatter(csv_data, question):\n",
    "    ip = f\"\"\"[INST]Offer a thorough and accurate solution that directly addresses the Question outlined in the [Question]. You have to only give extract the exact answer to the user.\n",
    "\n",
    "    ### [Table]\n",
    "    {csv_data}\n",
    "\n",
    "    ### [Question]\n",
    "    {question}\n",
    "\n",
    "    ### [Solution]\n",
    "    [/INST]\"\"\"\n",
    "    return ip "
   ]
  },
  {
   "cell_type": "code",
   "execution_count": 8,
   "metadata": {},
   "outputs": [],
   "source": [
    "def twoshot_prompt_formatter(csv_data, question):\n",
    "    ip = f\"\"\"[INST]Offer a thorough and accurate solution that directly addresses the Question outlined in the [Question].\n",
    "\n",
    "    ### [Table]\n",
    "    1,-,2002,2001,2000\n",
    "    2,net sales,$ 5742,$ 5363,$ 7983\n",
    "    3,cost of sales,4139,4128,5817\n",
    "    4,gross margin,$ 1603,$ 1235,$ 2166\n",
    "    5,gross margin percentage,28% ( 28 % ),23% ( 23 % ),27% ( 27 % )\n",
    "\n",
    "\n",
    "    ### [Question]\n",
    "    what is the gross margin in 2002?\n",
    "\n",
    "    ### [Solution]\n",
    "    [/INST] $1603.\n",
    "\n",
    "    [INST]Offer a thorough and accurate solution that directly addresses the Question outlined in the [Question].\n",
    "\n",
    "    ### [Table]\n",
    "    {csv_data}\n",
    "\n",
    "    ### [Question]\n",
    "    {question}\n",
    "\n",
    "    ### [Solution]\n",
    "    [/INST]\"\"\"\n",
    "    return ip "
   ]
  },
  {
   "cell_type": "code",
   "execution_count": 9,
   "metadata": {},
   "outputs": [
    {
     "name": "stderr",
     "output_type": "stream",
     "text": [
      "1it [02:07, 127.95s/it]"
     ]
    },
    {
     "name": "stdout",
     "output_type": "stream",
     "text": [
      "10\n",
      "193.3\n",
      "The table shows the global payments data for May 31, 2005. The gross margin for that date is $193.30. Therefore, the answer to the question is $193.30.\n",
      "***\n"
     ]
    },
    {
     "name": "stderr",
     "output_type": "stream",
     "text": [
      "2it [04:15, 127.79s/it]"
     ]
    },
    {
     "name": "stdout",
     "output_type": "stream",
     "text": [
      "11\n",
      "39\n",
      "To find the total for 2010, we need to look at the \"total (in $ millions)\" column in the table. From the given table, we can see that the total for 2010 is $39 million.\n",
      "***\n"
     ]
    },
    {
     "name": "stderr",
     "output_type": "stream",
     "text": [
      "3it [05:26, 101.88s/it]"
     ]
    },
    {
     "name": "stdout",
     "output_type": "stream",
     "text": [
      "12\n",
      "$ -\n",
      "The credit facilities [a] for amount of commitment expiration per period after 2014 is $1900.\n",
      "***\n"
     ]
    },
    {
     "name": "stderr",
     "output_type": "stream",
     "text": [
      "4it [07:19, 106.12s/it]"
     ]
    },
    {
     "name": "stdout",
     "output_type": "stream",
     "text": [
      "13\n",
      "3.4% ( 3.4 % )\n",
      "To determine the core price for 2006, we need to refer to the table provided.\n",
      "\n",
      "According to the table, the core price for 2006 is $2.4.\n",
      "***\n"
     ]
    },
    {
     "name": "stderr",
     "output_type": "stream",
     "text": [
      "5it [08:05, 84.69s/it] "
     ]
    },
    {
     "name": "stdout",
     "output_type": "stream",
     "text": [
      "14\n",
      "['-86 ( 86 )' '$ 56.53' '$ 999343' '$ 926512']\n",
      "The value for canceled in the table is $999343.\n",
      "***\n"
     ]
    },
    {
     "name": "stderr",
     "output_type": "stream",
     "text": [
      "6it [09:04, 75.82s/it]"
     ]
    },
    {
     "name": "stdout",
     "output_type": "stream",
     "text": [
      "15\n",
      "2.3\n",
      "The weighted average dilutive effect of equity awards for 2018 is 2.3.\n",
      "***\n"
     ]
    },
    {
     "name": "stderr",
     "output_type": "stream",
     "text": [
      "7it [10:03, 70.15s/it]"
     ]
    },
    {
     "name": "stdout",
     "output_type": "stream",
     "text": [
      "16\n",
      "$311\n",
      "According to the table, the interest and dividend income for 2010 is $311.\n",
      "***\n"
     ]
    },
    {
     "name": "stderr",
     "output_type": "stream",
     "text": [
      "8it [11:11, 69.49s/it]"
     ]
    },
    {
     "name": "stdout",
     "output_type": "stream",
     "text": [
      "17\n",
      "$24490\n",
      "The cash cash equivalents and marketable securities for 2008 is $24490.\n",
      "***\n"
     ]
    },
    {
     "name": "stderr",
     "output_type": "stream",
     "text": [
      "9it [14:52, 116.96s/it]"
     ]
    },
    {
     "name": "stdout",
     "output_type": "stream",
     "text": [
      "18\n",
      "$77.15\n",
      "To find the average price paid per share in October 2017, we can refer to the table provided. \n",
      "\n",
      "In the table, the average price paid per share is listed under the \"october 2017\" column. The value in this column is $77.15.\n",
      "\n",
      "Therefore, the average price paid per share in October 2017 is $77.15.\n",
      "***\n"
     ]
    },
    {
     "ename": "",
     "evalue": "",
     "output_type": "error",
     "traceback": [
      "\u001b[1;31mThe Kernel crashed while executing code in the the current cell or a previous cell. Please review the code in the cell(s) to identify a possible cause of the failure. Click <a href='https://aka.ms/vscodeJupyterKernelCrash'>here</a> for more info. View Jupyter <a href='command:jupyter.viewOutput'>log</a> for further details."
     ]
    }
   ],
   "source": [
    "# with open(filename, 'w') as file:\n",
    "for i, row in tqdm(data[10:50].iterrows()):\n",
    "    soup = BeautifulSoup(row['html_content'], 'html.parser')\n",
    "\n",
    "    # Find the table\n",
    "    table = soup.find('table')\n",
    "    # Open StringIO object for writing\n",
    "    csv_buffer = StringIO()\n",
    "\n",
    "\n",
    "    # Write rows to the StringIO object\n",
    "    writer = csv.writer(csv_buffer)\n",
    "    trows = table.find_all('tr')\n",
    "    for trow in trows:\n",
    "        writer.writerow([cell.get_text() for cell in trow.find_all(['td', 'th'])])\n",
    "\n",
    "\n",
    "    # Get the CSV data as a string\n",
    "    csv_data = csv_buffer.getvalue()\n",
    "\n",
    "    ip = twoshot_prompt_formatter(csv_data, row['question'])\n",
    "\n",
    "    output = llm(ip)[0]['generated_text']\n",
    "    print(i)\n",
    "    print(row['answer'])\n",
    "\n",
    "    pred = extract_second(output) \n",
    "    print(pred)\n",
    "    print('***')\n",
    "    output_df.at[i, 'csv'] = csv_data\n",
    "    output_df.at[i, 'question'] = data.loc[i,'question']\n",
    "    output_df.at[i, 'answer'] = data.loc[i,'answer']\n",
    "    output_df.at[i, 'prediction'] = pred"
   ]
  },
  {
   "cell_type": "code",
   "execution_count": null,
   "metadata": {},
   "outputs": [
    {
     "ename": "NameError",
     "evalue": "name 'output_df' is not defined",
     "output_type": "error",
     "traceback": [
      "\u001b[0;31m---------------------------------------------------------------------------\u001b[0m",
      "\u001b[0;31mNameError\u001b[0m                                 Traceback (most recent call last)",
      "Cell \u001b[0;32mIn[4], line 1\u001b[0m\n\u001b[0;32m----> 1\u001b[0m \u001b[43moutput_df\u001b[49m\u001b[38;5;241m.\u001b[39mto_csv(\u001b[38;5;124m'\u001b[39m\u001b[38;5;124mone_shot_test_v1.csv\u001b[39m\u001b[38;5;124m'\u001b[39m, index\u001b[38;5;241m=\u001b[39m\u001b[38;5;28;01mFalse\u001b[39;00m)\n",
      "\u001b[0;31mNameError\u001b[0m: name 'output_df' is not defined"
     ]
    },
    {
     "ename": "",
     "evalue": "",
     "output_type": "error",
     "traceback": [
      "\u001b[1;31mThe Kernel crashed while executing code in the the current cell or a previous cell. Please review the code in the cell(s) to identify a possible cause of the failure. Click <a href='https://aka.ms/vscodeJupyterKernelCrash'>here</a> for more info. View Jupyter <a href='command:jupyter.viewOutput'>log</a> for further details."
     ]
    }
   ],
   "source": [
    "output_df.to_csv('one_shot_test_v1.csv', index=False)"
   ]
  },
  {
   "cell_type": "code",
   "execution_count": null,
   "metadata": {},
   "outputs": [
    {
     "data": {
      "text/plain": [
       "11719"
      ]
     },
     "execution_count": 16,
     "metadata": {},
     "output_type": "execute_result"
    },
    {
     "ename": "",
     "evalue": "",
     "output_type": "error",
     "traceback": [
      "\u001b[1;31mThe Kernel crashed while executing code in the current cell or a previous cell. \n",
      "\u001b[1;31mPlease review the code in the cell(s) to identify a possible cause of the failure. \n",
      "\u001b[1;31mClick <a href='https://aka.ms/vscodeJupyterKernelCrash'>here</a> for more info. \n",
      "\u001b[1;31mView Jupyter <a href='command:jupyter.viewOutput'>log</a> for further details."
     ]
    }
   ],
   "source": [
    "\n",
    "    \n",
    "import os\n",
    " \n",
    "# Get the process ID of the current Jupyter Notebook server\n",
    "pid = os.getpid()\n",
    "pid"
   ]
  },
  {
   "cell_type": "code",
   "execution_count": null,
   "metadata": {},
   "outputs": [],
   "source": []
  }
 ],
 "metadata": {
  "kernelspec": {
   "display_name": ".venv",
   "language": "python",
   "name": "python3"
  },
  "language_info": {
   "codemirror_mode": {
    "name": "ipython",
    "version": 3
   },
   "file_extension": ".py",
   "mimetype": "text/x-python",
   "name": "python",
   "nbconvert_exporter": "python",
   "pygments_lexer": "ipython3",
   "version": "3.10.13"
  }
 },
 "nbformat": 4,
 "nbformat_minor": 2
}
