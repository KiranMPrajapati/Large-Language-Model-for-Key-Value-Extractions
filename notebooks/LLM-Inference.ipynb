{
 "cells": [
  {
   "cell_type": "code",
   "execution_count": null,
   "id": "5d933158-8d5a-44d9-8011-be0e90e4eb3f",
   "metadata": {},
   "outputs": [],
   "source": [
    "import torch\n",
    "from transformers import (\n",
    "    AutoModelForCausalLM,\n",
    "    AutoTokenizer,\n",
    "    GenerationConfig,\n",
    "    TextStreamer,\n",
    "    pipeline,\n",
    ")\n",
    "\n",
    "MODEL_NAME = \"Open-Orca/Mistral-7B-OpenOrca\"\n",
    "\n",
    "tokenizer = AutoTokenizer.from_pretrained(MODEL_NAME)\n",
    "model = AutoModelForCausalLM.from_pretrained(\n",
    "    MODEL_NAME, device_map=\"auto\", torch_dtype=torch.float16, load_in_8bit=True\n",
    ")\n",
    "generation_config = GenerationConfig.from_pretrained(MODEL_NAME)\n",
    "print(generation_config)\n",
    "generation_config.max_new_tokens = 512\n",
    "generation_config.temperature = 0.0001\n",
    "generation_config.do_sample = True"
   ]
  },
  {
   "cell_type": "code",
   "execution_count": null,
   "id": "126dd986-9f37-403b-9389-a7ba1bad37b0",
   "metadata": {},
   "outputs": [],
   "source": [
    "streamer = TextStreamer(tokenizer, skip_prompt=True, skip_special_tokens=True)"
   ]
  },
  {
   "cell_type": "code",
   "execution_count": null,
   "id": "706f886a-1cb6-4f60-b3b0-51b8d23989f6",
   "metadata": {},
   "outputs": [],
   "source": [
    "llm = pipeline(\n",
    "    \"text-generation\",\n",
    "    model=model,\n",
    "    tokenizer=tokenizer,\n",
    "    return_full_text=True,\n",
    "    generation_config=generation_config,\n",
    "    num_return_sequences=1,\n",
    "    eos_token_id=tokenizer.eos_token_id,\n",
    "    pad_token_id=tokenizer.eos_token_id,\n",
    "    # streamer=streamer,\n",
    ")"
   ]
  },
  {
   "cell_type": "code",
   "execution_count": null,
   "id": "b98ff12c-25f7-4e90-8947-17e3cce3b826",
   "metadata": {},
   "outputs": [],
   "source": [
    "def format_prompt(prompt):\n",
    "    input_prompt =f\"\"\"<s> [INST] {addon_prompt}\\n{system_prompt}\\n\n",
    "    {prompt}\n",
    "    [/INST]\n",
    "    \"\"\"\n",
    "    return input_prompt"
   ]
  },
  {
   "cell_type": "markdown",
   "id": "234e0915-51f2-4d1f-954d-8e4880eb76cb",
   "metadata": {},
   "source": [
    "### For invoices"
   ]
  },
  {
   "cell_type": "code",
   "execution_count": null,
   "id": "2dc6208d-9e8d-4868-9bbe-8385f5eb26e1",
   "metadata": {},
   "outputs": [],
   "source": [
    "prompt = \"\"\"{inference prompt}\"\"\" "
   ]
  },
  {
   "cell_type": "code",
   "execution_count": null,
   "id": "b0a9a0d6-6122-4927-b448-0d588240ed76",
   "metadata": {},
   "outputs": [],
   "source": [
    "system_prompt = \"\"\"{Add question}\"\"\"\n",
    "\n",
    "addon_prompt = \"\"\"You are a {task}. {Add addon prompt}. \n",
    "                If the answer is not available, please explicitly state that the information is not known or accessible.\"\"\""
   ]
  },
  {
   "cell_type": "code",
   "execution_count": null,
   "id": "74dde71f-5a05-4551-9916-48e57287a686",
   "metadata": {},
   "outputs": [],
   "source": [
    "%%time\n",
    "llm(format_prompt(prompt))"
   ]
  }
 ],
 "metadata": {
  "kernelspec": {
   "display_name": "Python 3 (ipykernel)",
   "language": "python",
   "name": "python3"
  },
  "language_info": {
   "codemirror_mode": {
    "name": "ipython",
    "version": 3
   },
   "file_extension": ".py",
   "mimetype": "text/x-python",
   "name": "python",
   "nbconvert_exporter": "python",
   "pygments_lexer": "ipython3",
   "version": "3.9.18"
  }
 },
 "nbformat": 4,
 "nbformat_minor": 5
}
