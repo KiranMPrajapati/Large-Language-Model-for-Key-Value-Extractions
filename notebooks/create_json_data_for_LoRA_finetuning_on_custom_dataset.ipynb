{
 "cells": [
  {
   "cell_type": "code",
   "execution_count": null,
   "id": "4b764f1d-df6c-4d56-9ad5-dd0a21a61b48",
   "metadata": {},
   "outputs": [],
   "source": [
    "import pandas as pd"
   ]
  },
  {
   "cell_type": "code",
   "execution_count": null,
   "id": "5be8db40-6c97-4598-8a38-b3d40869a346",
   "metadata": {},
   "outputs": [],
   "source": [
    "df = pd.read_csv(\"../data/datasets.csv\")\n",
    "df.head()"
   ]
  },
  {
   "cell_type": "code",
   "execution_count": null,
   "id": "1672ed51-f478-4b8d-b48e-a52fa1ed08e2",
   "metadata": {},
   "outputs": [],
   "source": [
    "system_prompt = \"\"\"{Add question}\"\"\"\n",
    "\n",
    "addon_prompt = \"\"\"You are a {task}. {Add addon prompt}. \n",
    "                If the answer is not available, please explicitly state that the information is not known or accessible.\"\"\"\n",
    "\n",
    "dataset_data = [\n",
    "    {\n",
    "        \"INSTRUCTION\": f\"{addon_prompt}\\n{system_prompt}\",\n",
    "        \"INPUT\": row_dict[\"input\"],\n",
    "        \"RESPONSE \": row_dict[\"Response\"]\n",
    "    }\n",
    "    for row_dict in df.to_dict(orient=\"records\")\n",
    "]\n",
    " \n",
    "dataset_data[0]"
   ]
  },
  {
   "cell_type": "code",
   "execution_count": null,
   "id": "39ff95c2-0b0b-4a74-8de1-71851f6497af",
   "metadata": {},
   "outputs": [],
   "source": [
    "import json\n",
    "with open(\"../data/dataset.json\", \"w\") as f:\n",
    "   json.dump(dataset_data, f)"
   ]
  },
  {
   "cell_type": "code",
   "execution_count": null,
   "id": "a5a32ab4-0c5a-4f5d-8a22-1737107b43f6",
   "metadata": {},
   "outputs": [],
   "source": [
    "df = pd.read_csv(\"../data/eval_datasets.csv\")\n",
    "df.head()"
   ]
  },
  {
   "cell_type": "code",
   "execution_count": null,
   "id": "05d44c2c-9103-45b4-90aa-ed31b65a8b99",
   "metadata": {},
   "outputs": [],
   "source": [
    "system_prompt = \"What is the value for Document Type, Recording Company, Recording Document Number, Recording Document Date, APN, Party Name, and Lot No for the given document? Print in JSON format only. \"\n",
    "\n",
    "addon_prompt = \"You are a question answering machine. I will give you a document you will have to perform question answering related to that document. If the answer is available, provide a concise and accurate response. If the answer is not available, please explicitly state that the information is not known or accessible.\"\n",
    "\n",
    "dataset_data = [\n",
    "    {\n",
    "        \"INSTRUCTION\": f\"{addon_prompt}\\n{system_prompt}\",\n",
    "        \"INPUT\": row_dict[\"HTML INPUT\"],\n",
    "        \"RESPONSE \": row_dict[\"Response\"]\n",
    "    }\n",
    "    for row_dict in df.to_dict(orient=\"records\")\n",
    "]\n",
    " \n",
    "dataset_data[0]"
   ]
  },
  {
   "cell_type": "code",
   "execution_count": null,
   "id": "2e50e574-fda0-4950-9cd2-b4ff071146d9",
   "metadata": {},
   "outputs": [],
   "source": [
    "df.shape"
   ]
  },
  {
   "cell_type": "code",
   "execution_count": null,
   "id": "66c84e81-629f-470c-9a31-0ce0006d8f61",
   "metadata": {},
   "outputs": [],
   "source": [
    "import json\n",
    "with open(\"../data/all_train_data.json\", \"w\") as f:\n",
    "   json.dump(dataset_data, f)"
   ]
  },
  {
   "cell_type": "code",
   "execution_count": null,
   "id": "146e6f41-732c-4e60-82aa-a51e37af0cbe",
   "metadata": {},
   "outputs": [],
   "source": []
  }
 ],
 "metadata": {
  "kernelspec": {
   "display_name": "Python 3 (ipykernel)",
   "language": "python",
   "name": "python3"
  },
  "language_info": {
   "codemirror_mode": {
    "name": "ipython",
    "version": 3
   },
   "file_extension": ".py",
   "mimetype": "text/x-python",
   "name": "python",
   "nbconvert_exporter": "python",
   "pygments_lexer": "ipython3",
   "version": "3.9.18"
  }
 },
 "nbformat": 4,
 "nbformat_minor": 5
}
